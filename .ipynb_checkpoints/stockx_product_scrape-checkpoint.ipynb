{
 "cells": [
  {
   "cell_type": "markdown",
   "metadata": {},
   "source": [
    "# Testing my code to scrape a 5 nike trainers from Stock X's website\n",
    "\n",
    "To test my code and find the best way to scrape the information I require."
   ]
  },
  {
   "cell_type": "markdown",
   "metadata": {},
   "source": [
    "# Imports and Functions"
   ]
  },
  {
   "cell_type": "code",
   "execution_count": 1,
   "metadata": {
    "ExecuteTime": {
     "end_time": "2020-03-25T23:28:38.420188Z",
     "start_time": "2020-03-25T23:28:37.473038Z"
    }
   },
   "outputs": [],
   "source": [
    "import numpy as np\n",
    "import pandas as pd\n",
    "from selenium import webdriver\n",
    "\n",
    "from time import time, sleep\n",
    "from selenium.webdriver.common.by import By\n",
    "import re\n",
    "from bs4 import BeautifulSoup\n",
    "from tqdm.notebook import tqdm\n",
    "from IPython.display import Image, HTML\n",
    "pd.set_option('display.max_colwidth', None)"
   ]
  },
  {
   "cell_type": "code",
   "execution_count": 34,
   "metadata": {
    "ExecuteTime": {
     "end_time": "2020-03-25T23:07:30.124916Z",
     "start_time": "2020-03-25T23:07:30.120086Z"
    }
   },
   "outputs": [],
   "source": [
    "def model_creator(type1,type2):\n",
    "    \"\"\"Creating my type_3 column which will dictate the category the shoe will sit in\n",
    "    \"\"\"\n",
    "    if ('other' not in type1.lower()) & ('other' not in type2.lower()):\n",
    "        return type1 +' '+ type2\n",
    "    elif 'other' not in type1.lower():\n",
    "        return type1\n",
    "    else:\n",
    "        return type2"
   ]
  },
  {
   "cell_type": "code",
   "execution_count": 44,
   "metadata": {
    "ExecuteTime": {
     "end_time": "2020-03-25T23:24:09.611040Z",
     "start_time": "2020-03-25T23:24:09.606862Z"
    }
   },
   "outputs": [],
   "source": [
    "def path_to_image_html(path):\n",
    "    \"\"\"\n",
    "    Allows html image links to be seen within pandas\n",
    "    \"\"\"\n",
    "    return '<img src=\"'+ path + '\"/>'"
   ]
  },
  {
   "cell_type": "code",
   "execution_count": 2,
   "metadata": {
    "ExecuteTime": {
     "end_time": "2020-03-25T23:03:47.981664Z",
     "start_time": "2020-03-25T23:03:47.853258Z"
    }
   },
   "outputs": [
    {
     "name": "stdout",
     "output_type": "stream",
     "text": [
      "\u001b[31mchromedriver\u001b[m\u001b[m                stockx_product_scrape.ipynb\r\n",
      "stockx_link.csv             test.csv\r\n",
      "stockx_nike_scrape.ipynb\r\n"
     ]
    }
   ],
   "source": [
    "!ls"
   ]
  },
  {
   "cell_type": "code",
   "execution_count": 2,
   "metadata": {
    "ExecuteTime": {
     "end_time": "2020-03-25T23:28:39.748525Z",
     "start_time": "2020-03-25T23:28:39.737043Z"
    }
   },
   "outputs": [],
   "source": [
    "stockx = pd.read_csv('stockx_link.csv',index_col=0)"
   ]
  },
  {
   "cell_type": "code",
   "execution_count": 3,
   "metadata": {
    "ExecuteTime": {
     "end_time": "2020-03-25T23:28:40.363835Z",
     "start_time": "2020-03-25T23:28:40.356619Z"
    }
   },
   "outputs": [],
   "source": [
    "# check for any duplicates in the first scrape\n",
    "stockx['duplicate'] = stockx.duplicated()"
   ]
  },
  {
   "cell_type": "code",
   "execution_count": 4,
   "metadata": {
    "ExecuteTime": {
     "end_time": "2020-03-25T23:28:41.968659Z",
     "start_time": "2020-03-25T23:28:41.951399Z"
    }
   },
   "outputs": [
    {
     "data": {
      "text/plain": [
       "False    946\n",
       "True     352\n",
       "Name: duplicate, dtype: int64"
      ]
     },
     "execution_count": 4,
     "metadata": {},
     "output_type": "execute_result"
    }
   ],
   "source": [
    "# 352 duplicate links which I will drop off\n",
    "stockx.duplicate.value_counts()"
   ]
  },
  {
   "cell_type": "code",
   "execution_count": 5,
   "metadata": {
    "ExecuteTime": {
     "end_time": "2020-03-25T23:28:43.431940Z",
     "start_time": "2020-03-25T23:28:43.424868Z"
    }
   },
   "outputs": [],
   "source": [
    "stockx_v2 = stockx[stockx.duplicate == False]"
   ]
  },
  {
   "cell_type": "code",
   "execution_count": 6,
   "metadata": {
    "ExecuteTime": {
     "end_time": "2020-03-25T23:28:50.836953Z",
     "start_time": "2020-03-25T23:28:50.827459Z"
    }
   },
   "outputs": [
    {
     "data": {
      "text/plain": [
       "946"
      ]
     },
     "execution_count": 6,
     "metadata": {},
     "output_type": "execute_result"
    }
   ],
   "source": [
    "# just checking all values are unique\n",
    "stockx_v2.iloc[:,0].nunique()"
   ]
  },
  {
   "cell_type": "code",
   "execution_count": 7,
   "metadata": {
    "ExecuteTime": {
     "end_time": "2020-03-25T23:28:51.262677Z",
     "start_time": "2020-03-25T23:28:51.257879Z"
    }
   },
   "outputs": [],
   "source": [
    "stockx_v2 = stockx_v2.drop(columns=['duplicate'])"
   ]
  },
  {
   "cell_type": "code",
   "execution_count": 8,
   "metadata": {
    "ExecuteTime": {
     "end_time": "2020-03-25T23:28:51.692164Z",
     "start_time": "2020-03-25T23:28:51.686755Z"
    }
   },
   "outputs": [],
   "source": [
    "stockx_v2.reset_index(drop=True,inplace=True)"
   ]
  },
  {
   "cell_type": "code",
   "execution_count": 10,
   "metadata": {
    "ExecuteTime": {
     "end_time": "2020-03-25T23:03:55.812801Z",
     "start_time": "2020-03-25T23:03:55.805163Z"
    },
    "scrolled": true
   },
   "outputs": [
    {
     "data": {
      "text/plain": [
       "'https://stockx.com/nike-ld-waffle-sacai-white-nylon'"
      ]
     },
     "execution_count": 10,
     "metadata": {},
     "output_type": "execute_result"
    }
   ],
   "source": [
    "stockx_v2.iloc[0,0]"
   ]
  },
  {
   "cell_type": "code",
   "execution_count": 39,
   "metadata": {
    "ExecuteTime": {
     "end_time": "2020-03-25T23:21:28.379194Z",
     "start_time": "2020-03-25T23:21:28.372136Z"
    }
   },
   "outputs": [
    {
     "data": {
      "text/plain": [
       "(946, 1)"
      ]
     },
     "execution_count": 39,
     "metadata": {},
     "output_type": "execute_result"
    }
   ],
   "source": [
    "stockx_v2.shape"
   ]
  },
  {
   "cell_type": "code",
   "execution_count": 9,
   "metadata": {
    "ExecuteTime": {
     "end_time": "2020-03-25T23:29:07.226319Z",
     "start_time": "2020-03-25T23:29:07.214661Z"
    }
   },
   "outputs": [],
   "source": [
    "stockx_v2.to_csv('stockx_v2.csv')"
   ]
  },
  {
   "cell_type": "markdown",
   "metadata": {},
   "source": [
    "# Test scrape"
   ]
  },
  {
   "cell_type": "code",
   "execution_count": 14,
   "metadata": {
    "ExecuteTime": {
     "end_time": "2020-03-25T23:04:10.515219Z",
     "start_time": "2020-03-25T23:04:10.502090Z"
    }
   },
   "outputs": [],
   "source": [
    "test = stockx_v2.head().copy()"
   ]
  },
  {
   "cell_type": "code",
   "execution_count": 15,
   "metadata": {
    "ExecuteTime": {
     "end_time": "2020-03-25T23:04:11.287508Z",
     "start_time": "2020-03-25T23:04:11.266546Z"
    }
   },
   "outputs": [
    {
     "data": {
      "text/html": [
       "<div>\n",
       "<style scoped>\n",
       "    .dataframe tbody tr th:only-of-type {\n",
       "        vertical-align: middle;\n",
       "    }\n",
       "\n",
       "    .dataframe tbody tr th {\n",
       "        vertical-align: top;\n",
       "    }\n",
       "\n",
       "    .dataframe thead th {\n",
       "        text-align: right;\n",
       "    }\n",
       "</style>\n",
       "<table border=\"1\" class=\"dataframe\">\n",
       "  <thead>\n",
       "    <tr style=\"text-align: right;\">\n",
       "      <th></th>\n",
       "      <th>stockx_link</th>\n",
       "    </tr>\n",
       "  </thead>\n",
       "  <tbody>\n",
       "    <tr>\n",
       "      <th>0</th>\n",
       "      <td>https://stockx.com/nike-ld-waffle-sacai-white-nylon</td>\n",
       "    </tr>\n",
       "    <tr>\n",
       "      <th>1</th>\n",
       "      <td>https://stockx.com/nike-ld-waffle-sacai-black-nylon</td>\n",
       "    </tr>\n",
       "    <tr>\n",
       "      <th>2</th>\n",
       "      <td>https://stockx.com/nike-air-force-1-low-supreme-box-logo-white</td>\n",
       "    </tr>\n",
       "    <tr>\n",
       "      <th>3</th>\n",
       "      <td>https://stockx.com/nike-dunk-low-sp-syracuse</td>\n",
       "    </tr>\n",
       "    <tr>\n",
       "      <th>4</th>\n",
       "      <td>https://stockx.com/nike-air-max-90-reverse-duck-camo-2020</td>\n",
       "    </tr>\n",
       "  </tbody>\n",
       "</table>\n",
       "</div>"
      ],
      "text/plain": [
       "                                                      stockx_link\n",
       "0             https://stockx.com/nike-ld-waffle-sacai-white-nylon\n",
       "1             https://stockx.com/nike-ld-waffle-sacai-black-nylon\n",
       "2  https://stockx.com/nike-air-force-1-low-supreme-box-logo-white\n",
       "3                    https://stockx.com/nike-dunk-low-sp-syracuse\n",
       "4       https://stockx.com/nike-air-max-90-reverse-duck-camo-2020"
      ]
     },
     "execution_count": 15,
     "metadata": {},
     "output_type": "execute_result"
    }
   ],
   "source": [
    "test"
   ]
  },
  {
   "cell_type": "code",
   "execution_count": 16,
   "metadata": {
    "ExecuteTime": {
     "end_time": "2020-03-25T23:04:12.274944Z",
     "start_time": "2020-03-25T23:04:12.235656Z"
    }
   },
   "outputs": [],
   "source": [
    "test.loc[:,'stockx_name'] = np.nan\n",
    "test.loc[:,'type_1'] = np.nan\n",
    "test.loc[:,'type_2'] = np.nan\n",
    "test.loc[:,'right'] = np.nan\n",
    "test.loc[:,'r_d'] = np.nan\n",
    "test.loc[:,'straight'] = np.nan\n",
    "test.loc[:,'l_d'] = np.nan\n",
    "test.loc[:,'left'] = np.nan\n",
    "test.loc[:,'back'] = np.nan\n",
    "test.loc[:,'Style'] = np.nan\n",
    "test.loc[:,'Colorway'] = np.nan\n",
    "test.loc[:,'RetailPrice'] = np.nan\n",
    "test.loc[:,'ReleaseDate'] = np.nan\n"
   ]
  },
  {
   "cell_type": "code",
   "execution_count": 17,
   "metadata": {
    "ExecuteTime": {
     "end_time": "2020-03-25T23:04:18.423158Z",
     "start_time": "2020-03-25T23:04:18.401704Z"
    }
   },
   "outputs": [
    {
     "data": {
      "text/html": [
       "<div>\n",
       "<style scoped>\n",
       "    .dataframe tbody tr th:only-of-type {\n",
       "        vertical-align: middle;\n",
       "    }\n",
       "\n",
       "    .dataframe tbody tr th {\n",
       "        vertical-align: top;\n",
       "    }\n",
       "\n",
       "    .dataframe thead th {\n",
       "        text-align: right;\n",
       "    }\n",
       "</style>\n",
       "<table border=\"1\" class=\"dataframe\">\n",
       "  <thead>\n",
       "    <tr style=\"text-align: right;\">\n",
       "      <th></th>\n",
       "      <th>stockx_link</th>\n",
       "      <th>stockx_name</th>\n",
       "      <th>type_1</th>\n",
       "      <th>type_2</th>\n",
       "      <th>right</th>\n",
       "      <th>r_d</th>\n",
       "      <th>straight</th>\n",
       "      <th>l_d</th>\n",
       "      <th>left</th>\n",
       "      <th>back</th>\n",
       "      <th>Style</th>\n",
       "      <th>Colorway</th>\n",
       "      <th>RetailPrice</th>\n",
       "      <th>ReleaseDate</th>\n",
       "    </tr>\n",
       "  </thead>\n",
       "  <tbody>\n",
       "    <tr>\n",
       "      <th>0</th>\n",
       "      <td>https://stockx.com/nike-ld-waffle-sacai-white-nylon</td>\n",
       "      <td>NaN</td>\n",
       "      <td>NaN</td>\n",
       "      <td>NaN</td>\n",
       "      <td>NaN</td>\n",
       "      <td>NaN</td>\n",
       "      <td>NaN</td>\n",
       "      <td>NaN</td>\n",
       "      <td>NaN</td>\n",
       "      <td>NaN</td>\n",
       "      <td>NaN</td>\n",
       "      <td>NaN</td>\n",
       "      <td>NaN</td>\n",
       "      <td>NaN</td>\n",
       "    </tr>\n",
       "    <tr>\n",
       "      <th>1</th>\n",
       "      <td>https://stockx.com/nike-ld-waffle-sacai-black-nylon</td>\n",
       "      <td>NaN</td>\n",
       "      <td>NaN</td>\n",
       "      <td>NaN</td>\n",
       "      <td>NaN</td>\n",
       "      <td>NaN</td>\n",
       "      <td>NaN</td>\n",
       "      <td>NaN</td>\n",
       "      <td>NaN</td>\n",
       "      <td>NaN</td>\n",
       "      <td>NaN</td>\n",
       "      <td>NaN</td>\n",
       "      <td>NaN</td>\n",
       "      <td>NaN</td>\n",
       "    </tr>\n",
       "    <tr>\n",
       "      <th>2</th>\n",
       "      <td>https://stockx.com/nike-air-force-1-low-supreme-box-logo-white</td>\n",
       "      <td>NaN</td>\n",
       "      <td>NaN</td>\n",
       "      <td>NaN</td>\n",
       "      <td>NaN</td>\n",
       "      <td>NaN</td>\n",
       "      <td>NaN</td>\n",
       "      <td>NaN</td>\n",
       "      <td>NaN</td>\n",
       "      <td>NaN</td>\n",
       "      <td>NaN</td>\n",
       "      <td>NaN</td>\n",
       "      <td>NaN</td>\n",
       "      <td>NaN</td>\n",
       "    </tr>\n",
       "    <tr>\n",
       "      <th>3</th>\n",
       "      <td>https://stockx.com/nike-dunk-low-sp-syracuse</td>\n",
       "      <td>NaN</td>\n",
       "      <td>NaN</td>\n",
       "      <td>NaN</td>\n",
       "      <td>NaN</td>\n",
       "      <td>NaN</td>\n",
       "      <td>NaN</td>\n",
       "      <td>NaN</td>\n",
       "      <td>NaN</td>\n",
       "      <td>NaN</td>\n",
       "      <td>NaN</td>\n",
       "      <td>NaN</td>\n",
       "      <td>NaN</td>\n",
       "      <td>NaN</td>\n",
       "    </tr>\n",
       "    <tr>\n",
       "      <th>4</th>\n",
       "      <td>https://stockx.com/nike-air-max-90-reverse-duck-camo-2020</td>\n",
       "      <td>NaN</td>\n",
       "      <td>NaN</td>\n",
       "      <td>NaN</td>\n",
       "      <td>NaN</td>\n",
       "      <td>NaN</td>\n",
       "      <td>NaN</td>\n",
       "      <td>NaN</td>\n",
       "      <td>NaN</td>\n",
       "      <td>NaN</td>\n",
       "      <td>NaN</td>\n",
       "      <td>NaN</td>\n",
       "      <td>NaN</td>\n",
       "      <td>NaN</td>\n",
       "    </tr>\n",
       "  </tbody>\n",
       "</table>\n",
       "</div>"
      ],
      "text/plain": [
       "                                                      stockx_link  \\\n",
       "0             https://stockx.com/nike-ld-waffle-sacai-white-nylon   \n",
       "1             https://stockx.com/nike-ld-waffle-sacai-black-nylon   \n",
       "2  https://stockx.com/nike-air-force-1-low-supreme-box-logo-white   \n",
       "3                    https://stockx.com/nike-dunk-low-sp-syracuse   \n",
       "4       https://stockx.com/nike-air-max-90-reverse-duck-camo-2020   \n",
       "\n",
       "   stockx_name  type_1  type_2  right  r_d  straight  l_d  left  back  Style  \\\n",
       "0          NaN     NaN     NaN    NaN  NaN       NaN  NaN   NaN   NaN    NaN   \n",
       "1          NaN     NaN     NaN    NaN  NaN       NaN  NaN   NaN   NaN    NaN   \n",
       "2          NaN     NaN     NaN    NaN  NaN       NaN  NaN   NaN   NaN    NaN   \n",
       "3          NaN     NaN     NaN    NaN  NaN       NaN  NaN   NaN   NaN    NaN   \n",
       "4          NaN     NaN     NaN    NaN  NaN       NaN  NaN   NaN   NaN    NaN   \n",
       "\n",
       "   Colorway  RetailPrice  ReleaseDate  \n",
       "0       NaN          NaN          NaN  \n",
       "1       NaN          NaN          NaN  \n",
       "2       NaN          NaN          NaN  \n",
       "3       NaN          NaN          NaN  \n",
       "4       NaN          NaN          NaN  "
      ]
     },
     "execution_count": 17,
     "metadata": {},
     "output_type": "execute_result"
    }
   ],
   "source": [
    "test"
   ]
  },
  {
   "cell_type": "code",
   "execution_count": 20,
   "metadata": {
    "ExecuteTime": {
     "end_time": "2020-03-25T23:05:54.837618Z",
     "start_time": "2020-03-25T23:05:52.643965Z"
    }
   },
   "outputs": [],
   "source": [
    "driver = webdriver.Chrome(executable_path='./chromedriver')"
   ]
  },
  {
   "cell_type": "code",
   "execution_count": 21,
   "metadata": {
    "ExecuteTime": {
     "end_time": "2020-03-25T23:07:11.774392Z",
     "start_time": "2020-03-25T23:06:01.713770Z"
    }
   },
   "outputs": [
    {
     "data": {
      "application/vnd.jupyter.widget-view+json": {
       "model_id": "f3336cfba4d64359acd7fe73c6e4cea6",
       "version_major": 2,
       "version_minor": 0
      },
      "text/plain": [
       "HBox(children=(FloatProgress(value=0.0, max=5.0), HTML(value='')))"
      ]
     },
     "metadata": {},
     "output_type": "display_data"
    },
    {
     "name": "stdout",
     "output_type": "stream",
     "text": [
      "0\n",
      "https://stockx.com/nike-ld-waffle-sacai-white-nylon\n",
      "Nike LD Waffle Sacai White Nylon\n",
      "https://stockx-360.imgix.net/Nike-LD-Waffle-Sacai-White-Nylon/Images/Nike-LD-Waffle-Sacai-White-Nylon/Lv2/img01.jpg?auto=format,compress&w=559&q=90&dpr=2&updated_at=1584025585\n",
      "1\n",
      "https://stockx.com/nike-ld-waffle-sacai-black-nylon\n",
      "Nike LD Waffle Sacai Black Nylon\n",
      "https://stockx-360.imgix.net/Nike-LD-Waffle-Sacai-Black-Nylon/Images/Nike-LD-Waffle-Sacai-Black-Nylon/Lv2/img01.jpg?auto=format,compress&w=559&q=90&dpr=2&updated_at=1584757351\n",
      "2\n",
      "https://stockx.com/nike-air-force-1-low-supreme-box-logo-white\n",
      "Nike Air Force 1 Low Supreme White\n",
      "https://stockx-360.imgix.net/Nike-Air-Force-1-Low-Supreme-Box-Logo-White/Images/Nike-Air-Force-1-Low-Supreme-Box-Logo-White/Lv2/img01.jpg?auto=format,compress&w=559&q=90&dpr=2&updated_at=1583951149\n",
      "3\n",
      "https://stockx.com/nike-dunk-low-sp-syracuse\n",
      "Nike Dunk Low SP Syracuse (2020)\n",
      "https://stockx-360.imgix.net/Nike-Dunk-Low-SP-Syracuse/Images/Nike-Dunk-Low-SP-Syracuse/Lv2/img01.jpg?auto=format,compress&w=559&q=90&dpr=2&updated_at=1581717601\n",
      "4\n",
      "https://stockx.com/nike-air-max-90-reverse-duck-camo-2020\n",
      "Nike Air Max 90 Reverse Duck Camo (2020)\n",
      "https://stockx.imgix.net/Nike-Air-Max-90-Reverse-Duck-Camo-2020.png?fit=fill&bg=FFFFFF&w=700&h=500&auto=format,compress&q=90&dpr=2&trim=color&updated_at=1584067533\n",
      "\n"
     ]
    }
   ],
   "source": [
    "for a in tqdm(range(len(test))):\n",
    "    print(a)\n",
    "    print(test.iloc[a,0])\n",
    "    driver.get(test.iloc[a,0])\n",
    "    driver.implicitly_wait(100)\n",
    "    \n",
    "    for driver in driver.find_elements_by_class_name('name'):\n",
    "        print(driver.text)\n",
    "        test.iloc[a,1] = oop.text\n",
    "        \n",
    "    images = driver.find_elements_by_tag_name('img')\n",
    "    for image in images:\n",
    "        if 'nike' in image.get_attribute('src').lower():\n",
    "            print(image.get_attribute('src'))\n",
    "            test.iloc[a,4] = image.get_attribute('src')\n",
    "            \n",
    "    tutorial_soup = BeautifulSoup(driver.page_source, 'html.parser')\n",
    "    \n",
    "    counter = 1\n",
    "    for typ in tutorial_soup.find('ul', attrs={'class':'breadcrumb'}):\n",
    "        if counter == 4:\n",
    "            test.iloc[a,2] = typ.text\n",
    "        elif counter == 5:\n",
    "            test.iloc[a,3] = typ.text\n",
    "        counter+=1\n",
    "    \n",
    "    for detail in tutorial_soup.find_all('div',attrs={'class':'detail'}):\n",
    "\n",
    "        if ('Retail' in detail.text.split()) | ('Release' in detail.text.split()):\n",
    "            test.loc[a,(''.join(detail.text.split()[:2]))] = (''.join(detail.text.split()[2:]))\n",
    "        else:\n",
    "            test.loc[a,(detail.text.split()[0])]  = (' '.join(detail.text.split()[1:]))\n"
   ]
  },
  {
   "cell_type": "code",
   "execution_count": 22,
   "metadata": {
    "ExecuteTime": {
     "end_time": "2020-03-25T23:07:13.225697Z",
     "start_time": "2020-03-25T23:07:13.202748Z"
    }
   },
   "outputs": [
    {
     "data": {
      "text/html": [
       "<div>\n",
       "<style scoped>\n",
       "    .dataframe tbody tr th:only-of-type {\n",
       "        vertical-align: middle;\n",
       "    }\n",
       "\n",
       "    .dataframe tbody tr th {\n",
       "        vertical-align: top;\n",
       "    }\n",
       "\n",
       "    .dataframe thead th {\n",
       "        text-align: right;\n",
       "    }\n",
       "</style>\n",
       "<table border=\"1\" class=\"dataframe\">\n",
       "  <thead>\n",
       "    <tr style=\"text-align: right;\">\n",
       "      <th></th>\n",
       "      <th>stockx_link</th>\n",
       "      <th>stockx_name</th>\n",
       "      <th>type_1</th>\n",
       "      <th>type_2</th>\n",
       "      <th>right</th>\n",
       "      <th>r_d</th>\n",
       "      <th>straight</th>\n",
       "      <th>l_d</th>\n",
       "      <th>left</th>\n",
       "      <th>back</th>\n",
       "      <th>Style</th>\n",
       "      <th>Colorway</th>\n",
       "      <th>RetailPrice</th>\n",
       "      <th>ReleaseDate</th>\n",
       "    </tr>\n",
       "  </thead>\n",
       "  <tbody>\n",
       "    <tr>\n",
       "      <th>0</th>\n",
       "      <td>https://stockx.com/nike-ld-waffle-sacai-white-nylon</td>\n",
       "      <td>Nike LD Waffle Sacai White Nylon</td>\n",
       "      <td>Other</td>\n",
       "      <td>Running</td>\n",
       "      <td>https://stockx-360.imgix.net/Nike-LD-Waffle-Sacai-White-Nylon/Images/Nike-LD-Waffle-Sacai-White-Nylon/Lv2/img01.jpg?auto=format,compress&amp;w=559&amp;q=90&amp;dpr=2&amp;updated_at=1584025585</td>\n",
       "      <td>NaN</td>\n",
       "      <td>NaN</td>\n",
       "      <td>NaN</td>\n",
       "      <td>NaN</td>\n",
       "      <td>NaN</td>\n",
       "      <td>BV0073-101</td>\n",
       "      <td>White/White</td>\n",
       "      <td>$160</td>\n",
       "      <td>03/10/2020</td>\n",
       "    </tr>\n",
       "    <tr>\n",
       "      <th>1</th>\n",
       "      <td>https://stockx.com/nike-ld-waffle-sacai-black-nylon</td>\n",
       "      <td>Nike LD Waffle Sacai Black Nylon</td>\n",
       "      <td>Other</td>\n",
       "      <td>Running</td>\n",
       "      <td>https://stockx-360.imgix.net/Nike-LD-Waffle-Sacai-Black-Nylon/Images/Nike-LD-Waffle-Sacai-Black-Nylon/Lv2/img01.jpg?auto=format,compress&amp;w=559&amp;q=90&amp;dpr=2&amp;updated_at=1584757351</td>\n",
       "      <td>NaN</td>\n",
       "      <td>NaN</td>\n",
       "      <td>NaN</td>\n",
       "      <td>NaN</td>\n",
       "      <td>NaN</td>\n",
       "      <td>BV0073-002</td>\n",
       "      <td>Black/Black</td>\n",
       "      <td>$160</td>\n",
       "      <td>03/10/2020</td>\n",
       "    </tr>\n",
       "    <tr>\n",
       "      <th>2</th>\n",
       "      <td>https://stockx.com/nike-air-force-1-low-supreme-box-logo-white</td>\n",
       "      <td>Nike Air Force 1 Low Supreme White</td>\n",
       "      <td>Air Force</td>\n",
       "      <td>1</td>\n",
       "      <td>https://stockx-360.imgix.net/Nike-Air-Force-1-Low-Supreme-Box-Logo-White/Images/Nike-Air-Force-1-Low-Supreme-Box-Logo-White/Lv2/img01.jpg?auto=format,compress&amp;w=559&amp;q=90&amp;dpr=2&amp;updated_at=1583951149</td>\n",
       "      <td>NaN</td>\n",
       "      <td>NaN</td>\n",
       "      <td>NaN</td>\n",
       "      <td>NaN</td>\n",
       "      <td>NaN</td>\n",
       "      <td>CU9225-100</td>\n",
       "      <td>White/White-White</td>\n",
       "      <td>$96</td>\n",
       "      <td>03/05/2020</td>\n",
       "    </tr>\n",
       "    <tr>\n",
       "      <th>3</th>\n",
       "      <td>https://stockx.com/nike-dunk-low-sp-syracuse</td>\n",
       "      <td>Nike Dunk Low SP Syracuse (2020)</td>\n",
       "      <td>Basketball</td>\n",
       "      <td>Other</td>\n",
       "      <td>https://stockx-360.imgix.net/Nike-Dunk-Low-SP-Syracuse/Images/Nike-Dunk-Low-SP-Syracuse/Lv2/img01.jpg?auto=format,compress&amp;w=559&amp;q=90&amp;dpr=2&amp;updated_at=1581717601</td>\n",
       "      <td>NaN</td>\n",
       "      <td>NaN</td>\n",
       "      <td>NaN</td>\n",
       "      <td>NaN</td>\n",
       "      <td>NaN</td>\n",
       "      <td>CU1726-101</td>\n",
       "      <td>White/Orange</td>\n",
       "      <td>$100</td>\n",
       "      <td>03/14/2020</td>\n",
       "    </tr>\n",
       "    <tr>\n",
       "      <th>4</th>\n",
       "      <td>https://stockx.com/nike-air-max-90-reverse-duck-camo-2020</td>\n",
       "      <td>Nike Air Max 90 Reverse Duck Camo (2020)</td>\n",
       "      <td>Air Max</td>\n",
       "      <td>90</td>\n",
       "      <td>https://stockx.imgix.net/Nike-Air-Max-90-Reverse-Duck-Camo-2020.png?fit=fill&amp;bg=FFFFFF&amp;w=700&amp;h=500&amp;auto=format,compress&amp;q=90&amp;dpr=2&amp;trim=color&amp;updated_at=1584067533</td>\n",
       "      <td>NaN</td>\n",
       "      <td>NaN</td>\n",
       "      <td>NaN</td>\n",
       "      <td>NaN</td>\n",
       "      <td>NaN</td>\n",
       "      <td>CW6024-600</td>\n",
       "      <td>Infrared/Black-Dark Sage-Baroque Brown</td>\n",
       "      <td>$140</td>\n",
       "      <td>03/26/2020</td>\n",
       "    </tr>\n",
       "  </tbody>\n",
       "</table>\n",
       "</div>"
      ],
      "text/plain": [
       "                                                      stockx_link  \\\n",
       "0             https://stockx.com/nike-ld-waffle-sacai-white-nylon   \n",
       "1             https://stockx.com/nike-ld-waffle-sacai-black-nylon   \n",
       "2  https://stockx.com/nike-air-force-1-low-supreme-box-logo-white   \n",
       "3                    https://stockx.com/nike-dunk-low-sp-syracuse   \n",
       "4       https://stockx.com/nike-air-max-90-reverse-duck-camo-2020   \n",
       "\n",
       "                                stockx_name      type_1   type_2  \\\n",
       "0          Nike LD Waffle Sacai White Nylon       Other  Running   \n",
       "1          Nike LD Waffle Sacai Black Nylon       Other  Running   \n",
       "2        Nike Air Force 1 Low Supreme White   Air Force        1   \n",
       "3          Nike Dunk Low SP Syracuse (2020)  Basketball    Other   \n",
       "4  Nike Air Max 90 Reverse Duck Camo (2020)     Air Max       90   \n",
       "\n",
       "                                                                                                                                                                                                   right  \\\n",
       "0                        https://stockx-360.imgix.net/Nike-LD-Waffle-Sacai-White-Nylon/Images/Nike-LD-Waffle-Sacai-White-Nylon/Lv2/img01.jpg?auto=format,compress&w=559&q=90&dpr=2&updated_at=1584025585   \n",
       "1                        https://stockx-360.imgix.net/Nike-LD-Waffle-Sacai-Black-Nylon/Images/Nike-LD-Waffle-Sacai-Black-Nylon/Lv2/img01.jpg?auto=format,compress&w=559&q=90&dpr=2&updated_at=1584757351   \n",
       "2  https://stockx-360.imgix.net/Nike-Air-Force-1-Low-Supreme-Box-Logo-White/Images/Nike-Air-Force-1-Low-Supreme-Box-Logo-White/Lv2/img01.jpg?auto=format,compress&w=559&q=90&dpr=2&updated_at=1583951149   \n",
       "3                                      https://stockx-360.imgix.net/Nike-Dunk-Low-SP-Syracuse/Images/Nike-Dunk-Low-SP-Syracuse/Lv2/img01.jpg?auto=format,compress&w=559&q=90&dpr=2&updated_at=1581717601   \n",
       "4                                    https://stockx.imgix.net/Nike-Air-Max-90-Reverse-Duck-Camo-2020.png?fit=fill&bg=FFFFFF&w=700&h=500&auto=format,compress&q=90&dpr=2&trim=color&updated_at=1584067533   \n",
       "\n",
       "   r_d  straight  l_d  left  back       Style  \\\n",
       "0  NaN       NaN  NaN   NaN   NaN  BV0073-101   \n",
       "1  NaN       NaN  NaN   NaN   NaN  BV0073-002   \n",
       "2  NaN       NaN  NaN   NaN   NaN  CU9225-100   \n",
       "3  NaN       NaN  NaN   NaN   NaN  CU1726-101   \n",
       "4  NaN       NaN  NaN   NaN   NaN  CW6024-600   \n",
       "\n",
       "                                 Colorway RetailPrice ReleaseDate  \n",
       "0                             White/White        $160  03/10/2020  \n",
       "1                             Black/Black        $160  03/10/2020  \n",
       "2                       White/White-White         $96  03/05/2020  \n",
       "3                            White/Orange        $100  03/14/2020  \n",
       "4  Infrared/Black-Dark Sage-Baroque Brown        $140  03/26/2020  "
      ]
     },
     "execution_count": 22,
     "metadata": {},
     "output_type": "execute_result"
    }
   ],
   "source": [
    "test"
   ]
  },
  {
   "cell_type": "code",
   "execution_count": 23,
   "metadata": {
    "ExecuteTime": {
     "end_time": "2020-03-25T23:07:19.786469Z",
     "start_time": "2020-03-25T23:07:19.776145Z"
    }
   },
   "outputs": [],
   "source": [
    "test.to_csv('test.csv')"
   ]
  },
  {
   "cell_type": "code",
   "execution_count": 24,
   "metadata": {
    "ExecuteTime": {
     "end_time": "2020-03-25T23:07:21.073004Z",
     "start_time": "2020-03-25T23:07:21.060643Z"
    }
   },
   "outputs": [],
   "source": [
    "test_2 = pd.read_csv('test.csv',index_col=0)"
   ]
  },
  {
   "cell_type": "code",
   "execution_count": 25,
   "metadata": {
    "ExecuteTime": {
     "end_time": "2020-03-25T23:07:23.340375Z",
     "start_time": "2020-03-25T23:07:23.336862Z"
    }
   },
   "outputs": [],
   "source": [
    "# I found that the alternate angles of each shoe i wanted could be obtained by altering the \n",
    "# hyperlink of the scraped link \n",
    "# For each angle here is the relevant part img number:\n",
    "# 'r_d','img04'\n",
    "# 'straight','img10'\n",
    "# 'l_d','img13'\n",
    "# 'left','img19' \n",
    "# 'back','img28'"
   ]
  },
  {
   "cell_type": "code",
   "execution_count": 26,
   "metadata": {
    "ExecuteTime": {
     "end_time": "2020-03-25T23:07:23.605736Z",
     "start_time": "2020-03-25T23:07:23.600515Z"
    }
   },
   "outputs": [],
   "source": [
    "test_link = test_2['right'][0]"
   ]
  },
  {
   "cell_type": "code",
   "execution_count": 27,
   "metadata": {
    "ExecuteTime": {
     "end_time": "2020-03-25T23:07:24.436489Z",
     "start_time": "2020-03-25T23:07:24.428928Z"
    }
   },
   "outputs": [
    {
     "data": {
      "text/plain": [
       "'https://stockx-360.imgix.net/Nike-LD-Waffle-Sacai-White-Nylon/Images/Nike-LD-Waffle-Sacai-White-Nylon/Lv2/img04.jpg?auto=format,compress&w=559&q=90&dpr=2&updated_at=1584025585'"
      ]
     },
     "execution_count": 27,
     "metadata": {},
     "output_type": "execute_result"
    }
   ],
   "source": [
    "test_link.replace('img01','img04')"
   ]
  },
  {
   "cell_type": "code",
   "execution_count": 28,
   "metadata": {
    "ExecuteTime": {
     "end_time": "2020-03-25T23:07:25.087751Z",
     "start_time": "2020-03-25T23:07:25.080338Z"
    }
   },
   "outputs": [
    {
     "data": {
      "text/plain": [
       "'https://stockx-360.imgix.net/Nike-LD-Waffle-Sacai-White-Nylon/Images/Nike-LD-Waffle-Sacai-White-Nylon/Lv2/img01.jpg?auto=format,compress&w=559&q=90&dpr=2&updated_at=1584025585'"
      ]
     },
     "execution_count": 28,
     "metadata": {},
     "output_type": "execute_result"
    }
   ],
   "source": [
    "test_link"
   ]
  },
  {
   "cell_type": "code",
   "execution_count": 29,
   "metadata": {
    "ExecuteTime": {
     "end_time": "2020-03-25T23:07:25.764685Z",
     "start_time": "2020-03-25T23:07:25.759993Z"
    }
   },
   "outputs": [],
   "source": [
    "test_2['r_d'] = test_2.right.apply(lambda x: x.replace('img01','imgo4'))"
   ]
  },
  {
   "cell_type": "code",
   "execution_count": 30,
   "metadata": {
    "ExecuteTime": {
     "end_time": "2020-03-25T23:07:26.584214Z",
     "start_time": "2020-03-25T23:07:26.575802Z"
    }
   },
   "outputs": [],
   "source": [
    "for col, angle in [('r_d','img04'),('straight','img10'),('l_d','img13'),('left','img19'),('back','img28')]:\n",
    "    test_2[col] = test_2.right.apply(lambda x: x.replace('img01',angle))\n",
    "    "
   ]
  },
  {
   "cell_type": "code",
   "execution_count": 31,
   "metadata": {
    "ExecuteTime": {
     "end_time": "2020-03-25T23:07:27.465079Z",
     "start_time": "2020-03-25T23:07:27.419905Z"
    }
   },
   "outputs": [
    {
     "data": {
      "text/html": [
       "<div>\n",
       "<style scoped>\n",
       "    .dataframe tbody tr th:only-of-type {\n",
       "        vertical-align: middle;\n",
       "    }\n",
       "\n",
       "    .dataframe tbody tr th {\n",
       "        vertical-align: top;\n",
       "    }\n",
       "\n",
       "    .dataframe thead th {\n",
       "        text-align: right;\n",
       "    }\n",
       "</style>\n",
       "<table border=\"1\" class=\"dataframe\">\n",
       "  <thead>\n",
       "    <tr style=\"text-align: right;\">\n",
       "      <th></th>\n",
       "      <th>stockx_link</th>\n",
       "      <th>stockx_name</th>\n",
       "      <th>type_1</th>\n",
       "      <th>type_2</th>\n",
       "      <th>right</th>\n",
       "      <th>r_d</th>\n",
       "      <th>straight</th>\n",
       "      <th>l_d</th>\n",
       "      <th>left</th>\n",
       "      <th>back</th>\n",
       "      <th>Style</th>\n",
       "      <th>Colorway</th>\n",
       "      <th>RetailPrice</th>\n",
       "      <th>ReleaseDate</th>\n",
       "    </tr>\n",
       "  </thead>\n",
       "  <tbody>\n",
       "    <tr>\n",
       "      <th>0</th>\n",
       "      <td>https://stockx.com/nike-ld-waffle-sacai-white-nylon</td>\n",
       "      <td>Nike LD Waffle Sacai White Nylon</td>\n",
       "      <td>Other</td>\n",
       "      <td>Running</td>\n",
       "      <td>https://stockx-360.imgix.net/Nike-LD-Waffle-Sacai-White-Nylon/Images/Nike-LD-Waffle-Sacai-White-Nylon/Lv2/img01.jpg?auto=format,compress&amp;w=559&amp;q=90&amp;dpr=2&amp;updated_at=1584025585</td>\n",
       "      <td>https://stockx-360.imgix.net/Nike-LD-Waffle-Sacai-White-Nylon/Images/Nike-LD-Waffle-Sacai-White-Nylon/Lv2/img04.jpg?auto=format,compress&amp;w=559&amp;q=90&amp;dpr=2&amp;updated_at=1584025585</td>\n",
       "      <td>https://stockx-360.imgix.net/Nike-LD-Waffle-Sacai-White-Nylon/Images/Nike-LD-Waffle-Sacai-White-Nylon/Lv2/img10.jpg?auto=format,compress&amp;w=559&amp;q=90&amp;dpr=2&amp;updated_at=1584025585</td>\n",
       "      <td>https://stockx-360.imgix.net/Nike-LD-Waffle-Sacai-White-Nylon/Images/Nike-LD-Waffle-Sacai-White-Nylon/Lv2/img13.jpg?auto=format,compress&amp;w=559&amp;q=90&amp;dpr=2&amp;updated_at=1584025585</td>\n",
       "      <td>https://stockx-360.imgix.net/Nike-LD-Waffle-Sacai-White-Nylon/Images/Nike-LD-Waffle-Sacai-White-Nylon/Lv2/img19.jpg?auto=format,compress&amp;w=559&amp;q=90&amp;dpr=2&amp;updated_at=1584025585</td>\n",
       "      <td>https://stockx-360.imgix.net/Nike-LD-Waffle-Sacai-White-Nylon/Images/Nike-LD-Waffle-Sacai-White-Nylon/Lv2/img28.jpg?auto=format,compress&amp;w=559&amp;q=90&amp;dpr=2&amp;updated_at=1584025585</td>\n",
       "      <td>BV0073-101</td>\n",
       "      <td>White/White</td>\n",
       "      <td>$160</td>\n",
       "      <td>03/10/2020</td>\n",
       "    </tr>\n",
       "    <tr>\n",
       "      <th>1</th>\n",
       "      <td>https://stockx.com/nike-ld-waffle-sacai-black-nylon</td>\n",
       "      <td>Nike LD Waffle Sacai Black Nylon</td>\n",
       "      <td>Other</td>\n",
       "      <td>Running</td>\n",
       "      <td>https://stockx-360.imgix.net/Nike-LD-Waffle-Sacai-Black-Nylon/Images/Nike-LD-Waffle-Sacai-Black-Nylon/Lv2/img01.jpg?auto=format,compress&amp;w=559&amp;q=90&amp;dpr=2&amp;updated_at=1584757351</td>\n",
       "      <td>https://stockx-360.imgix.net/Nike-LD-Waffle-Sacai-Black-Nylon/Images/Nike-LD-Waffle-Sacai-Black-Nylon/Lv2/img04.jpg?auto=format,compress&amp;w=559&amp;q=90&amp;dpr=2&amp;updated_at=1584757351</td>\n",
       "      <td>https://stockx-360.imgix.net/Nike-LD-Waffle-Sacai-Black-Nylon/Images/Nike-LD-Waffle-Sacai-Black-Nylon/Lv2/img10.jpg?auto=format,compress&amp;w=559&amp;q=90&amp;dpr=2&amp;updated_at=1584757351</td>\n",
       "      <td>https://stockx-360.imgix.net/Nike-LD-Waffle-Sacai-Black-Nylon/Images/Nike-LD-Waffle-Sacai-Black-Nylon/Lv2/img13.jpg?auto=format,compress&amp;w=559&amp;q=90&amp;dpr=2&amp;updated_at=1584757351</td>\n",
       "      <td>https://stockx-360.imgix.net/Nike-LD-Waffle-Sacai-Black-Nylon/Images/Nike-LD-Waffle-Sacai-Black-Nylon/Lv2/img19.jpg?auto=format,compress&amp;w=559&amp;q=90&amp;dpr=2&amp;updated_at=1584757351</td>\n",
       "      <td>https://stockx-360.imgix.net/Nike-LD-Waffle-Sacai-Black-Nylon/Images/Nike-LD-Waffle-Sacai-Black-Nylon/Lv2/img28.jpg?auto=format,compress&amp;w=559&amp;q=90&amp;dpr=2&amp;updated_at=1584757351</td>\n",
       "      <td>BV0073-002</td>\n",
       "      <td>Black/Black</td>\n",
       "      <td>$160</td>\n",
       "      <td>03/10/2020</td>\n",
       "    </tr>\n",
       "    <tr>\n",
       "      <th>2</th>\n",
       "      <td>https://stockx.com/nike-air-force-1-low-supreme-box-logo-white</td>\n",
       "      <td>Nike Air Force 1 Low Supreme White</td>\n",
       "      <td>Air Force</td>\n",
       "      <td>1</td>\n",
       "      <td>https://stockx-360.imgix.net/Nike-Air-Force-1-Low-Supreme-Box-Logo-White/Images/Nike-Air-Force-1-Low-Supreme-Box-Logo-White/Lv2/img01.jpg?auto=format,compress&amp;w=559&amp;q=90&amp;dpr=2&amp;updated_at=1583951149</td>\n",
       "      <td>https://stockx-360.imgix.net/Nike-Air-Force-1-Low-Supreme-Box-Logo-White/Images/Nike-Air-Force-1-Low-Supreme-Box-Logo-White/Lv2/img04.jpg?auto=format,compress&amp;w=559&amp;q=90&amp;dpr=2&amp;updated_at=1583951149</td>\n",
       "      <td>https://stockx-360.imgix.net/Nike-Air-Force-1-Low-Supreme-Box-Logo-White/Images/Nike-Air-Force-1-Low-Supreme-Box-Logo-White/Lv2/img10.jpg?auto=format,compress&amp;w=559&amp;q=90&amp;dpr=2&amp;updated_at=1583951149</td>\n",
       "      <td>https://stockx-360.imgix.net/Nike-Air-Force-1-Low-Supreme-Box-Logo-White/Images/Nike-Air-Force-1-Low-Supreme-Box-Logo-White/Lv2/img13.jpg?auto=format,compress&amp;w=559&amp;q=90&amp;dpr=2&amp;updated_at=1583951149</td>\n",
       "      <td>https://stockx-360.imgix.net/Nike-Air-Force-1-Low-Supreme-Box-Logo-White/Images/Nike-Air-Force-1-Low-Supreme-Box-Logo-White/Lv2/img19.jpg?auto=format,compress&amp;w=559&amp;q=90&amp;dpr=2&amp;updated_at=1583951149</td>\n",
       "      <td>https://stockx-360.imgix.net/Nike-Air-Force-1-Low-Supreme-Box-Logo-White/Images/Nike-Air-Force-1-Low-Supreme-Box-Logo-White/Lv2/img28.jpg?auto=format,compress&amp;w=559&amp;q=90&amp;dpr=2&amp;updated_at=1583951149</td>\n",
       "      <td>CU9225-100</td>\n",
       "      <td>White/White-White</td>\n",
       "      <td>$96</td>\n",
       "      <td>03/05/2020</td>\n",
       "    </tr>\n",
       "    <tr>\n",
       "      <th>3</th>\n",
       "      <td>https://stockx.com/nike-dunk-low-sp-syracuse</td>\n",
       "      <td>Nike Dunk Low SP Syracuse (2020)</td>\n",
       "      <td>Basketball</td>\n",
       "      <td>Other</td>\n",
       "      <td>https://stockx-360.imgix.net/Nike-Dunk-Low-SP-Syracuse/Images/Nike-Dunk-Low-SP-Syracuse/Lv2/img01.jpg?auto=format,compress&amp;w=559&amp;q=90&amp;dpr=2&amp;updated_at=1581717601</td>\n",
       "      <td>https://stockx-360.imgix.net/Nike-Dunk-Low-SP-Syracuse/Images/Nike-Dunk-Low-SP-Syracuse/Lv2/img04.jpg?auto=format,compress&amp;w=559&amp;q=90&amp;dpr=2&amp;updated_at=1581717601</td>\n",
       "      <td>https://stockx-360.imgix.net/Nike-Dunk-Low-SP-Syracuse/Images/Nike-Dunk-Low-SP-Syracuse/Lv2/img10.jpg?auto=format,compress&amp;w=559&amp;q=90&amp;dpr=2&amp;updated_at=1581717601</td>\n",
       "      <td>https://stockx-360.imgix.net/Nike-Dunk-Low-SP-Syracuse/Images/Nike-Dunk-Low-SP-Syracuse/Lv2/img13.jpg?auto=format,compress&amp;w=559&amp;q=90&amp;dpr=2&amp;updated_at=1581717601</td>\n",
       "      <td>https://stockx-360.imgix.net/Nike-Dunk-Low-SP-Syracuse/Images/Nike-Dunk-Low-SP-Syracuse/Lv2/img19.jpg?auto=format,compress&amp;w=559&amp;q=90&amp;dpr=2&amp;updated_at=1581717601</td>\n",
       "      <td>https://stockx-360.imgix.net/Nike-Dunk-Low-SP-Syracuse/Images/Nike-Dunk-Low-SP-Syracuse/Lv2/img28.jpg?auto=format,compress&amp;w=559&amp;q=90&amp;dpr=2&amp;updated_at=1581717601</td>\n",
       "      <td>CU1726-101</td>\n",
       "      <td>White/Orange</td>\n",
       "      <td>$100</td>\n",
       "      <td>03/14/2020</td>\n",
       "    </tr>\n",
       "    <tr>\n",
       "      <th>4</th>\n",
       "      <td>https://stockx.com/nike-air-max-90-reverse-duck-camo-2020</td>\n",
       "      <td>Nike Air Max 90 Reverse Duck Camo (2020)</td>\n",
       "      <td>Air Max</td>\n",
       "      <td>90</td>\n",
       "      <td>https://stockx.imgix.net/Nike-Air-Max-90-Reverse-Duck-Camo-2020.png?fit=fill&amp;bg=FFFFFF&amp;w=700&amp;h=500&amp;auto=format,compress&amp;q=90&amp;dpr=2&amp;trim=color&amp;updated_at=1584067533</td>\n",
       "      <td>https://stockx.imgix.net/Nike-Air-Max-90-Reverse-Duck-Camo-2020.png?fit=fill&amp;bg=FFFFFF&amp;w=700&amp;h=500&amp;auto=format,compress&amp;q=90&amp;dpr=2&amp;trim=color&amp;updated_at=1584067533</td>\n",
       "      <td>https://stockx.imgix.net/Nike-Air-Max-90-Reverse-Duck-Camo-2020.png?fit=fill&amp;bg=FFFFFF&amp;w=700&amp;h=500&amp;auto=format,compress&amp;q=90&amp;dpr=2&amp;trim=color&amp;updated_at=1584067533</td>\n",
       "      <td>https://stockx.imgix.net/Nike-Air-Max-90-Reverse-Duck-Camo-2020.png?fit=fill&amp;bg=FFFFFF&amp;w=700&amp;h=500&amp;auto=format,compress&amp;q=90&amp;dpr=2&amp;trim=color&amp;updated_at=1584067533</td>\n",
       "      <td>https://stockx.imgix.net/Nike-Air-Max-90-Reverse-Duck-Camo-2020.png?fit=fill&amp;bg=FFFFFF&amp;w=700&amp;h=500&amp;auto=format,compress&amp;q=90&amp;dpr=2&amp;trim=color&amp;updated_at=1584067533</td>\n",
       "      <td>https://stockx.imgix.net/Nike-Air-Max-90-Reverse-Duck-Camo-2020.png?fit=fill&amp;bg=FFFFFF&amp;w=700&amp;h=500&amp;auto=format,compress&amp;q=90&amp;dpr=2&amp;trim=color&amp;updated_at=1584067533</td>\n",
       "      <td>CW6024-600</td>\n",
       "      <td>Infrared/Black-Dark Sage-Baroque Brown</td>\n",
       "      <td>$140</td>\n",
       "      <td>03/26/2020</td>\n",
       "    </tr>\n",
       "  </tbody>\n",
       "</table>\n",
       "</div>"
      ],
      "text/plain": [
       "                                                      stockx_link  \\\n",
       "0             https://stockx.com/nike-ld-waffle-sacai-white-nylon   \n",
       "1             https://stockx.com/nike-ld-waffle-sacai-black-nylon   \n",
       "2  https://stockx.com/nike-air-force-1-low-supreme-box-logo-white   \n",
       "3                    https://stockx.com/nike-dunk-low-sp-syracuse   \n",
       "4       https://stockx.com/nike-air-max-90-reverse-duck-camo-2020   \n",
       "\n",
       "                                stockx_name      type_1   type_2  \\\n",
       "0          Nike LD Waffle Sacai White Nylon       Other  Running   \n",
       "1          Nike LD Waffle Sacai Black Nylon       Other  Running   \n",
       "2        Nike Air Force 1 Low Supreme White   Air Force        1   \n",
       "3          Nike Dunk Low SP Syracuse (2020)  Basketball    Other   \n",
       "4  Nike Air Max 90 Reverse Duck Camo (2020)     Air Max       90   \n",
       "\n",
       "                                                                                                                                                                                                   right  \\\n",
       "0                        https://stockx-360.imgix.net/Nike-LD-Waffle-Sacai-White-Nylon/Images/Nike-LD-Waffle-Sacai-White-Nylon/Lv2/img01.jpg?auto=format,compress&w=559&q=90&dpr=2&updated_at=1584025585   \n",
       "1                        https://stockx-360.imgix.net/Nike-LD-Waffle-Sacai-Black-Nylon/Images/Nike-LD-Waffle-Sacai-Black-Nylon/Lv2/img01.jpg?auto=format,compress&w=559&q=90&dpr=2&updated_at=1584757351   \n",
       "2  https://stockx-360.imgix.net/Nike-Air-Force-1-Low-Supreme-Box-Logo-White/Images/Nike-Air-Force-1-Low-Supreme-Box-Logo-White/Lv2/img01.jpg?auto=format,compress&w=559&q=90&dpr=2&updated_at=1583951149   \n",
       "3                                      https://stockx-360.imgix.net/Nike-Dunk-Low-SP-Syracuse/Images/Nike-Dunk-Low-SP-Syracuse/Lv2/img01.jpg?auto=format,compress&w=559&q=90&dpr=2&updated_at=1581717601   \n",
       "4                                    https://stockx.imgix.net/Nike-Air-Max-90-Reverse-Duck-Camo-2020.png?fit=fill&bg=FFFFFF&w=700&h=500&auto=format,compress&q=90&dpr=2&trim=color&updated_at=1584067533   \n",
       "\n",
       "                                                                                                                                                                                                     r_d  \\\n",
       "0                        https://stockx-360.imgix.net/Nike-LD-Waffle-Sacai-White-Nylon/Images/Nike-LD-Waffle-Sacai-White-Nylon/Lv2/img04.jpg?auto=format,compress&w=559&q=90&dpr=2&updated_at=1584025585   \n",
       "1                        https://stockx-360.imgix.net/Nike-LD-Waffle-Sacai-Black-Nylon/Images/Nike-LD-Waffle-Sacai-Black-Nylon/Lv2/img04.jpg?auto=format,compress&w=559&q=90&dpr=2&updated_at=1584757351   \n",
       "2  https://stockx-360.imgix.net/Nike-Air-Force-1-Low-Supreme-Box-Logo-White/Images/Nike-Air-Force-1-Low-Supreme-Box-Logo-White/Lv2/img04.jpg?auto=format,compress&w=559&q=90&dpr=2&updated_at=1583951149   \n",
       "3                                      https://stockx-360.imgix.net/Nike-Dunk-Low-SP-Syracuse/Images/Nike-Dunk-Low-SP-Syracuse/Lv2/img04.jpg?auto=format,compress&w=559&q=90&dpr=2&updated_at=1581717601   \n",
       "4                                    https://stockx.imgix.net/Nike-Air-Max-90-Reverse-Duck-Camo-2020.png?fit=fill&bg=FFFFFF&w=700&h=500&auto=format,compress&q=90&dpr=2&trim=color&updated_at=1584067533   \n",
       "\n",
       "                                                                                                                                                                                                straight  \\\n",
       "0                        https://stockx-360.imgix.net/Nike-LD-Waffle-Sacai-White-Nylon/Images/Nike-LD-Waffle-Sacai-White-Nylon/Lv2/img10.jpg?auto=format,compress&w=559&q=90&dpr=2&updated_at=1584025585   \n",
       "1                        https://stockx-360.imgix.net/Nike-LD-Waffle-Sacai-Black-Nylon/Images/Nike-LD-Waffle-Sacai-Black-Nylon/Lv2/img10.jpg?auto=format,compress&w=559&q=90&dpr=2&updated_at=1584757351   \n",
       "2  https://stockx-360.imgix.net/Nike-Air-Force-1-Low-Supreme-Box-Logo-White/Images/Nike-Air-Force-1-Low-Supreme-Box-Logo-White/Lv2/img10.jpg?auto=format,compress&w=559&q=90&dpr=2&updated_at=1583951149   \n",
       "3                                      https://stockx-360.imgix.net/Nike-Dunk-Low-SP-Syracuse/Images/Nike-Dunk-Low-SP-Syracuse/Lv2/img10.jpg?auto=format,compress&w=559&q=90&dpr=2&updated_at=1581717601   \n",
       "4                                    https://stockx.imgix.net/Nike-Air-Max-90-Reverse-Duck-Camo-2020.png?fit=fill&bg=FFFFFF&w=700&h=500&auto=format,compress&q=90&dpr=2&trim=color&updated_at=1584067533   \n",
       "\n",
       "                                                                                                                                                                                                     l_d  \\\n",
       "0                        https://stockx-360.imgix.net/Nike-LD-Waffle-Sacai-White-Nylon/Images/Nike-LD-Waffle-Sacai-White-Nylon/Lv2/img13.jpg?auto=format,compress&w=559&q=90&dpr=2&updated_at=1584025585   \n",
       "1                        https://stockx-360.imgix.net/Nike-LD-Waffle-Sacai-Black-Nylon/Images/Nike-LD-Waffle-Sacai-Black-Nylon/Lv2/img13.jpg?auto=format,compress&w=559&q=90&dpr=2&updated_at=1584757351   \n",
       "2  https://stockx-360.imgix.net/Nike-Air-Force-1-Low-Supreme-Box-Logo-White/Images/Nike-Air-Force-1-Low-Supreme-Box-Logo-White/Lv2/img13.jpg?auto=format,compress&w=559&q=90&dpr=2&updated_at=1583951149   \n",
       "3                                      https://stockx-360.imgix.net/Nike-Dunk-Low-SP-Syracuse/Images/Nike-Dunk-Low-SP-Syracuse/Lv2/img13.jpg?auto=format,compress&w=559&q=90&dpr=2&updated_at=1581717601   \n",
       "4                                    https://stockx.imgix.net/Nike-Air-Max-90-Reverse-Duck-Camo-2020.png?fit=fill&bg=FFFFFF&w=700&h=500&auto=format,compress&q=90&dpr=2&trim=color&updated_at=1584067533   \n",
       "\n",
       "                                                                                                                                                                                                    left  \\\n",
       "0                        https://stockx-360.imgix.net/Nike-LD-Waffle-Sacai-White-Nylon/Images/Nike-LD-Waffle-Sacai-White-Nylon/Lv2/img19.jpg?auto=format,compress&w=559&q=90&dpr=2&updated_at=1584025585   \n",
       "1                        https://stockx-360.imgix.net/Nike-LD-Waffle-Sacai-Black-Nylon/Images/Nike-LD-Waffle-Sacai-Black-Nylon/Lv2/img19.jpg?auto=format,compress&w=559&q=90&dpr=2&updated_at=1584757351   \n",
       "2  https://stockx-360.imgix.net/Nike-Air-Force-1-Low-Supreme-Box-Logo-White/Images/Nike-Air-Force-1-Low-Supreme-Box-Logo-White/Lv2/img19.jpg?auto=format,compress&w=559&q=90&dpr=2&updated_at=1583951149   \n",
       "3                                      https://stockx-360.imgix.net/Nike-Dunk-Low-SP-Syracuse/Images/Nike-Dunk-Low-SP-Syracuse/Lv2/img19.jpg?auto=format,compress&w=559&q=90&dpr=2&updated_at=1581717601   \n",
       "4                                    https://stockx.imgix.net/Nike-Air-Max-90-Reverse-Duck-Camo-2020.png?fit=fill&bg=FFFFFF&w=700&h=500&auto=format,compress&q=90&dpr=2&trim=color&updated_at=1584067533   \n",
       "\n",
       "                                                                                                                                                                                                    back  \\\n",
       "0                        https://stockx-360.imgix.net/Nike-LD-Waffle-Sacai-White-Nylon/Images/Nike-LD-Waffle-Sacai-White-Nylon/Lv2/img28.jpg?auto=format,compress&w=559&q=90&dpr=2&updated_at=1584025585   \n",
       "1                        https://stockx-360.imgix.net/Nike-LD-Waffle-Sacai-Black-Nylon/Images/Nike-LD-Waffle-Sacai-Black-Nylon/Lv2/img28.jpg?auto=format,compress&w=559&q=90&dpr=2&updated_at=1584757351   \n",
       "2  https://stockx-360.imgix.net/Nike-Air-Force-1-Low-Supreme-Box-Logo-White/Images/Nike-Air-Force-1-Low-Supreme-Box-Logo-White/Lv2/img28.jpg?auto=format,compress&w=559&q=90&dpr=2&updated_at=1583951149   \n",
       "3                                      https://stockx-360.imgix.net/Nike-Dunk-Low-SP-Syracuse/Images/Nike-Dunk-Low-SP-Syracuse/Lv2/img28.jpg?auto=format,compress&w=559&q=90&dpr=2&updated_at=1581717601   \n",
       "4                                    https://stockx.imgix.net/Nike-Air-Max-90-Reverse-Duck-Camo-2020.png?fit=fill&bg=FFFFFF&w=700&h=500&auto=format,compress&q=90&dpr=2&trim=color&updated_at=1584067533   \n",
       "\n",
       "        Style                                Colorway RetailPrice ReleaseDate  \n",
       "0  BV0073-101                             White/White        $160  03/10/2020  \n",
       "1  BV0073-002                             Black/Black        $160  03/10/2020  \n",
       "2  CU9225-100                       White/White-White         $96  03/05/2020  \n",
       "3  CU1726-101                            White/Orange        $100  03/14/2020  \n",
       "4  CW6024-600  Infrared/Black-Dark Sage-Baroque Brown        $140  03/26/2020  "
      ]
     },
     "execution_count": 31,
     "metadata": {},
     "output_type": "execute_result"
    }
   ],
   "source": [
    "test_2"
   ]
  },
  {
   "cell_type": "code",
   "execution_count": 32,
   "metadata": {
    "ExecuteTime": {
     "end_time": "2020-03-25T23:07:27.756032Z",
     "start_time": "2020-03-25T23:07:27.749258Z"
    }
   },
   "outputs": [
    {
     "data": {
      "text/plain": [
       "'https://stockx.com/nike-air-max-90-reverse-duck-camo-2020'"
      ]
     },
     "execution_count": 32,
     "metadata": {},
     "output_type": "execute_result"
    }
   ],
   "source": [
    "test_2.iloc[4,0]"
   ]
  },
  {
   "cell_type": "code",
   "execution_count": 35,
   "metadata": {
    "ExecuteTime": {
     "end_time": "2020-03-25T23:07:30.671432Z",
     "start_time": "2020-03-25T23:07:30.660093Z"
    }
   },
   "outputs": [],
   "source": [
    "test_2['type_3'] = test_2.apply(lambda x: model_creator(x[2],x[3]),axis = 1)"
   ]
  },
  {
   "cell_type": "code",
   "execution_count": 36,
   "metadata": {
    "ExecuteTime": {
     "end_time": "2020-03-25T23:07:34.376383Z",
     "start_time": "2020-03-25T23:07:34.365217Z"
    }
   },
   "outputs": [
    {
     "data": {
      "text/plain": [
       "0        Running\n",
       "1        Running\n",
       "2    Air Force 1\n",
       "3     Basketball\n",
       "4     Air Max 90\n",
       "dtype: object"
      ]
     },
     "execution_count": 36,
     "metadata": {},
     "output_type": "execute_result"
    }
   ],
   "source": [
    "test_2.apply(lambda x: model_creator(x[2],x[3]),axis = 1)"
   ]
  },
  {
   "cell_type": "code",
   "execution_count": 42,
   "metadata": {
    "ExecuteTime": {
     "end_time": "2020-03-25T23:23:56.822943Z",
     "start_time": "2020-03-25T23:23:56.815620Z"
    }
   },
   "outputs": [
    {
     "data": {
      "text/plain": [
       "0    LD Waffle Sacai\n",
       "1    LD Waffle Sacai\n",
       "2        Air Force 1\n",
       "3        Dunk Low SP\n",
       "4         Air Max 90\n",
       "Name: stockx_name, dtype: object"
      ]
     },
     "execution_count": 42,
     "metadata": {},
     "output_type": "execute_result"
    }
   ],
   "source": [
    "test_2.stockx_name.apply(lambda x: ' '.join(x.split()[1:4]))"
   ]
  },
  {
   "cell_type": "code",
   "execution_count": 43,
   "metadata": {
    "ExecuteTime": {
     "end_time": "2020-03-25T23:24:07.990068Z",
     "start_time": "2020-03-25T23:24:07.983896Z"
    }
   },
   "outputs": [],
   "source": [
    "test_2['model'] = test_2.stockx_name.apply(lambda x: ' '.join(x.split()[1:4]))"
   ]
  },
  {
   "cell_type": "code",
   "execution_count": 46,
   "metadata": {
    "ExecuteTime": {
     "end_time": "2020-03-25T23:24:20.850031Z",
     "start_time": "2020-03-25T23:24:20.842037Z"
    }
   },
   "outputs": [],
   "source": [
    "test_2.to_csv('test_2.csv')"
   ]
  },
  {
   "cell_type": "markdown",
   "metadata": {},
   "source": [
    "# Displaying the Images within my Dataframe"
   ]
  },
  {
   "cell_type": "code",
   "execution_count": 45,
   "metadata": {
    "ExecuteTime": {
     "end_time": "2020-03-25T23:24:09.854758Z",
     "start_time": "2020-03-25T23:24:09.839396Z"
    }
   },
   "outputs": [
    {
     "data": {
      "text/html": [
       "<table border=\"1\" class=\"dataframe\">\n",
       "  <thead>\n",
       "    <tr style=\"text-align: right;\">\n",
       "      <th></th>\n",
       "      <th>stockx_link</th>\n",
       "      <th>stockx_name</th>\n",
       "      <th>type_1</th>\n",
       "      <th>type_2</th>\n",
       "      <th>right</th>\n",
       "      <th>r_d</th>\n",
       "      <th>straight</th>\n",
       "      <th>l_d</th>\n",
       "      <th>left</th>\n",
       "      <th>back</th>\n",
       "      <th>Style</th>\n",
       "      <th>Colorway</th>\n",
       "      <th>RetailPrice</th>\n",
       "      <th>ReleaseDate</th>\n",
       "      <th>type_3</th>\n",
       "      <th>model</th>\n",
       "    </tr>\n",
       "  </thead>\n",
       "  <tbody>\n",
       "    <tr>\n",
       "      <th>0</th>\n",
       "      <td>https://stockx.com/nike-ld-waffle-sacai-white-nylon</td>\n",
       "      <td>Nike LD Waffle Sacai White Nylon</td>\n",
       "      <td>Other</td>\n",
       "      <td>Running</td>\n",
       "      <td><img src=\"https://stockx-360.imgix.net/Nike-LD-Waffle-Sacai-White-Nylon/Images/Nike-LD-Waffle-Sacai-White-Nylon/Lv2/img01.jpg?auto=format,compress&w=559&q=90&dpr=2&updated_at=1584025585\"/></td>\n",
       "      <td><img src=\"https://stockx-360.imgix.net/Nike-LD-Waffle-Sacai-White-Nylon/Images/Nike-LD-Waffle-Sacai-White-Nylon/Lv2/img04.jpg?auto=format,compress&w=559&q=90&dpr=2&updated_at=1584025585\"/></td>\n",
       "      <td><img src=\"https://stockx-360.imgix.net/Nike-LD-Waffle-Sacai-White-Nylon/Images/Nike-LD-Waffle-Sacai-White-Nylon/Lv2/img10.jpg?auto=format,compress&w=559&q=90&dpr=2&updated_at=1584025585\"/></td>\n",
       "      <td><img src=\"https://stockx-360.imgix.net/Nike-LD-Waffle-Sacai-White-Nylon/Images/Nike-LD-Waffle-Sacai-White-Nylon/Lv2/img13.jpg?auto=format,compress&w=559&q=90&dpr=2&updated_at=1584025585\"/></td>\n",
       "      <td><img src=\"https://stockx-360.imgix.net/Nike-LD-Waffle-Sacai-White-Nylon/Images/Nike-LD-Waffle-Sacai-White-Nylon/Lv2/img19.jpg?auto=format,compress&w=559&q=90&dpr=2&updated_at=1584025585\"/></td>\n",
       "      <td><img src=\"https://stockx-360.imgix.net/Nike-LD-Waffle-Sacai-White-Nylon/Images/Nike-LD-Waffle-Sacai-White-Nylon/Lv2/img28.jpg?auto=format,compress&w=559&q=90&dpr=2&updated_at=1584025585\"/></td>\n",
       "      <td>BV0073-101</td>\n",
       "      <td>White/White</td>\n",
       "      <td>$160</td>\n",
       "      <td>03/10/2020</td>\n",
       "      <td>Running</td>\n",
       "      <td>LD Waffle Sacai</td>\n",
       "    </tr>\n",
       "    <tr>\n",
       "      <th>1</th>\n",
       "      <td>https://stockx.com/nike-ld-waffle-sacai-black-nylon</td>\n",
       "      <td>Nike LD Waffle Sacai Black Nylon</td>\n",
       "      <td>Other</td>\n",
       "      <td>Running</td>\n",
       "      <td><img src=\"https://stockx-360.imgix.net/Nike-LD-Waffle-Sacai-Black-Nylon/Images/Nike-LD-Waffle-Sacai-Black-Nylon/Lv2/img01.jpg?auto=format,compress&w=559&q=90&dpr=2&updated_at=1584757351\"/></td>\n",
       "      <td><img src=\"https://stockx-360.imgix.net/Nike-LD-Waffle-Sacai-Black-Nylon/Images/Nike-LD-Waffle-Sacai-Black-Nylon/Lv2/img04.jpg?auto=format,compress&w=559&q=90&dpr=2&updated_at=1584757351\"/></td>\n",
       "      <td><img src=\"https://stockx-360.imgix.net/Nike-LD-Waffle-Sacai-Black-Nylon/Images/Nike-LD-Waffle-Sacai-Black-Nylon/Lv2/img10.jpg?auto=format,compress&w=559&q=90&dpr=2&updated_at=1584757351\"/></td>\n",
       "      <td><img src=\"https://stockx-360.imgix.net/Nike-LD-Waffle-Sacai-Black-Nylon/Images/Nike-LD-Waffle-Sacai-Black-Nylon/Lv2/img13.jpg?auto=format,compress&w=559&q=90&dpr=2&updated_at=1584757351\"/></td>\n",
       "      <td><img src=\"https://stockx-360.imgix.net/Nike-LD-Waffle-Sacai-Black-Nylon/Images/Nike-LD-Waffle-Sacai-Black-Nylon/Lv2/img19.jpg?auto=format,compress&w=559&q=90&dpr=2&updated_at=1584757351\"/></td>\n",
       "      <td><img src=\"https://stockx-360.imgix.net/Nike-LD-Waffle-Sacai-Black-Nylon/Images/Nike-LD-Waffle-Sacai-Black-Nylon/Lv2/img28.jpg?auto=format,compress&w=559&q=90&dpr=2&updated_at=1584757351\"/></td>\n",
       "      <td>BV0073-002</td>\n",
       "      <td>Black/Black</td>\n",
       "      <td>$160</td>\n",
       "      <td>03/10/2020</td>\n",
       "      <td>Running</td>\n",
       "      <td>LD Waffle Sacai</td>\n",
       "    </tr>\n",
       "    <tr>\n",
       "      <th>2</th>\n",
       "      <td>https://stockx.com/nike-air-force-1-low-supreme-box-logo-white</td>\n",
       "      <td>Nike Air Force 1 Low Supreme White</td>\n",
       "      <td>Air Force</td>\n",
       "      <td>1</td>\n",
       "      <td><img src=\"https://stockx-360.imgix.net/Nike-Air-Force-1-Low-Supreme-Box-Logo-White/Images/Nike-Air-Force-1-Low-Supreme-Box-Logo-White/Lv2/img01.jpg?auto=format,compress&w=559&q=90&dpr=2&updated_at=1583951149\"/></td>\n",
       "      <td><img src=\"https://stockx-360.imgix.net/Nike-Air-Force-1-Low-Supreme-Box-Logo-White/Images/Nike-Air-Force-1-Low-Supreme-Box-Logo-White/Lv2/img04.jpg?auto=format,compress&w=559&q=90&dpr=2&updated_at=1583951149\"/></td>\n",
       "      <td><img src=\"https://stockx-360.imgix.net/Nike-Air-Force-1-Low-Supreme-Box-Logo-White/Images/Nike-Air-Force-1-Low-Supreme-Box-Logo-White/Lv2/img10.jpg?auto=format,compress&w=559&q=90&dpr=2&updated_at=1583951149\"/></td>\n",
       "      <td><img src=\"https://stockx-360.imgix.net/Nike-Air-Force-1-Low-Supreme-Box-Logo-White/Images/Nike-Air-Force-1-Low-Supreme-Box-Logo-White/Lv2/img13.jpg?auto=format,compress&w=559&q=90&dpr=2&updated_at=1583951149\"/></td>\n",
       "      <td><img src=\"https://stockx-360.imgix.net/Nike-Air-Force-1-Low-Supreme-Box-Logo-White/Images/Nike-Air-Force-1-Low-Supreme-Box-Logo-White/Lv2/img19.jpg?auto=format,compress&w=559&q=90&dpr=2&updated_at=1583951149\"/></td>\n",
       "      <td><img src=\"https://stockx-360.imgix.net/Nike-Air-Force-1-Low-Supreme-Box-Logo-White/Images/Nike-Air-Force-1-Low-Supreme-Box-Logo-White/Lv2/img28.jpg?auto=format,compress&w=559&q=90&dpr=2&updated_at=1583951149\"/></td>\n",
       "      <td>CU9225-100</td>\n",
       "      <td>White/White-White</td>\n",
       "      <td>$96</td>\n",
       "      <td>03/05/2020</td>\n",
       "      <td>Air Force 1</td>\n",
       "      <td>Air Force 1</td>\n",
       "    </tr>\n",
       "    <tr>\n",
       "      <th>3</th>\n",
       "      <td>https://stockx.com/nike-dunk-low-sp-syracuse</td>\n",
       "      <td>Nike Dunk Low SP Syracuse (2020)</td>\n",
       "      <td>Basketball</td>\n",
       "      <td>Other</td>\n",
       "      <td><img src=\"https://stockx-360.imgix.net/Nike-Dunk-Low-SP-Syracuse/Images/Nike-Dunk-Low-SP-Syracuse/Lv2/img01.jpg?auto=format,compress&w=559&q=90&dpr=2&updated_at=1581717601\"/></td>\n",
       "      <td><img src=\"https://stockx-360.imgix.net/Nike-Dunk-Low-SP-Syracuse/Images/Nike-Dunk-Low-SP-Syracuse/Lv2/img04.jpg?auto=format,compress&w=559&q=90&dpr=2&updated_at=1581717601\"/></td>\n",
       "      <td><img src=\"https://stockx-360.imgix.net/Nike-Dunk-Low-SP-Syracuse/Images/Nike-Dunk-Low-SP-Syracuse/Lv2/img10.jpg?auto=format,compress&w=559&q=90&dpr=2&updated_at=1581717601\"/></td>\n",
       "      <td><img src=\"https://stockx-360.imgix.net/Nike-Dunk-Low-SP-Syracuse/Images/Nike-Dunk-Low-SP-Syracuse/Lv2/img13.jpg?auto=format,compress&w=559&q=90&dpr=2&updated_at=1581717601\"/></td>\n",
       "      <td><img src=\"https://stockx-360.imgix.net/Nike-Dunk-Low-SP-Syracuse/Images/Nike-Dunk-Low-SP-Syracuse/Lv2/img19.jpg?auto=format,compress&w=559&q=90&dpr=2&updated_at=1581717601\"/></td>\n",
       "      <td><img src=\"https://stockx-360.imgix.net/Nike-Dunk-Low-SP-Syracuse/Images/Nike-Dunk-Low-SP-Syracuse/Lv2/img28.jpg?auto=format,compress&w=559&q=90&dpr=2&updated_at=1581717601\"/></td>\n",
       "      <td>CU1726-101</td>\n",
       "      <td>White/Orange</td>\n",
       "      <td>$100</td>\n",
       "      <td>03/14/2020</td>\n",
       "      <td>Basketball</td>\n",
       "      <td>Dunk Low SP</td>\n",
       "    </tr>\n",
       "    <tr>\n",
       "      <th>4</th>\n",
       "      <td>https://stockx.com/nike-air-max-90-reverse-duck-camo-2020</td>\n",
       "      <td>Nike Air Max 90 Reverse Duck Camo (2020)</td>\n",
       "      <td>Air Max</td>\n",
       "      <td>90</td>\n",
       "      <td><img src=\"https://stockx.imgix.net/Nike-Air-Max-90-Reverse-Duck-Camo-2020.png?fit=fill&bg=FFFFFF&w=700&h=500&auto=format,compress&q=90&dpr=2&trim=color&updated_at=1584067533\"/></td>\n",
       "      <td><img src=\"https://stockx.imgix.net/Nike-Air-Max-90-Reverse-Duck-Camo-2020.png?fit=fill&bg=FFFFFF&w=700&h=500&auto=format,compress&q=90&dpr=2&trim=color&updated_at=1584067533\"/></td>\n",
       "      <td><img src=\"https://stockx.imgix.net/Nike-Air-Max-90-Reverse-Duck-Camo-2020.png?fit=fill&bg=FFFFFF&w=700&h=500&auto=format,compress&q=90&dpr=2&trim=color&updated_at=1584067533\"/></td>\n",
       "      <td><img src=\"https://stockx.imgix.net/Nike-Air-Max-90-Reverse-Duck-Camo-2020.png?fit=fill&bg=FFFFFF&w=700&h=500&auto=format,compress&q=90&dpr=2&trim=color&updated_at=1584067533\"/></td>\n",
       "      <td><img src=\"https://stockx.imgix.net/Nike-Air-Max-90-Reverse-Duck-Camo-2020.png?fit=fill&bg=FFFFFF&w=700&h=500&auto=format,compress&q=90&dpr=2&trim=color&updated_at=1584067533\"/></td>\n",
       "      <td><img src=\"https://stockx.imgix.net/Nike-Air-Max-90-Reverse-Duck-Camo-2020.png?fit=fill&bg=FFFFFF&w=700&h=500&auto=format,compress&q=90&dpr=2&trim=color&updated_at=1584067533\"/></td>\n",
       "      <td>CW6024-600</td>\n",
       "      <td>Infrared/Black-Dark Sage-Baroque Brown</td>\n",
       "      <td>$140</td>\n",
       "      <td>03/26/2020</td>\n",
       "      <td>Air Max 90</td>\n",
       "      <td>Air Max 90</td>\n",
       "    </tr>\n",
       "  </tbody>\n",
       "</table>"
      ],
      "text/plain": [
       "<IPython.core.display.HTML object>"
      ]
     },
     "execution_count": 45,
     "metadata": {},
     "output_type": "execute_result"
    }
   ],
   "source": [
    "# Adding in the html tag for the images and then displaying the pandas dataframe as a html object,\n",
    "# Allowing me to view images within the dataframe\n",
    "HTML(test_2.to_html(escape=False ,formatters=dict(right = path_to_image_html, r_d = path_to_image_html,\n",
    "                                                 straight = path_to_image_html, l_d = path_to_image_html,\n",
    "                                                 left = path_to_image_html, back = path_to_image_html)))"
   ]
  },
  {
   "cell_type": "code",
   "execution_count": null,
   "metadata": {},
   "outputs": [],
   "source": []
  }
 ],
 "metadata": {
  "kernelspec": {
   "display_name": "Python 3",
   "language": "python",
   "name": "python3"
  },
  "language_info": {
   "codemirror_mode": {
    "name": "ipython",
    "version": 3
   },
   "file_extension": ".py",
   "mimetype": "text/x-python",
   "name": "python",
   "nbconvert_exporter": "python",
   "pygments_lexer": "ipython3",
   "version": "3.7.1"
  },
  "toc": {
   "base_numbering": 1,
   "nav_menu": {},
   "number_sections": true,
   "sideBar": true,
   "skip_h1_title": false,
   "title_cell": "Table of Contents",
   "title_sidebar": "Contents",
   "toc_cell": false,
   "toc_position": {},
   "toc_section_display": true,
   "toc_window_display": false
  }
 },
 "nbformat": 4,
 "nbformat_minor": 4
}
