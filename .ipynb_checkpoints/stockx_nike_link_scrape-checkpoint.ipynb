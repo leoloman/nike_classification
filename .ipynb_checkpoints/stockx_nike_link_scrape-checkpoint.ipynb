{
 "cells": [
  {
   "cell_type": "markdown",
   "metadata": {},
   "source": [
    "# Nike Shoes on StockX, Shoe Link Scrape\n",
    "\n",
    "To scrape all the individual links of all nike shoes from Stock X's website so that I can then create a dataframe of these links and iterate over each shoe and populate the dataframe."
   ]
  },
  {
   "cell_type": "markdown",
   "metadata": {},
   "source": [
    "# Imports and Functions"
   ]
  },
  {
   "cell_type": "code",
   "execution_count": 1,
   "metadata": {
    "ExecuteTime": {
     "end_time": "2020-03-25T15:56:33.301161Z",
     "start_time": "2020-03-25T15:56:32.603862Z"
    }
   },
   "outputs": [],
   "source": [
    "import numpy as np\n",
    "import pandas as pd\n",
    "from selenium import webdriver\n",
    "from time import time, sleep\n",
    "from selenium.webdriver.common.by import By\n",
    "import re\n",
    "from tqdm.notebook import tqdm"
   ]
  },
  {
   "cell_type": "code",
   "execution_count": 10,
   "metadata": {
    "ExecuteTime": {
     "end_time": "2020-03-25T15:58:50.025316Z",
     "start_time": "2020-03-25T15:58:50.018772Z"
    }
   },
   "outputs": [],
   "source": [
    "def max_pages(pages):\n",
    "    \"\"\" Use Regex to grab number and find the max page number\n",
    "    \"\"\"\n",
    "    pattern = re.compile(r'\\d+')\n",
    "    max_page = 0\n",
    "    for n in pages:\n",
    "        if int(re.findall(pattern, n)[0]) > max_page:\n",
    "            max_page = int(re.findall(pattern, n)[0])\n",
    "    return max_page"
   ]
  },
  {
   "cell_type": "code",
   "execution_count": 2,
   "metadata": {
    "ExecuteTime": {
     "end_time": "2020-03-25T15:56:36.638027Z",
     "start_time": "2020-03-25T15:56:36.633978Z"
    }
   },
   "outputs": [],
   "source": [
    "# agument images\n",
    "# https://medium.com/@anuj_shah/creating-custom-data-generator-for-training-deep-learning-models-part-1-5c62b20cff26\n",
    "# https://medium.com/@anuj_shah/creating-custom-data-generator-for-training-deep-learning-models-part-2-be9ad08f3f0e\n",
    "# https://towardsdatascience.com/exploring-image-data-augmentation-with-keras-and-tensorflow-a8162d89b844\n",
    "# https://springml.com/blog/data-augmentation-techniques/\n",
    "# https://www.kdnuggets.com/2018/05/data-augmentation-deep-learning-limited-data.html\n",
    "# https://towardsdatascience.com/data-augmentation-for-deep-learning-4fe21d1a4eb9"
   ]
  },
  {
   "cell_type": "markdown",
   "metadata": {},
   "source": [
    "# Set up Selenium"
   ]
  },
  {
   "cell_type": "code",
   "execution_count": 3,
   "metadata": {
    "ExecuteTime": {
     "end_time": "2020-03-25T15:56:37.680762Z",
     "start_time": "2020-03-25T15:56:37.675281Z"
    }
   },
   "outputs": [],
   "source": [
    "# The page that I will start my scrape on\n",
    "link = 'https://stockx.com/nike?page=1'"
   ]
  },
  {
   "cell_type": "code",
   "execution_count": 4,
   "metadata": {
    "ExecuteTime": {
     "end_time": "2020-03-25T15:56:50.477596Z",
     "start_time": "2020-03-25T15:56:48.097061Z"
    }
   },
   "outputs": [],
   "source": [
    "# Initialising Selenium's Chrome Automation\n",
    "driver = webdriver.Chrome(executable_path='./chromedriver')"
   ]
  },
  {
   "cell_type": "code",
   "execution_count": 7,
   "metadata": {
    "ExecuteTime": {
     "end_time": "2020-03-25T15:58:40.692156Z",
     "start_time": "2020-03-25T15:58:25.035206Z"
    },
    "scrolled": false
   },
   "outputs": [],
   "source": [
    "driver.get('https://stockx.com/nike?page=1')\n",
    "\n",
    "pages = []\n",
    "nike_link = []\n",
    "\n",
    "images = driver.find_elements_by_tag_name('a')\n",
    "for image in images:\n",
    "    try:\n",
    "        # I am looking for all hyperlinks on the page\n",
    "        nike = image.get_attribute('href')\n",
    "        # I am pulling the hyperlinks with Nike in the name\n",
    "        if 'nike-' in nike:\n",
    "            nike_link.append(nike)\n",
    "        # And pulling the page links so i can find the maximum amount of pages to iterate over\n",
    "        elif 'page' in nike:\n",
    "            pages.append(nike)\n",
    "        else:\n",
    "            pass\n",
    "    except:\n",
    "        pass"
   ]
  },
  {
   "cell_type": "code",
   "execution_count": 8,
   "metadata": {
    "ExecuteTime": {
     "end_time": "2020-03-25T15:58:42.644141Z",
     "start_time": "2020-03-25T15:58:42.626967Z"
    }
   },
   "outputs": [
    {
     "data": {
      "text/plain": [
       "['https://stockx.com/nike-ld-waffle-sacai-white-nylon',\n",
       " 'https://stockx.com/nike-ld-waffle-sacai-black-nylon',\n",
       " 'https://stockx.com/nike-air-force-1-low-supreme-box-logo-white',\n",
       " 'https://stockx.com/nike-dunk-low-sp-syracuse',\n",
       " 'https://stockx.com/nike-air-max-90-reverse-duck-camo-2020',\n",
       " 'https://stockx.com/nike-dunk-low-sp-kentucky',\n",
       " 'https://stockx.com/nike-air-max-1-london',\n",
       " 'https://stockx.com/nike-sb-dunk-low-travis-scott',\n",
       " 'https://stockx.com/nike-sb-dunk-low-atmos-safari',\n",
       " 'https://stockx.com/nike-air-max-1-amsterdam',\n",
       " 'https://stockx.com/nike-air-force-1-low-supreme-box-logo-black',\n",
       " 'https://stockx.com/nike-blazer-mid-77-vintage-white-black',\n",
       " 'https://stockx.com/nike-dunk-low-off-white-michigan',\n",
       " 'https://stockx.com/nike-dunk-low-off-white-pine-green',\n",
       " 'https://stockx.com/nike-dunk-low-off-white-university-red',\n",
       " 'https://stockx.com/nike-air-max-1-anniversary-red-2017-restock',\n",
       " 'https://stockx.com/nike-react-element-87-anthracite-black',\n",
       " 'https://stockx.com/nike-air-force-1-low-travis-scott-cactus-jack',\n",
       " 'https://stockx.com/nike-sb-dunk-low-infrared-orange-label',\n",
       " 'https://stockx.com/nike-air-max-2-light-atmos',\n",
       " 'https://stockx.com/nike-sb-dunk-low-raygun-tie-dye',\n",
       " 'https://stockx.com/nike-ld-waffle-sacai-white-grey',\n",
       " 'https://stockx.com/nike-ld-waffle-sacai-dark-grey-black-anthracite',\n",
       " 'https://stockx.com/nike-react-element-55-kendrick-lamar',\n",
       " 'https://stockx.com/nike-sb-dunk-low-supreme-jewel-swoosh-silver',\n",
       " 'https://stockx.com/nike-lebron-7-fairfax-away-2020',\n",
       " 'https://stockx.com/nike-blazer-high-sacai-snow-beach',\n",
       " 'https://stockx.com/nike-air-max-90-mars-landing',\n",
       " 'https://stockx.com/nike-sb-dunk-high-paul-rodriguez-mexico',\n",
       " 'https://stockx.com/nike-air-max-90-30th-anniversary-white-particle-grey-volt',\n",
       " 'https://stockx.com/nike-blazer-high-sacai-black-grey',\n",
       " 'https://stockx.com/nike-blazer-high-sacai-white-grey',\n",
       " 'https://stockx.com/nike-air-max-90-viotech-og',\n",
       " 'https://stockx.com/nike-air-force-1-low-day-of-the-dead-2019',\n",
       " 'https://stockx.com/nike-air-max-97-neon-seoul',\n",
       " 'https://stockx.com/nike-sb-dunk-low-parra',\n",
       " 'https://stockx.com/nike-dunk-low-viotech-2019',\n",
       " 'https://stockx.com/nike-air-fear-of-god-1-oatmeal',\n",
       " 'https://stockx.com/nike-air-force-1-low-clot-blue-silk',\n",
       " 'https://stockx.com/nike-react-presto-undercover-black',\n",
       " 'https://stockx.com/news/best-nike-shoes-for-women/',\n",
       " 'https://stockx.com/nike-sb-dunk-low-travis-scott',\n",
       " 'https://stockx.com/nike-dunk-low-sp-kentucky',\n",
       " 'https://stockx.com/nike-dunk-low-sp-syracuse',\n",
       " 'https://stockx.com/nike-dunk-low-sp-kentucky',\n",
       " 'https://stockx.com/nike-dunk-low-sp-syracuse',\n",
       " 'https://stockx.com/nike-sb-dunk-low-travis-scott',\n",
       " 'https://stockx.com/nike-sb-dunk-low-atmos-safari',\n",
       " 'https://stockx.com/nike-sb-dunk-low-travis-scott',\n",
       " 'https://stockx.com/nike-dunk-low-sp-syracuse',\n",
       " 'https://stockx.com/nike-dunk-low-sp-kentucky',\n",
       " 'https://stockx.com/nike-sb-dunk-low-atmos-safari',\n",
       " 'https://stockx.com/nike-air-force-1-low-supreme-box-logo-white',\n",
       " 'https://stockx.com/nike-air-force-1-low-supreme-box-logo-black']"
      ]
     },
     "execution_count": 8,
     "metadata": {},
     "output_type": "execute_result"
    }
   ],
   "source": [
    "nike_link"
   ]
  },
  {
   "cell_type": "code",
   "execution_count": 9,
   "metadata": {
    "ExecuteTime": {
     "end_time": "2020-03-25T15:58:46.386919Z",
     "start_time": "2020-03-25T15:58:46.379889Z"
    },
    "scrolled": true
   },
   "outputs": [
    {
     "data": {
      "text/plain": [
       "['https://stockx.com/nike?page=1',\n",
       " 'https://stockx.com/nike?page=2',\n",
       " 'https://stockx.com/nike?page=3',\n",
       " 'https://stockx.com/nike?page=4',\n",
       " 'https://stockx.com/nike?page=25',\n",
       " 'https://stockx.com/nike?page=2']"
      ]
     },
     "execution_count": 9,
     "metadata": {},
     "output_type": "execute_result"
    }
   ],
   "source": [
    "pages"
   ]
  },
  {
   "cell_type": "code",
   "execution_count": 11,
   "metadata": {
    "ExecuteTime": {
     "end_time": "2020-03-25T15:58:50.521796Z",
     "start_time": "2020-03-25T15:58:50.515038Z"
    }
   },
   "outputs": [
    {
     "data": {
      "text/plain": [
       "25"
      ]
     },
     "execution_count": 11,
     "metadata": {},
     "output_type": "execute_result"
    }
   ],
   "source": [
    "max_pages(pages)"
   ]
  },
  {
   "cell_type": "code",
   "execution_count": 13,
   "metadata": {
    "ExecuteTime": {
     "end_time": "2020-03-25T16:05:15.424965Z",
     "start_time": "2020-03-25T15:59:10.770426Z"
    }
   },
   "outputs": [
    {
     "data": {
      "application/vnd.jupyter.widget-view+json": {
       "model_id": "184c840df6a74087a9fb80eb7ff41f3c",
       "version_major": 2,
       "version_minor": 0
      },
      "text/plain": [
       "HBox(children=(FloatProgress(value=0.0, max=24.0), HTML(value='')))"
      ]
     },
     "metadata": {},
     "output_type": "display_data"
    },
    {
     "name": "stdout",
     "output_type": "stream",
     "text": [
      "\n"
     ]
    }
   ],
   "source": [
    "for x in tqdm(range(2, max_pages(pages)+1)):\n",
    "    url = 'https://stockx.com/nike?page={}'.format(x)\n",
    "    driver.get(url)\n",
    "       \n",
    "    # I used implicitly wait to bypass the bot detection on Stock X's website as I frequently had to enter\n",
    "    # Captcha codes if it was accessing without any modifications.\n",
    "    driver.implicitly_wait(100)\n",
    "    start = time()\n",
    "    while time()-start<10:\n",
    "        driver.execute_script(\"window.scrollTo(5, document.body.scrollHeight);\")\n",
    "    \n",
    "    images = driver.find_elements_by_tag_name('a')\n",
    "    for image in images:\n",
    "        try:\n",
    "            nike = image.get_attribute('href')\n",
    "            if 'nike-' in nike:\n",
    "                nike_link.append(nike)\n",
    "            else:\n",
    "                pass\n",
    "        except:\n",
    "            pass\n",
    "    "
   ]
  },
  {
   "cell_type": "code",
   "execution_count": 15,
   "metadata": {
    "ExecuteTime": {
     "end_time": "2020-03-25T16:06:47.559764Z",
     "start_time": "2020-03-25T16:06:47.553910Z"
    }
   },
   "outputs": [
    {
     "data": {
      "text/plain": [
       "1298"
      ]
     },
     "execution_count": 15,
     "metadata": {},
     "output_type": "execute_result"
    }
   ],
   "source": [
    "nike_link"
   ]
  },
  {
   "cell_type": "code",
   "execution_count": 19,
   "metadata": {
    "ExecuteTime": {
     "end_time": "2020-03-25T16:08:17.252280Z",
     "start_time": "2020-03-25T16:08:17.248193Z"
    }
   },
   "outputs": [],
   "source": [
    "stockx_link  = pd.DataFrame(nike_link,columns=['stockx_link'])"
   ]
  },
  {
   "cell_type": "code",
   "execution_count": 20,
   "metadata": {
    "ExecuteTime": {
     "end_time": "2020-03-25T16:08:28.503656Z",
     "start_time": "2020-03-25T16:08:28.488553Z"
    }
   },
   "outputs": [],
   "source": [
    "stockx_link.to_csv('stockx_link.csv')"
   ]
  },
  {
   "cell_type": "code",
   "execution_count": null,
   "metadata": {},
   "outputs": [],
   "source": []
  }
 ],
 "metadata": {
  "kernelspec": {
   "display_name": "Python 3",
   "language": "python",
   "name": "python3"
  },
  "language_info": {
   "codemirror_mode": {
    "name": "ipython",
    "version": 3
   },
   "file_extension": ".py",
   "mimetype": "text/x-python",
   "name": "python",
   "nbconvert_exporter": "python",
   "pygments_lexer": "ipython3",
   "version": "3.7.1"
  },
  "toc": {
   "base_numbering": 1,
   "nav_menu": {},
   "number_sections": true,
   "sideBar": true,
   "skip_h1_title": false,
   "title_cell": "Table of Contents",
   "title_sidebar": "Contents",
   "toc_cell": false,
   "toc_position": {},
   "toc_section_display": true,
   "toc_window_display": false
  }
 },
 "nbformat": 4,
 "nbformat_minor": 4
}
