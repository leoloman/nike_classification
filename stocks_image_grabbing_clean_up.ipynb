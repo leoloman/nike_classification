{
 "cells": [
  {
   "cell_type": "markdown",
   "metadata": {},
   "source": [
    "# Downloading and putting the pathway of each image into my Dataframe"
   ]
  },
  {
   "cell_type": "markdown",
   "metadata": {
    "ExecuteTime": {
     "end_time": "2020-04-02T14:35:53.187517Z",
     "start_time": "2020-04-02T14:35:53.182957Z"
    }
   },
   "source": [
    "# Imports and Functions"
   ]
  },
  {
   "cell_type": "code",
   "execution_count": 11,
   "metadata": {
    "ExecuteTime": {
     "end_time": "2020-03-27T23:06:15.268631Z",
     "start_time": "2020-03-27T23:06:15.258290Z"
    }
   },
   "outputs": [],
   "source": [
    "import numpy as np\n",
    "import pandas as pd\n",
    "from selenium import webdriver\n",
    "from selenium.webdriver.common.by import By\n",
    "import seaborn as sns\n",
    "import re\n",
    "import matplotlib.pyplot as plt\n",
    "from bs4 import BeautifulSoup\n",
    "from tqdm.notebook import tqdm\n",
    "from IPython.display import Image, HTML\n",
    "pd.set_option('display.max_colwidth', None)"
   ]
  },
  {
   "cell_type": "code",
   "execution_count": 15,
   "metadata": {
    "ExecuteTime": {
     "end_time": "2020-03-27T13:13:08.922939Z",
     "start_time": "2020-03-27T13:13:08.918511Z"
    }
   },
   "outputs": [],
   "source": [
    "def path_to_image_html(path):\n",
    "    \"\"\"\n",
    "    Allows html image links to be seen within pandas\n",
    "    \"\"\"\n",
    "    return '<img src=\"'+ path + '\"/>'"
   ]
  },
  {
   "cell_type": "code",
   "execution_count": 1,
   "metadata": {
    "ExecuteTime": {
     "end_time": "2020-03-26T22:51:16.882079Z",
     "start_time": "2020-03-26T22:51:16.874038Z"
    }
   },
   "outputs": [],
   "source": [
    "def model_clean_up(x):\n",
    "    \"\"\"\n",
    "    Returning the correct parent category for each Shoe\n",
    "    \"\"\"\n",
    "    if 'kobe' in x.lower():\n",
    "        return 'Basketball'\n",
    "    elif 'lebron' in x.lower():\n",
    "        return 'Basketball'\n",
    "    elif 'basketball' in x.lower():\n",
    "        return 'Basketball'\n",
    "    elif 'dunk low' in x.lower():\n",
    "        return 'Dunk Low'\n",
    "    elif 'dunk mid' in x.lower():\n",
    "        return 'Dunk Mid'\n",
    "    elif 'dunk high' in x.lower():\n",
    "        return 'Dunk High'\n",
    "    elif 'lebron' in x.lower():\n",
    "        return 'Basketball'\n",
    "    elif 'foamposite' in x.lower():\n",
    "        return 'Foamposite'\n",
    "    elif 'KD' in x:\n",
    "        return 'Basketball'\n",
    "    else:\n",
    "        return x"
   ]
  },
  {
   "cell_type": "code",
   "execution_count": 44,
   "metadata": {
    "ExecuteTime": {
     "end_time": "2020-03-26T17:19:25.603027Z",
     "start_time": "2020-03-26T17:19:25.597910Z"
    }
   },
   "outputs": [],
   "source": [
    "def dollar(x):\n",
    "    \"\"\"\n",
    "    Arguments:\n",
    "    x: str, the string to clean\n",
    "    \n",
    "    Produces:\n",
    "    int\n",
    "    \"\"\"\n",
    "    pattern = re.compile(r'\\d+')\n",
    "    if type(x) == str:\n",
    "        if len(re.findall(pattern, x)) == 1:\n",
    "            return float(re.findall(pattern, x)[0])\n",
    "        else:\n",
    "            return 0\n",
    "    else:\n",
    "        return 0"
   ]
  },
  {
   "cell_type": "code",
   "execution_count": 126,
   "metadata": {
    "ExecuteTime": {
     "end_time": "2020-03-26T18:52:13.689380Z",
     "start_time": "2020-03-26T18:52:13.681969Z"
    }
   },
   "outputs": [],
   "source": [
    "def image_dl(x, name, position):\n",
    "    try:\n",
    "        name = name.replace(' ','_').replace('(','').replace(')','').replace(\"/\",'')+'_'+ position\n",
    "        urllib.request.urlretrieve(x, \"images/{}/{}.jpg\".format(position, name))\n",
    "        return name +'.jpg'\n",
    "    except:\n",
    "        return np.nan"
   ]
  },
  {
   "cell_type": "code",
   "execution_count": null,
   "metadata": {},
   "outputs": [],
   "source": []
  },
  {
   "cell_type": "code",
   "execution_count": 17,
   "metadata": {
    "ExecuteTime": {
     "end_time": "2020-03-26T16:30:58.501421Z",
     "start_time": "2020-03-26T16:30:58.476043Z"
    }
   },
   "outputs": [],
   "source": [
    "stockx = pd.read_csv('stockx_complete.csv',index_col=0).reset_index(drop=True)"
   ]
  },
  {
   "cell_type": "code",
   "execution_count": 58,
   "metadata": {
    "ExecuteTime": {
     "end_time": "2020-03-26T17:25:06.019604Z",
     "start_time": "2020-03-26T17:25:06.013348Z"
    },
    "scrolled": true
   },
   "outputs": [],
   "source": [
    "# HTML(stockx.to_html(escape=False ,formatters=dict(right = path_to_image_html, r_d = path_to_image_html,\n",
    "#                                                  straight = path_to_image_html, l_d = path_to_image_html,\n",
    "#                                                  left = path_to_image_html, back = path_to_image_html)))"
   ]
  },
  {
   "cell_type": "code",
   "execution_count": null,
   "metadata": {},
   "outputs": [],
   "source": [
    "# A quick scroll reveals that some of the images aren't a proper link, therefore I will need to find out which \n",
    "# aren't and go on to replace it with the front image"
   ]
  },
  {
   "cell_type": "code",
   "execution_count": 19,
   "metadata": {
    "ExecuteTime": {
     "end_time": "2020-03-26T16:38:22.807852Z",
     "start_time": "2020-03-26T16:38:22.802967Z"
    }
   },
   "outputs": [],
   "source": [
    "# 'back' to be replace in all\n",
    "back_replace = [98,116,121,124,135,141,145,146,147,149,150,151,152,160,644,699,757,775,782,927,937] \n",
    "# for 539\n",
    "for_539 = ['straight','l_d','left','back'] "
   ]
  },
  {
   "cell_type": "code",
   "execution_count": 29,
   "metadata": {
    "ExecuteTime": {
     "end_time": "2020-03-26T16:41:27.234084Z",
     "start_time": "2020-03-26T16:41:27.224322Z"
    }
   },
   "outputs": [],
   "source": [
    "for i in back_replace:\n",
    "    stockx.iloc[i]['back'] = stockx.iloc[i]['right']"
   ]
  },
  {
   "cell_type": "code",
   "execution_count": 30,
   "metadata": {
    "ExecuteTime": {
     "end_time": "2020-03-26T16:41:27.970776Z",
     "start_time": "2020-03-26T16:41:27.965648Z"
    }
   },
   "outputs": [],
   "source": [
    "for angle in for_539:\n",
    "    stockx.iloc[539][angle] = stockx.iloc[539]['right']"
   ]
  },
  {
   "cell_type": "code",
   "execution_count": 59,
   "metadata": {
    "ExecuteTime": {
     "end_time": "2020-03-26T17:25:10.491534Z",
     "start_time": "2020-03-26T17:25:10.488229Z"
    }
   },
   "outputs": [],
   "source": [
    "# HTML(stockx.to_html(escape=False ,formatters=dict(right = path_to_image_html, r_d = path_to_image_html,\n",
    "#                                                  straight = path_to_image_html, l_d = path_to_image_html,\n",
    "#                                                  left = path_to_image_html, back = path_to_image_html)))"
   ]
  },
  {
   "cell_type": "code",
   "execution_count": 13,
   "metadata": {
    "ExecuteTime": {
     "end_time": "2020-03-26T16:19:41.885419Z",
     "start_time": "2020-03-26T16:19:41.877028Z"
    },
    "scrolled": false
   },
   "outputs": [
    {
     "data": {
      "text/plain": [
       "Running                                                      148\n",
       "Air Force 1                                                  140\n",
       "Basketball                                                    75\n",
       "Air Max VaporMax                                              75\n",
       "Air Max                                                       67\n",
       "Air Max 97                                                    59\n",
       "Air Max 90                                                    56\n",
       "Air Max 1                                                     43\n",
       "SB SB Dunk Low                                                40\n",
       "Basketball Kyrie                                              24\n",
       "Other                                                         21\n",
       "Air Max 95                                                    16\n",
       "Air Max 270                                                   16\n",
       "LeBron 17                                                     15\n",
       "SB SB Dunk High                                               15\n",
       "LeBron 16                                                     14\n",
       "Foamposite 1                                                  14\n",
       "SB                                                            13\n",
       "Kobe 4                                                         9\n",
       "Air Max Plus                                                   8\n",
       "KD 12                                                          8\n",
       "Air Max 98                                                     7\n",
       "Training                                                       7\n",
       "Basketball Dunk                                                6\n",
       "LeBron 15                                                      5\n",
       "LeBron 7                                                       5\n",
       "LeBron                                                         4\n",
       "Kobe                                                           3\n",
       "Foamposite Pro                                                 3\n",
       "Kobe 5                                                         2\n",
       "Kobe 1                                                         2\n",
       "Premium                                                        2\n",
       "SB SB Dunk Mid                                                 2\n",
       "KD 11                                                          1\n",
       "Kobe Nike Kobe A.D. Port Wine                                  1\n",
       "SB Nike SB Dunk Low Truck It                                   1\n",
       "LeBron 3                                                       1\n",
       "Kobe Nike Kobe AD NXT FF Vast Grey Blue Hero                   1\n",
       "Kobe Nike Kobe A.D. Devin Booker PE                            1\n",
       "SB Nike SB Dunk Low Raygun Tie-Dye Black (TD)                  1\n",
       "SB Nike SB Dunk Low Travis Scott (Regular Box)                 1\n",
       "SB Nike SB Dunk Low StrangeLove Skateboards (Regular Box)      1\n",
       "Kobe Nike Kobe A.D. DeMar DeRozan Blue                         1\n",
       "SB Nike SB Dunk Low Infrared Orange Label                      1\n",
       "Kobe Nike Kobe AD NXT FF Queen                                 1\n",
       "SB Nike SB Dunk Low Raygun Tie-Dye White                       1\n",
       "Kobe Nike Kobe AD NXT FF Off Noir Clear                        1\n",
       "SB Nike SB Dunk Low J-Pack Shadow                              1\n",
       "SB Nike SB Dunk Low Raygun Tie-Dye Black                       1\n",
       "Kobe Nike Kobe AD NXT FF Vast Grey                             1\n",
       "KD 4                                                           1\n",
       "LeBron 1                                                       1\n",
       "Basketball Hyperdunk                                           1\n",
       "Name: type_3, dtype: int64"
      ]
     },
     "execution_count": 13,
     "metadata": {},
     "output_type": "execute_result"
    }
   ],
   "source": [
    "stockx.type_3.value_counts()"
   ]
  },
  {
   "cell_type": "code",
   "execution_count": 39,
   "metadata": {
    "ExecuteTime": {
     "end_time": "2020-03-26T17:08:06.780137Z",
     "start_time": "2020-03-26T17:08:06.769161Z"
    }
   },
   "outputs": [
    {
     "data": {
      "text/plain": [
       "Basketball          184\n",
       "Running             148\n",
       "Air Force 1         140\n",
       "Air Max VaporMax     75\n",
       "Air Max              67\n",
       "Air Max 97           59\n",
       "Air Max 90           56\n",
       "Dunk Low             48\n",
       "Air Max 1            43\n",
       "Other                21\n",
       "Foamposite           17\n",
       "Air Max 270          16\n",
       "Air Max 95           16\n",
       "Dunk High            15\n",
       "SB                   13\n",
       "Air Max Plus          8\n",
       "Air Max 98            7\n",
       "Training              7\n",
       "Dunk Mid              2\n",
       "Premium               2\n",
       "Name: type_3, dtype: int64"
      ]
     },
     "execution_count": 39,
     "metadata": {},
     "output_type": "execute_result"
    }
   ],
   "source": [
    "stockx.type_3.apply(model_clean_up).value_counts()"
   ]
  },
  {
   "cell_type": "code",
   "execution_count": 43,
   "metadata": {
    "ExecuteTime": {
     "end_time": "2020-03-26T17:16:29.322795Z",
     "start_time": "2020-03-26T17:16:29.316877Z"
    }
   },
   "outputs": [
    {
     "data": {
      "text/plain": [
       "(944, 16)"
      ]
     },
     "execution_count": 43,
     "metadata": {},
     "output_type": "execute_result"
    }
   ],
   "source": [
    "stockx.shape"
   ]
  },
  {
   "cell_type": "code",
   "execution_count": 42,
   "metadata": {
    "ExecuteTime": {
     "end_time": "2020-03-26T17:11:01.664631Z",
     "start_time": "2020-03-26T17:11:01.646179Z"
    }
   },
   "outputs": [
    {
     "name": "stdout",
     "output_type": "stream",
     "text": [
      "stockx_link : 944\n",
      "stockx_name : 943\n",
      "type_1 : 9\n",
      "type_2 : 43\n",
      "type_3 : 53\n",
      "model : 271\n",
      "right : 943\n",
      "r_d : 943\n",
      "straight : 943\n",
      "l_d : 943\n",
      "left : 943\n",
      "back : 943\n",
      "Style : 939\n",
      "Colorway : 805\n",
      "RetailPrice : 46\n",
      "ReleaseDate : 424\n"
     ]
    }
   ],
   "source": [
    "for col in stockx.columns:\n",
    "    print(col,':',stockx[col].nunique())"
   ]
  },
  {
   "cell_type": "code",
   "execution_count": 46,
   "metadata": {
    "ExecuteTime": {
     "end_time": "2020-03-26T17:20:21.322313Z",
     "start_time": "2020-03-26T17:20:21.313114Z"
    }
   },
   "outputs": [],
   "source": [
    "stockx.RetailPrice = stockx.RetailPrice.apply(dollar)"
   ]
  },
  {
   "cell_type": "code",
   "execution_count": 61,
   "metadata": {
    "ExecuteTime": {
     "end_time": "2020-03-26T17:47:28.905146Z",
     "start_time": "2020-03-26T17:47:28.873235Z"
    },
    "scrolled": true
   },
   "outputs": [
    {
     "data": {
      "text/html": [
       "<div>\n",
       "<style scoped>\n",
       "    .dataframe tbody tr th:only-of-type {\n",
       "        vertical-align: middle;\n",
       "    }\n",
       "\n",
       "    .dataframe tbody tr th {\n",
       "        vertical-align: top;\n",
       "    }\n",
       "\n",
       "    .dataframe thead th {\n",
       "        text-align: right;\n",
       "    }\n",
       "</style>\n",
       "<table border=\"1\" class=\"dataframe\">\n",
       "  <thead>\n",
       "    <tr style=\"text-align: right;\">\n",
       "      <th></th>\n",
       "      <th>stockx_link</th>\n",
       "      <th>stockx_name</th>\n",
       "      <th>type_1</th>\n",
       "      <th>type_2</th>\n",
       "      <th>type_3</th>\n",
       "      <th>model</th>\n",
       "      <th>right</th>\n",
       "      <th>r_d</th>\n",
       "      <th>straight</th>\n",
       "      <th>l_d</th>\n",
       "      <th>left</th>\n",
       "      <th>back</th>\n",
       "      <th>Style</th>\n",
       "      <th>Colorway</th>\n",
       "      <th>RetailPrice</th>\n",
       "      <th>ReleaseDate</th>\n",
       "    </tr>\n",
       "  </thead>\n",
       "  <tbody>\n",
       "    <tr>\n",
       "      <th>928</th>\n",
       "      <td>https://stockx.com/nike-air-fear-of-god-1-sa-black</td>\n",
       "      <td>Nike Air Fear Of God 1 SA Black</td>\n",
       "      <td>Basketball</td>\n",
       "      <td>Other</td>\n",
       "      <td>Basketball</td>\n",
       "      <td>Air Fear Of</td>\n",
       "      <td>https://stockx-360.imgix.net/Nike-Air-Fear-Of-God-1-SA-Black/Images/Nike-Air-Fear-Of-God-1-SA-Black/Lv2/img01.jpg?auto=format,compress&amp;w=559&amp;q=90&amp;dpr=2&amp;updated_at=1545175727</td>\n",
       "      <td>https://stockx-360.imgix.net/Nike-Air-Fear-Of-God-1-SA-Black/Images/Nike-Air-Fear-Of-God-1-SA-Black/Lv2/img04.jpg?auto=format,compress&amp;w=559&amp;q=90&amp;dpr=2&amp;updated_at=1545175727</td>\n",
       "      <td>https://stockx-360.imgix.net/Nike-Air-Fear-Of-God-1-SA-Black/Images/Nike-Air-Fear-Of-God-1-SA-Black/Lv2/img10.jpg?auto=format,compress&amp;w=559&amp;q=90&amp;dpr=2&amp;updated_at=1545175727</td>\n",
       "      <td>https://stockx-360.imgix.net/Nike-Air-Fear-Of-God-1-SA-Black/Images/Nike-Air-Fear-Of-God-1-SA-Black/Lv2/img13.jpg?auto=format,compress&amp;w=559&amp;q=90&amp;dpr=2&amp;updated_at=1545175727</td>\n",
       "      <td>https://stockx-360.imgix.net/Nike-Air-Fear-Of-God-1-SA-Black/Images/Nike-Air-Fear-Of-God-1-SA-Black/Lv2/img19.jpg?auto=format,compress&amp;w=559&amp;q=90&amp;dpr=2&amp;updated_at=1545175727</td>\n",
       "      <td>https://stockx-360.imgix.net/Nike-Air-Fear-Of-God-1-SA-Black/Images/Nike-Air-Fear-Of-God-1-SA-Black/Lv2/img28.jpg?auto=format,compress&amp;w=559&amp;q=90&amp;dpr=2&amp;updated_at=1545175727</td>\n",
       "      <td>AT9915-001</td>\n",
       "      <td>Black/White</td>\n",
       "      <td>300.0</td>\n",
       "      <td>12/15/2018</td>\n",
       "    </tr>\n",
       "    <tr>\n",
       "      <th>37</th>\n",
       "      <td>https://stockx.com/nike-air-fear-of-god-1-oatmeal</td>\n",
       "      <td>Nike Air Fear of God 1 Oatmeal</td>\n",
       "      <td>Other</td>\n",
       "      <td>Other</td>\n",
       "      <td>Other</td>\n",
       "      <td>Air Fear of</td>\n",
       "      <td>https://stockx-360.imgix.net/Nike-Air-Fear-of-God-1-Oatmeal/Images/Nike-Air-Fear-of-God-1-Oatmeal/Lv2/img01.jpg?auto=format,compress&amp;w=559&amp;q=90&amp;dpr=2&amp;updated_at=1573502731</td>\n",
       "      <td>https://stockx-360.imgix.net/Nike-Air-Fear-of-God-1-Oatmeal/Images/Nike-Air-Fear-of-God-1-Oatmeal/Lv2/img04.jpg?auto=format,compress&amp;w=559&amp;q=90&amp;dpr=2&amp;updated_at=1573502731</td>\n",
       "      <td>https://stockx-360.imgix.net/Nike-Air-Fear-of-God-1-Oatmeal/Images/Nike-Air-Fear-of-God-1-Oatmeal/Lv2/img10.jpg?auto=format,compress&amp;w=559&amp;q=90&amp;dpr=2&amp;updated_at=1573502731</td>\n",
       "      <td>https://stockx-360.imgix.net/Nike-Air-Fear-of-God-1-Oatmeal/Images/Nike-Air-Fear-of-God-1-Oatmeal/Lv2/img13.jpg?auto=format,compress&amp;w=559&amp;q=90&amp;dpr=2&amp;updated_at=1573502731</td>\n",
       "      <td>https://stockx-360.imgix.net/Nike-Air-Fear-of-God-1-Oatmeal/Images/Nike-Air-Fear-of-God-1-Oatmeal/Lv2/img19.jpg?auto=format,compress&amp;w=559&amp;q=90&amp;dpr=2&amp;updated_at=1573502731</td>\n",
       "      <td>https://stockx-360.imgix.net/Nike-Air-Fear-of-God-1-Oatmeal/Images/Nike-Air-Fear-of-God-1-Oatmeal/Lv2/img28.jpg?auto=format,compress&amp;w=559&amp;q=90&amp;dpr=2&amp;updated_at=1573502731</td>\n",
       "      <td>AR4237-900</td>\n",
       "      <td>Multi-Color/String-Oatmeal</td>\n",
       "      <td>350.0</td>\n",
       "      <td>11/02/2019</td>\n",
       "    </tr>\n",
       "    <tr>\n",
       "      <th>58</th>\n",
       "      <td>https://stockx.com/nike-air-fear-of-god-1-orange-pulse</td>\n",
       "      <td>Nike Air Fear Of God 1 Orange Pulse</td>\n",
       "      <td>Basketball</td>\n",
       "      <td>Other</td>\n",
       "      <td>Basketball</td>\n",
       "      <td>Air Fear Of</td>\n",
       "      <td>https://stockx-360.imgix.net/Nike-Air-Fear-Of-God-1-Orange-Pulse/Images/Nike-Air-Fear-Of-God-1-Orange-Pulse/Lv2/img01.jpg?auto=format,compress&amp;w=559&amp;q=90&amp;dpr=2&amp;updated_at=1559746246</td>\n",
       "      <td>https://stockx-360.imgix.net/Nike-Air-Fear-Of-God-1-Orange-Pulse/Images/Nike-Air-Fear-Of-God-1-Orange-Pulse/Lv2/img04.jpg?auto=format,compress&amp;w=559&amp;q=90&amp;dpr=2&amp;updated_at=1559746246</td>\n",
       "      <td>https://stockx-360.imgix.net/Nike-Air-Fear-Of-God-1-Orange-Pulse/Images/Nike-Air-Fear-Of-God-1-Orange-Pulse/Lv2/img10.jpg?auto=format,compress&amp;w=559&amp;q=90&amp;dpr=2&amp;updated_at=1559746246</td>\n",
       "      <td>https://stockx-360.imgix.net/Nike-Air-Fear-Of-God-1-Orange-Pulse/Images/Nike-Air-Fear-Of-God-1-Orange-Pulse/Lv2/img13.jpg?auto=format,compress&amp;w=559&amp;q=90&amp;dpr=2&amp;updated_at=1559746246</td>\n",
       "      <td>https://stockx-360.imgix.net/Nike-Air-Fear-Of-God-1-Orange-Pulse/Images/Nike-Air-Fear-Of-God-1-Orange-Pulse/Lv2/img19.jpg?auto=format,compress&amp;w=559&amp;q=90&amp;dpr=2&amp;updated_at=1559746246</td>\n",
       "      <td>https://stockx-360.imgix.net/Nike-Air-Fear-Of-God-1-Orange-Pulse/Images/Nike-Air-Fear-Of-God-1-Orange-Pulse/Lv2/img28.jpg?auto=format,compress&amp;w=559&amp;q=90&amp;dpr=2&amp;updated_at=1559746246</td>\n",
       "      <td>AR4237-800</td>\n",
       "      <td>Orange Pulse/Orange Pulse-Orange Pulse</td>\n",
       "      <td>350.0</td>\n",
       "      <td>06/01/2019</td>\n",
       "    </tr>\n",
       "    <tr>\n",
       "      <th>62</th>\n",
       "      <td>https://stockx.com/nike-adapt-bb-mag</td>\n",
       "      <td>Nike Adapt BB Mag (US Charger)</td>\n",
       "      <td>Basketball</td>\n",
       "      <td>Other</td>\n",
       "      <td>Basketball</td>\n",
       "      <td>Adapt BB Mag</td>\n",
       "      <td>https://stockx-360.imgix.net/Nike-Adapt-BB-Mag/Images/Nike-Adapt-BB-Mag/Lv2/img01.jpg?auto=format,compress&amp;w=559&amp;q=90&amp;dpr=2&amp;updated_at=1560368697</td>\n",
       "      <td>https://stockx-360.imgix.net/Nike-Adapt-BB-Mag/Images/Nike-Adapt-BB-Mag/Lv2/img04.jpg?auto=format,compress&amp;w=559&amp;q=90&amp;dpr=2&amp;updated_at=1560368697</td>\n",
       "      <td>https://stockx-360.imgix.net/Nike-Adapt-BB-Mag/Images/Nike-Adapt-BB-Mag/Lv2/img10.jpg?auto=format,compress&amp;w=559&amp;q=90&amp;dpr=2&amp;updated_at=1560368697</td>\n",
       "      <td>https://stockx-360.imgix.net/Nike-Adapt-BB-Mag/Images/Nike-Adapt-BB-Mag/Lv2/img13.jpg?auto=format,compress&amp;w=559&amp;q=90&amp;dpr=2&amp;updated_at=1560368697</td>\n",
       "      <td>https://stockx-360.imgix.net/Nike-Adapt-BB-Mag/Images/Nike-Adapt-BB-Mag/Lv2/img19.jpg?auto=format,compress&amp;w=559&amp;q=90&amp;dpr=2&amp;updated_at=1560368697</td>\n",
       "      <td>https://stockx-360.imgix.net/Nike-Adapt-BB-Mag/Images/Nike-Adapt-BB-Mag/Lv2/img28.jpg?auto=format,compress&amp;w=559&amp;q=90&amp;dpr=2&amp;updated_at=1560368697</td>\n",
       "      <td>AO2582-002</td>\n",
       "      <td>Wolf Grey/Reflect Silver</td>\n",
       "      <td>350.0</td>\n",
       "      <td>05/29/2019</td>\n",
       "    </tr>\n",
       "    <tr>\n",
       "      <th>70</th>\n",
       "      <td>https://stockx.com/nike-adapt-bb-black-pure-platinum</td>\n",
       "      <td>Nike Adapt BB Black Pure Platinum (US Charger)</td>\n",
       "      <td>Basketball</td>\n",
       "      <td>Other</td>\n",
       "      <td>Basketball</td>\n",
       "      <td>Adapt BB Black</td>\n",
       "      <td>https://stockx-360.imgix.net/Nike-Adapt-BB-Black-Pure-Platinum/Images/Nike-Adapt-BB-Black-Pure-Platinum/Lv2/img01.jpg?auto=format,compress&amp;w=559&amp;q=90&amp;dpr=2&amp;updated_at=1551049122</td>\n",
       "      <td>https://stockx-360.imgix.net/Nike-Adapt-BB-Black-Pure-Platinum/Images/Nike-Adapt-BB-Black-Pure-Platinum/Lv2/img04.jpg?auto=format,compress&amp;w=559&amp;q=90&amp;dpr=2&amp;updated_at=1551049122</td>\n",
       "      <td>https://stockx-360.imgix.net/Nike-Adapt-BB-Black-Pure-Platinum/Images/Nike-Adapt-BB-Black-Pure-Platinum/Lv2/img10.jpg?auto=format,compress&amp;w=559&amp;q=90&amp;dpr=2&amp;updated_at=1551049122</td>\n",
       "      <td>https://stockx-360.imgix.net/Nike-Adapt-BB-Black-Pure-Platinum/Images/Nike-Adapt-BB-Black-Pure-Platinum/Lv2/img13.jpg?auto=format,compress&amp;w=559&amp;q=90&amp;dpr=2&amp;updated_at=1551049122</td>\n",
       "      <td>https://stockx-360.imgix.net/Nike-Adapt-BB-Black-Pure-Platinum/Images/Nike-Adapt-BB-Black-Pure-Platinum/Lv2/img19.jpg?auto=format,compress&amp;w=559&amp;q=90&amp;dpr=2&amp;updated_at=1551049122</td>\n",
       "      <td>https://stockx-360.imgix.net/Nike-Adapt-BB-Black-Pure-Platinum/Images/Nike-Adapt-BB-Black-Pure-Platinum/Lv2/img28.jpg?auto=format,compress&amp;w=559&amp;q=90&amp;dpr=2&amp;updated_at=1551049122</td>\n",
       "      <td>AO2582-001</td>\n",
       "      <td>Black/White-Pure Platinum</td>\n",
       "      <td>350.0</td>\n",
       "      <td>02/17/2019</td>\n",
       "    </tr>\n",
       "    <tr>\n",
       "      <th>103</th>\n",
       "      <td>https://stockx.com/nike-air-fear-of-god-1-frosted-spruce</td>\n",
       "      <td>Nike Air Fear Of God 1 Frosted Spruce</td>\n",
       "      <td>Basketball</td>\n",
       "      <td>Other</td>\n",
       "      <td>Basketball</td>\n",
       "      <td>Air Fear Of</td>\n",
       "      <td>https://stockx-360.imgix.net/Nike-Air-Fear-Of-God-1-Frosted-Spruce/Images/Nike-Air-Fear-Of-God-1-Frosted-Spruce/Lv2/img01.jpg?auto=format,compress&amp;w=559&amp;q=90&amp;dpr=2&amp;updated_at=1559748019</td>\n",
       "      <td>https://stockx-360.imgix.net/Nike-Air-Fear-Of-God-1-Frosted-Spruce/Images/Nike-Air-Fear-Of-God-1-Frosted-Spruce/Lv2/img04.jpg?auto=format,compress&amp;w=559&amp;q=90&amp;dpr=2&amp;updated_at=1559748019</td>\n",
       "      <td>https://stockx-360.imgix.net/Nike-Air-Fear-Of-God-1-Frosted-Spruce/Images/Nike-Air-Fear-Of-God-1-Frosted-Spruce/Lv2/img10.jpg?auto=format,compress&amp;w=559&amp;q=90&amp;dpr=2&amp;updated_at=1559748019</td>\n",
       "      <td>https://stockx-360.imgix.net/Nike-Air-Fear-Of-God-1-Frosted-Spruce/Images/Nike-Air-Fear-Of-God-1-Frosted-Spruce/Lv2/img13.jpg?auto=format,compress&amp;w=559&amp;q=90&amp;dpr=2&amp;updated_at=1559748019</td>\n",
       "      <td>https://stockx-360.imgix.net/Nike-Air-Fear-Of-God-1-Frosted-Spruce/Images/Nike-Air-Fear-Of-God-1-Frosted-Spruce/Lv2/img19.jpg?auto=format,compress&amp;w=559&amp;q=90&amp;dpr=2&amp;updated_at=1559748019</td>\n",
       "      <td>https://stockx-360.imgix.net/Nike-Air-Fear-Of-God-1-Frosted-Spruce/Images/Nike-Air-Fear-Of-God-1-Frosted-Spruce/Lv2/img28.jpg?auto=format,compress&amp;w=559&amp;q=90&amp;dpr=2&amp;updated_at=1559748019</td>\n",
       "      <td>AR4237-300</td>\n",
       "      <td>Frosted Spruce/Frosted Spruce-Frosted Spruce</td>\n",
       "      <td>350.0</td>\n",
       "      <td>06/01/2019</td>\n",
       "    </tr>\n",
       "    <tr>\n",
       "      <th>284</th>\n",
       "      <td>https://stockx.com/nike-air-fear-of-god-1-string</td>\n",
       "      <td>Nike Air Fear of God 1 String \"The Question\"</td>\n",
       "      <td>Other</td>\n",
       "      <td>Other</td>\n",
       "      <td>Other</td>\n",
       "      <td>Air Fear of</td>\n",
       "      <td>https://stockx-360.imgix.net/Nike-Air-Fear-of-God-1-String/Images/Nike-Air-Fear-of-God-1-String/Lv2/img01.jpg?auto=format,compress&amp;w=559&amp;q=90&amp;dpr=2&amp;updated_at=1582235831</td>\n",
       "      <td>https://stockx-360.imgix.net/Nike-Air-Fear-of-God-1-String/Images/Nike-Air-Fear-of-God-1-String/Lv2/img04.jpg?auto=format,compress&amp;w=559&amp;q=90&amp;dpr=2&amp;updated_at=1582235831</td>\n",
       "      <td>https://stockx-360.imgix.net/Nike-Air-Fear-of-God-1-String/Images/Nike-Air-Fear-of-God-1-String/Lv2/img10.jpg?auto=format,compress&amp;w=559&amp;q=90&amp;dpr=2&amp;updated_at=1582235831</td>\n",
       "      <td>https://stockx-360.imgix.net/Nike-Air-Fear-of-God-1-String/Images/Nike-Air-Fear-of-God-1-String/Lv2/img13.jpg?auto=format,compress&amp;w=559&amp;q=90&amp;dpr=2&amp;updated_at=1582235831</td>\n",
       "      <td>https://stockx-360.imgix.net/Nike-Air-Fear-of-God-1-String/Images/Nike-Air-Fear-of-God-1-String/Lv2/img19.jpg?auto=format,compress&amp;w=559&amp;q=90&amp;dpr=2&amp;updated_at=1582235831</td>\n",
       "      <td>https://stockx-360.imgix.net/Nike-Air-Fear-of-God-1-String/Images/Nike-Air-Fear-of-God-1-String/Lv2/img28.jpg?auto=format,compress&amp;w=559&amp;q=90&amp;dpr=2&amp;updated_at=1582235831</td>\n",
       "      <td>AR4237-902</td>\n",
       "      <td>Multi-Color/Off Noir-String-Oatmeal</td>\n",
       "      <td>350.0</td>\n",
       "      <td>02/28/2020</td>\n",
       "    </tr>\n",
       "    <tr>\n",
       "      <th>419</th>\n",
       "      <td>https://stockx.com/nike-air-fear-of-god-1-sail-black</td>\n",
       "      <td>Nike Air Fear Of God 1 Sail Black</td>\n",
       "      <td>Basketball</td>\n",
       "      <td>Other</td>\n",
       "      <td>Basketball</td>\n",
       "      <td>Air Fear Of</td>\n",
       "      <td>https://stockx-360.imgix.net/Nike-Air-Fear-Of-God-1-Sail-Black/Images/Nike-Air-Fear-Of-God-1-Sail-Black/Lv2/img01.jpg?auto=format,compress&amp;w=559&amp;q=90&amp;dpr=2&amp;updated_at=1560373199</td>\n",
       "      <td>https://stockx-360.imgix.net/Nike-Air-Fear-Of-God-1-Sail-Black/Images/Nike-Air-Fear-Of-God-1-Sail-Black/Lv2/img04.jpg?auto=format,compress&amp;w=559&amp;q=90&amp;dpr=2&amp;updated_at=1560373199</td>\n",
       "      <td>https://stockx-360.imgix.net/Nike-Air-Fear-Of-God-1-Sail-Black/Images/Nike-Air-Fear-Of-God-1-Sail-Black/Lv2/img10.jpg?auto=format,compress&amp;w=559&amp;q=90&amp;dpr=2&amp;updated_at=1560373199</td>\n",
       "      <td>https://stockx-360.imgix.net/Nike-Air-Fear-Of-God-1-Sail-Black/Images/Nike-Air-Fear-Of-God-1-Sail-Black/Lv2/img13.jpg?auto=format,compress&amp;w=559&amp;q=90&amp;dpr=2&amp;updated_at=1560373199</td>\n",
       "      <td>https://stockx-360.imgix.net/Nike-Air-Fear-Of-God-1-Sail-Black/Images/Nike-Air-Fear-Of-God-1-Sail-Black/Lv2/img19.jpg?auto=format,compress&amp;w=559&amp;q=90&amp;dpr=2&amp;updated_at=1560373199</td>\n",
       "      <td>https://stockx-360.imgix.net/Nike-Air-Fear-Of-God-1-Sail-Black/Images/Nike-Air-Fear-Of-God-1-Sail-Black/Lv2/img28.jpg?auto=format,compress&amp;w=559&amp;q=90&amp;dpr=2&amp;updated_at=1560373199</td>\n",
       "      <td>AR4237-100</td>\n",
       "      <td>Sail/Black</td>\n",
       "      <td>350.0</td>\n",
       "      <td>06/08/2019</td>\n",
       "    </tr>\n",
       "    <tr>\n",
       "      <th>552</th>\n",
       "      <td>https://stockx.com/nike-adapt-bb-dark-grey</td>\n",
       "      <td>Nike Adapt BB Dark Grey (US Charger)</td>\n",
       "      <td>Basketball</td>\n",
       "      <td>Other</td>\n",
       "      <td>Basketball</td>\n",
       "      <td>Adapt BB Dark</td>\n",
       "      <td>https://stockx-360.imgix.net/Nike-Adapt-BB-Dark-Grey/Images/Nike-Adapt-BB-Dark-Grey/Lv2/img01.jpg?auto=format,compress&amp;w=559&amp;q=90&amp;dpr=2&amp;updated_at=1570720485</td>\n",
       "      <td>https://stockx-360.imgix.net/Nike-Adapt-BB-Dark-Grey/Images/Nike-Adapt-BB-Dark-Grey/Lv2/img04.jpg?auto=format,compress&amp;w=559&amp;q=90&amp;dpr=2&amp;updated_at=1570720485</td>\n",
       "      <td>https://stockx-360.imgix.net/Nike-Adapt-BB-Dark-Grey/Images/Nike-Adapt-BB-Dark-Grey/Lv2/img10.jpg?auto=format,compress&amp;w=559&amp;q=90&amp;dpr=2&amp;updated_at=1570720485</td>\n",
       "      <td>https://stockx-360.imgix.net/Nike-Adapt-BB-Dark-Grey/Images/Nike-Adapt-BB-Dark-Grey/Lv2/img13.jpg?auto=format,compress&amp;w=559&amp;q=90&amp;dpr=2&amp;updated_at=1570720485</td>\n",
       "      <td>https://stockx-360.imgix.net/Nike-Adapt-BB-Dark-Grey/Images/Nike-Adapt-BB-Dark-Grey/Lv2/img19.jpg?auto=format,compress&amp;w=559&amp;q=90&amp;dpr=2&amp;updated_at=1570720485</td>\n",
       "      <td>https://stockx-360.imgix.net/Nike-Adapt-BB-Dark-Grey/Images/Nike-Adapt-BB-Dark-Grey/Lv2/img28.jpg?auto=format,compress&amp;w=559&amp;q=90&amp;dpr=2&amp;updated_at=1570720485</td>\n",
       "      <td>AO2582-004</td>\n",
       "      <td>Dark Grey/Multi-Color</td>\n",
       "      <td>350.0</td>\n",
       "      <td>04/19/2019</td>\n",
       "    </tr>\n",
       "    <tr>\n",
       "      <th>923</th>\n",
       "      <td>https://stockx.com/nike-adapt-huarache-yellow</td>\n",
       "      <td>Nike Adapt Huarache Opti Yellow</td>\n",
       "      <td>Other</td>\n",
       "      <td>Running</td>\n",
       "      <td>Running</td>\n",
       "      <td>Adapt Huarache Opti</td>\n",
       "      <td>https://stockx.imgix.net/Nike-Adapt-Huarache-Yellow.png?fit=fill&amp;bg=FFFFFF&amp;w=700&amp;h=500&amp;auto=format,compress&amp;q=90&amp;dpr=2&amp;trim=color&amp;updated_at=1568041105</td>\n",
       "      <td>https://stockx.imgix.net/Nike-Adapt-Huarache-Yellow.png?fit=fill&amp;bg=FFFFFF&amp;w=700&amp;h=500&amp;auto=format,compress&amp;q=90&amp;dpr=2&amp;trim=color&amp;updated_at=1568041105</td>\n",
       "      <td>https://stockx.imgix.net/Nike-Adapt-Huarache-Yellow.png?fit=fill&amp;bg=FFFFFF&amp;w=700&amp;h=500&amp;auto=format,compress&amp;q=90&amp;dpr=2&amp;trim=color&amp;updated_at=1568041105</td>\n",
       "      <td>https://stockx.imgix.net/Nike-Adapt-Huarache-Yellow.png?fit=fill&amp;bg=FFFFFF&amp;w=700&amp;h=500&amp;auto=format,compress&amp;q=90&amp;dpr=2&amp;trim=color&amp;updated_at=1568041105</td>\n",
       "      <td>https://stockx.imgix.net/Nike-Adapt-Huarache-Yellow.png?fit=fill&amp;bg=FFFFFF&amp;w=700&amp;h=500&amp;auto=format,compress&amp;q=90&amp;dpr=2&amp;trim=color&amp;updated_at=1568041105</td>\n",
       "      <td>https://stockx.imgix.net/Nike-Adapt-Huarache-Yellow.png?fit=fill&amp;bg=FFFFFF&amp;w=700&amp;h=500&amp;auto=format,compress&amp;q=90&amp;dpr=2&amp;trim=color&amp;updated_at=1568041105</td>\n",
       "      <td>BV6397-710</td>\n",
       "      <td>Bicycle Yellow/Black-Opti Yellow</td>\n",
       "      <td>350.0</td>\n",
       "      <td>09/13/2019</td>\n",
       "    </tr>\n",
       "    <tr>\n",
       "      <th>66</th>\n",
       "      <td>https://stockx.com/nike-air-fear-of-god-1-black</td>\n",
       "      <td>Nike Air Fear Of God 1 Black</td>\n",
       "      <td>Basketball</td>\n",
       "      <td>Other</td>\n",
       "      <td>Basketball</td>\n",
       "      <td>Air Fear Of</td>\n",
       "      <td>https://stockx-360.imgix.net/Nike-Air-Fear-Of-God-1-Black/Images/Nike-Air-Fear-Of-God-1-Black/Lv2/img01.jpg?auto=format,compress&amp;w=559&amp;q=90&amp;dpr=2&amp;updated_at=1544563859</td>\n",
       "      <td>https://stockx-360.imgix.net/Nike-Air-Fear-Of-God-1-Black/Images/Nike-Air-Fear-Of-God-1-Black/Lv2/img04.jpg?auto=format,compress&amp;w=559&amp;q=90&amp;dpr=2&amp;updated_at=1544563859</td>\n",
       "      <td>https://stockx-360.imgix.net/Nike-Air-Fear-Of-God-1-Black/Images/Nike-Air-Fear-Of-God-1-Black/Lv2/img10.jpg?auto=format,compress&amp;w=559&amp;q=90&amp;dpr=2&amp;updated_at=1544563859</td>\n",
       "      <td>https://stockx-360.imgix.net/Nike-Air-Fear-Of-God-1-Black/Images/Nike-Air-Fear-Of-God-1-Black/Lv2/img13.jpg?auto=format,compress&amp;w=559&amp;q=90&amp;dpr=2&amp;updated_at=1544563859</td>\n",
       "      <td>https://stockx-360.imgix.net/Nike-Air-Fear-Of-God-1-Black/Images/Nike-Air-Fear-Of-God-1-Black/Lv2/img19.jpg?auto=format,compress&amp;w=559&amp;q=90&amp;dpr=2&amp;updated_at=1544563859</td>\n",
       "      <td>https://stockx-360.imgix.net/Nike-Air-Fear-Of-God-1-Black/Images/Nike-Air-Fear-Of-God-1-Black/Lv2/img28.jpg?auto=format,compress&amp;w=559&amp;q=90&amp;dpr=2&amp;updated_at=1544563859</td>\n",
       "      <td>AR4237-001</td>\n",
       "      <td>Black/Black</td>\n",
       "      <td>395.0</td>\n",
       "      <td>12/15/2018</td>\n",
       "    </tr>\n",
       "    <tr>\n",
       "      <th>379</th>\n",
       "      <td>https://stockx.com/nike-air-fear-of-god-1-light-bone</td>\n",
       "      <td>Nike Air Fear Of God 1 Light Bone</td>\n",
       "      <td>Basketball</td>\n",
       "      <td>Other</td>\n",
       "      <td>Basketball</td>\n",
       "      <td>Air Fear Of</td>\n",
       "      <td>https://stockx-360.imgix.net/Nike-Air-Fear-Of-God-1-Light-Bone/Images/Nike-Air-Fear-Of-God-1-Light-Bone/Lv2/img01.jpg?auto=format,compress&amp;w=559&amp;q=90&amp;dpr=2&amp;updated_at=1543943377</td>\n",
       "      <td>https://stockx-360.imgix.net/Nike-Air-Fear-Of-God-1-Light-Bone/Images/Nike-Air-Fear-Of-God-1-Light-Bone/Lv2/img04.jpg?auto=format,compress&amp;w=559&amp;q=90&amp;dpr=2&amp;updated_at=1543943377</td>\n",
       "      <td>https://stockx-360.imgix.net/Nike-Air-Fear-Of-God-1-Light-Bone/Images/Nike-Air-Fear-Of-God-1-Light-Bone/Lv2/img10.jpg?auto=format,compress&amp;w=559&amp;q=90&amp;dpr=2&amp;updated_at=1543943377</td>\n",
       "      <td>https://stockx-360.imgix.net/Nike-Air-Fear-Of-God-1-Light-Bone/Images/Nike-Air-Fear-Of-God-1-Light-Bone/Lv2/img13.jpg?auto=format,compress&amp;w=559&amp;q=90&amp;dpr=2&amp;updated_at=1543943377</td>\n",
       "      <td>https://stockx-360.imgix.net/Nike-Air-Fear-Of-God-1-Light-Bone/Images/Nike-Air-Fear-Of-God-1-Light-Bone/Lv2/img19.jpg?auto=format,compress&amp;w=559&amp;q=90&amp;dpr=2&amp;updated_at=1543943377</td>\n",
       "      <td>https://stockx-360.imgix.net/Nike-Air-Fear-Of-God-1-Light-Bone/Images/Nike-Air-Fear-Of-God-1-Light-Bone/Lv2/img28.jpg?auto=format,compress&amp;w=559&amp;q=90&amp;dpr=2&amp;updated_at=1543943377</td>\n",
       "      <td>AR4237-002</td>\n",
       "      <td>Light Bone/Bone</td>\n",
       "      <td>395.0</td>\n",
       "      <td>01/19/2019</td>\n",
       "    </tr>\n",
       "    <tr>\n",
       "      <th>240</th>\n",
       "      <td>https://stockx.com/nike-adapt-bb-2-black</td>\n",
       "      <td>Nike Adapt BB 2.0 Black (US Charger)</td>\n",
       "      <td>Basketball</td>\n",
       "      <td>Other</td>\n",
       "      <td>Basketball</td>\n",
       "      <td>Adapt BB 2.0</td>\n",
       "      <td>https://stockx-360.imgix.net/Nike-Adapt-BB-2-Black/Images/Nike-Adapt-BB-2-Black/Lv2/img01.jpg?auto=format,compress&amp;w=559&amp;q=90&amp;dpr=2&amp;updated_at=1582323566</td>\n",
       "      <td>https://stockx-360.imgix.net/Nike-Adapt-BB-2-Black/Images/Nike-Adapt-BB-2-Black/Lv2/img04.jpg?auto=format,compress&amp;w=559&amp;q=90&amp;dpr=2&amp;updated_at=1582323566</td>\n",
       "      <td>https://stockx-360.imgix.net/Nike-Adapt-BB-2-Black/Images/Nike-Adapt-BB-2-Black/Lv2/img10.jpg?auto=format,compress&amp;w=559&amp;q=90&amp;dpr=2&amp;updated_at=1582323566</td>\n",
       "      <td>https://stockx-360.imgix.net/Nike-Adapt-BB-2-Black/Images/Nike-Adapt-BB-2-Black/Lv2/img13.jpg?auto=format,compress&amp;w=559&amp;q=90&amp;dpr=2&amp;updated_at=1582323566</td>\n",
       "      <td>https://stockx-360.imgix.net/Nike-Adapt-BB-2-Black/Images/Nike-Adapt-BB-2-Black/Lv2/img19.jpg?auto=format,compress&amp;w=559&amp;q=90&amp;dpr=2&amp;updated_at=1582323566</td>\n",
       "      <td>https://stockx-360.imgix.net/Nike-Adapt-BB-2-Black/Images/Nike-Adapt-BB-2-Black/Lv2/img28.jpg?auto=format,compress&amp;w=559&amp;q=90&amp;dpr=2&amp;updated_at=1582323566</td>\n",
       "      <td>BQ5397-001</td>\n",
       "      <td>Black/Multi-Color-Black</td>\n",
       "      <td>400.0</td>\n",
       "      <td>02/16/2020</td>\n",
       "    </tr>\n",
       "    <tr>\n",
       "      <th>475</th>\n",
       "      <td>https://stockx.com/nike-adapt-bb-2-chicago-2k-gamer-exclusive</td>\n",
       "      <td>Nike Adapt BB 2.0 Chicago 2K Gamer Exclusive</td>\n",
       "      <td>Basketball</td>\n",
       "      <td>Other</td>\n",
       "      <td>Basketball</td>\n",
       "      <td>Adapt BB 2.0</td>\n",
       "      <td>https://stockx.imgix.net/Nike-Adapt-BB-20-Chicago-2K-Gamer-Exclusive.png?fit=fill&amp;bg=FFFFFF&amp;w=700&amp;h=500&amp;auto=format,compress&amp;q=90&amp;dpr=2&amp;trim=color&amp;updated_at=1584067672</td>\n",
       "      <td>https://stockx.imgix.net/Nike-Adapt-BB-20-Chicago-2K-Gamer-Exclusive.png?fit=fill&amp;bg=FFFFFF&amp;w=700&amp;h=500&amp;auto=format,compress&amp;q=90&amp;dpr=2&amp;trim=color&amp;updated_at=1584067672</td>\n",
       "      <td>https://stockx.imgix.net/Nike-Adapt-BB-20-Chicago-2K-Gamer-Exclusive.png?fit=fill&amp;bg=FFFFFF&amp;w=700&amp;h=500&amp;auto=format,compress&amp;q=90&amp;dpr=2&amp;trim=color&amp;updated_at=1584067672</td>\n",
       "      <td>https://stockx.imgix.net/Nike-Adapt-BB-20-Chicago-2K-Gamer-Exclusive.png?fit=fill&amp;bg=FFFFFF&amp;w=700&amp;h=500&amp;auto=format,compress&amp;q=90&amp;dpr=2&amp;trim=color&amp;updated_at=1584067672</td>\n",
       "      <td>https://stockx.imgix.net/Nike-Adapt-BB-20-Chicago-2K-Gamer-Exclusive.png?fit=fill&amp;bg=FFFFFF&amp;w=700&amp;h=500&amp;auto=format,compress&amp;q=90&amp;dpr=2&amp;trim=color&amp;updated_at=1584067672</td>\n",
       "      <td>https://stockx.imgix.net/Nike-Adapt-BB-20-Chicago-2K-Gamer-Exclusive.png?fit=fill&amp;bg=FFFFFF&amp;w=700&amp;h=500&amp;auto=format,compress&amp;q=90&amp;dpr=2&amp;trim=color&amp;updated_at=1584067672</td>\n",
       "      <td>BQ5397-900</td>\n",
       "      <td>Gym Red/Black</td>\n",
       "      <td>400.0</td>\n",
       "      <td>03/14/2020</td>\n",
       "    </tr>\n",
       "    <tr>\n",
       "      <th>371</th>\n",
       "      <td>https://stockx.com/nike-mars-yard-overshoe-tom-sachs</td>\n",
       "      <td>Nike Mars Yard Overshoe Tom Sachs</td>\n",
       "      <td>Other</td>\n",
       "      <td>Running</td>\n",
       "      <td>Running</td>\n",
       "      <td>Mars Yard Overshoe</td>\n",
       "      <td>https://stockx-360.imgix.net/Nike-Mars-Yard-Overshoe-Tom-Sachs/Images/Nike-Mars-Yard-Overshoe-Tom-Sachs/Lv2/img01.jpg?auto=format,compress&amp;w=559&amp;q=90&amp;dpr=2&amp;updated_at=1546676540</td>\n",
       "      <td>https://stockx-360.imgix.net/Nike-Mars-Yard-Overshoe-Tom-Sachs/Images/Nike-Mars-Yard-Overshoe-Tom-Sachs/Lv2/img04.jpg?auto=format,compress&amp;w=559&amp;q=90&amp;dpr=2&amp;updated_at=1546676540</td>\n",
       "      <td>https://stockx-360.imgix.net/Nike-Mars-Yard-Overshoe-Tom-Sachs/Images/Nike-Mars-Yard-Overshoe-Tom-Sachs/Lv2/img10.jpg?auto=format,compress&amp;w=559&amp;q=90&amp;dpr=2&amp;updated_at=1546676540</td>\n",
       "      <td>https://stockx-360.imgix.net/Nike-Mars-Yard-Overshoe-Tom-Sachs/Images/Nike-Mars-Yard-Overshoe-Tom-Sachs/Lv2/img13.jpg?auto=format,compress&amp;w=559&amp;q=90&amp;dpr=2&amp;updated_at=1546676540</td>\n",
       "      <td>https://stockx-360.imgix.net/Nike-Mars-Yard-Overshoe-Tom-Sachs/Images/Nike-Mars-Yard-Overshoe-Tom-Sachs/Lv2/img19.jpg?auto=format,compress&amp;w=559&amp;q=90&amp;dpr=2&amp;updated_at=1546676540</td>\n",
       "      <td>https://stockx-360.imgix.net/Nike-Mars-Yard-Overshoe-Tom-Sachs/Images/Nike-Mars-Yard-Overshoe-Tom-Sachs/Lv2/img28.jpg?auto=format,compress&amp;w=559&amp;q=90&amp;dpr=2&amp;updated_at=1546676540</td>\n",
       "      <td>AH7767 101</td>\n",
       "      <td>White/Cobalt Bliss-Sport Red-Black</td>\n",
       "      <td>550.0</td>\n",
       "      <td>05/09/2019</td>\n",
       "    </tr>\n",
       "    <tr>\n",
       "      <th>142</th>\n",
       "      <td>https://stockx.com/nike-hyperadapt-1-0-black</td>\n",
       "      <td>Nike HyperAdapt 1.0 Black (1st Release Pair Special Box)</td>\n",
       "      <td>Other</td>\n",
       "      <td>Running</td>\n",
       "      <td>Running</td>\n",
       "      <td>HyperAdapt 1.0 Black</td>\n",
       "      <td>https://stockx.imgix.net/Nike-HyperAdapt-1pt0-Black.jpg?fit=fill&amp;bg=FFFFFF&amp;w=700&amp;h=500&amp;auto=format,compress&amp;q=90&amp;dpr=2&amp;trim=color&amp;updated_at=1538080256</td>\n",
       "      <td>https://stockx.imgix.net/Nike-HyperAdapt-1pt0-Black.jpg?fit=fill&amp;bg=FFFFFF&amp;w=700&amp;h=500&amp;auto=format,compress&amp;q=90&amp;dpr=2&amp;trim=color&amp;updated_at=1538080256</td>\n",
       "      <td>https://stockx.imgix.net/Nike-HyperAdapt-1pt0-Black.jpg?fit=fill&amp;bg=FFFFFF&amp;w=700&amp;h=500&amp;auto=format,compress&amp;q=90&amp;dpr=2&amp;trim=color&amp;updated_at=1538080256</td>\n",
       "      <td>https://stockx.imgix.net/Nike-HyperAdapt-1pt0-Black.jpg?fit=fill&amp;bg=FFFFFF&amp;w=700&amp;h=500&amp;auto=format,compress&amp;q=90&amp;dpr=2&amp;trim=color&amp;updated_at=1538080256</td>\n",
       "      <td>https://stockx.imgix.net/Nike-HyperAdapt-1pt0-Black.jpg?fit=fill&amp;bg=FFFFFF&amp;w=700&amp;h=500&amp;auto=format,compress&amp;q=90&amp;dpr=2&amp;trim=color&amp;updated_at=1538080256</td>\n",
       "      <td>https://stockx.imgix.net/Nike-HyperAdapt-1pt0-Black.jpg?fit=fill&amp;bg=FFFFFF&amp;w=700&amp;h=500&amp;auto=format,compress&amp;q=90&amp;dpr=2&amp;trim=color&amp;updated_at=1538080256</td>\n",
       "      <td>843871-001</td>\n",
       "      <td>Black/White-Blue Lagoon</td>\n",
       "      <td>720.0</td>\n",
       "      <td>12/01/2016</td>\n",
       "    </tr>\n",
       "  </tbody>\n",
       "</table>\n",
       "</div>"
      ],
      "text/plain": [
       "                                                       stockx_link  \\\n",
       "928             https://stockx.com/nike-air-fear-of-god-1-sa-black   \n",
       "37               https://stockx.com/nike-air-fear-of-god-1-oatmeal   \n",
       "58          https://stockx.com/nike-air-fear-of-god-1-orange-pulse   \n",
       "62                            https://stockx.com/nike-adapt-bb-mag   \n",
       "70            https://stockx.com/nike-adapt-bb-black-pure-platinum   \n",
       "103       https://stockx.com/nike-air-fear-of-god-1-frosted-spruce   \n",
       "284               https://stockx.com/nike-air-fear-of-god-1-string   \n",
       "419           https://stockx.com/nike-air-fear-of-god-1-sail-black   \n",
       "552                     https://stockx.com/nike-adapt-bb-dark-grey   \n",
       "923                  https://stockx.com/nike-adapt-huarache-yellow   \n",
       "66                 https://stockx.com/nike-air-fear-of-god-1-black   \n",
       "379           https://stockx.com/nike-air-fear-of-god-1-light-bone   \n",
       "240                       https://stockx.com/nike-adapt-bb-2-black   \n",
       "475  https://stockx.com/nike-adapt-bb-2-chicago-2k-gamer-exclusive   \n",
       "371           https://stockx.com/nike-mars-yard-overshoe-tom-sachs   \n",
       "142                   https://stockx.com/nike-hyperadapt-1-0-black   \n",
       "\n",
       "                                                  stockx_name      type_1  \\\n",
       "928                           Nike Air Fear Of God 1 SA Black  Basketball   \n",
       "37                             Nike Air Fear of God 1 Oatmeal       Other   \n",
       "58                        Nike Air Fear Of God 1 Orange Pulse  Basketball   \n",
       "62                             Nike Adapt BB Mag (US Charger)  Basketball   \n",
       "70             Nike Adapt BB Black Pure Platinum (US Charger)  Basketball   \n",
       "103                     Nike Air Fear Of God 1 Frosted Spruce  Basketball   \n",
       "284              Nike Air Fear of God 1 String \"The Question\"       Other   \n",
       "419                         Nike Air Fear Of God 1 Sail Black  Basketball   \n",
       "552                      Nike Adapt BB Dark Grey (US Charger)  Basketball   \n",
       "923                           Nike Adapt Huarache Opti Yellow       Other   \n",
       "66                               Nike Air Fear Of God 1 Black  Basketball   \n",
       "379                         Nike Air Fear Of God 1 Light Bone  Basketball   \n",
       "240                      Nike Adapt BB 2.0 Black (US Charger)  Basketball   \n",
       "475              Nike Adapt BB 2.0 Chicago 2K Gamer Exclusive  Basketball   \n",
       "371                         Nike Mars Yard Overshoe Tom Sachs       Other   \n",
       "142  Nike HyperAdapt 1.0 Black (1st Release Pair Special Box)       Other   \n",
       "\n",
       "      type_2      type_3                 model  \\\n",
       "928    Other  Basketball           Air Fear Of   \n",
       "37     Other       Other           Air Fear of   \n",
       "58     Other  Basketball           Air Fear Of   \n",
       "62     Other  Basketball          Adapt BB Mag   \n",
       "70     Other  Basketball        Adapt BB Black   \n",
       "103    Other  Basketball           Air Fear Of   \n",
       "284    Other       Other           Air Fear of   \n",
       "419    Other  Basketball           Air Fear Of   \n",
       "552    Other  Basketball         Adapt BB Dark   \n",
       "923  Running     Running   Adapt Huarache Opti   \n",
       "66     Other  Basketball           Air Fear Of   \n",
       "379    Other  Basketball           Air Fear Of   \n",
       "240    Other  Basketball          Adapt BB 2.0   \n",
       "475    Other  Basketball          Adapt BB 2.0   \n",
       "371  Running     Running    Mars Yard Overshoe   \n",
       "142  Running     Running  HyperAdapt 1.0 Black   \n",
       "\n",
       "                                                                                                                                                                                         right  \\\n",
       "928              https://stockx-360.imgix.net/Nike-Air-Fear-Of-God-1-SA-Black/Images/Nike-Air-Fear-Of-God-1-SA-Black/Lv2/img01.jpg?auto=format,compress&w=559&q=90&dpr=2&updated_at=1545175727   \n",
       "37                 https://stockx-360.imgix.net/Nike-Air-Fear-of-God-1-Oatmeal/Images/Nike-Air-Fear-of-God-1-Oatmeal/Lv2/img01.jpg?auto=format,compress&w=559&q=90&dpr=2&updated_at=1573502731   \n",
       "58       https://stockx-360.imgix.net/Nike-Air-Fear-Of-God-1-Orange-Pulse/Images/Nike-Air-Fear-Of-God-1-Orange-Pulse/Lv2/img01.jpg?auto=format,compress&w=559&q=90&dpr=2&updated_at=1559746246   \n",
       "62                                           https://stockx-360.imgix.net/Nike-Adapt-BB-Mag/Images/Nike-Adapt-BB-Mag/Lv2/img01.jpg?auto=format,compress&w=559&q=90&dpr=2&updated_at=1560368697   \n",
       "70           https://stockx-360.imgix.net/Nike-Adapt-BB-Black-Pure-Platinum/Images/Nike-Adapt-BB-Black-Pure-Platinum/Lv2/img01.jpg?auto=format,compress&w=559&q=90&dpr=2&updated_at=1551049122   \n",
       "103  https://stockx-360.imgix.net/Nike-Air-Fear-Of-God-1-Frosted-Spruce/Images/Nike-Air-Fear-Of-God-1-Frosted-Spruce/Lv2/img01.jpg?auto=format,compress&w=559&q=90&dpr=2&updated_at=1559748019   \n",
       "284                  https://stockx-360.imgix.net/Nike-Air-Fear-of-God-1-String/Images/Nike-Air-Fear-of-God-1-String/Lv2/img01.jpg?auto=format,compress&w=559&q=90&dpr=2&updated_at=1582235831   \n",
       "419          https://stockx-360.imgix.net/Nike-Air-Fear-Of-God-1-Sail-Black/Images/Nike-Air-Fear-Of-God-1-Sail-Black/Lv2/img01.jpg?auto=format,compress&w=559&q=90&dpr=2&updated_at=1560373199   \n",
       "552                              https://stockx-360.imgix.net/Nike-Adapt-BB-Dark-Grey/Images/Nike-Adapt-BB-Dark-Grey/Lv2/img01.jpg?auto=format,compress&w=559&q=90&dpr=2&updated_at=1570720485   \n",
       "923                                    https://stockx.imgix.net/Nike-Adapt-Huarache-Yellow.png?fit=fill&bg=FFFFFF&w=700&h=500&auto=format,compress&q=90&dpr=2&trim=color&updated_at=1568041105   \n",
       "66                     https://stockx-360.imgix.net/Nike-Air-Fear-Of-God-1-Black/Images/Nike-Air-Fear-Of-God-1-Black/Lv2/img01.jpg?auto=format,compress&w=559&q=90&dpr=2&updated_at=1544563859   \n",
       "379          https://stockx-360.imgix.net/Nike-Air-Fear-Of-God-1-Light-Bone/Images/Nike-Air-Fear-Of-God-1-Light-Bone/Lv2/img01.jpg?auto=format,compress&w=559&q=90&dpr=2&updated_at=1543943377   \n",
       "240                                  https://stockx-360.imgix.net/Nike-Adapt-BB-2-Black/Images/Nike-Adapt-BB-2-Black/Lv2/img01.jpg?auto=format,compress&w=559&q=90&dpr=2&updated_at=1582323566   \n",
       "475                   https://stockx.imgix.net/Nike-Adapt-BB-20-Chicago-2K-Gamer-Exclusive.png?fit=fill&bg=FFFFFF&w=700&h=500&auto=format,compress&q=90&dpr=2&trim=color&updated_at=1584067672   \n",
       "371          https://stockx-360.imgix.net/Nike-Mars-Yard-Overshoe-Tom-Sachs/Images/Nike-Mars-Yard-Overshoe-Tom-Sachs/Lv2/img01.jpg?auto=format,compress&w=559&q=90&dpr=2&updated_at=1546676540   \n",
       "142                                    https://stockx.imgix.net/Nike-HyperAdapt-1pt0-Black.jpg?fit=fill&bg=FFFFFF&w=700&h=500&auto=format,compress&q=90&dpr=2&trim=color&updated_at=1538080256   \n",
       "\n",
       "                                                                                                                                                                                           r_d  \\\n",
       "928              https://stockx-360.imgix.net/Nike-Air-Fear-Of-God-1-SA-Black/Images/Nike-Air-Fear-Of-God-1-SA-Black/Lv2/img04.jpg?auto=format,compress&w=559&q=90&dpr=2&updated_at=1545175727   \n",
       "37                 https://stockx-360.imgix.net/Nike-Air-Fear-of-God-1-Oatmeal/Images/Nike-Air-Fear-of-God-1-Oatmeal/Lv2/img04.jpg?auto=format,compress&w=559&q=90&dpr=2&updated_at=1573502731   \n",
       "58       https://stockx-360.imgix.net/Nike-Air-Fear-Of-God-1-Orange-Pulse/Images/Nike-Air-Fear-Of-God-1-Orange-Pulse/Lv2/img04.jpg?auto=format,compress&w=559&q=90&dpr=2&updated_at=1559746246   \n",
       "62                                           https://stockx-360.imgix.net/Nike-Adapt-BB-Mag/Images/Nike-Adapt-BB-Mag/Lv2/img04.jpg?auto=format,compress&w=559&q=90&dpr=2&updated_at=1560368697   \n",
       "70           https://stockx-360.imgix.net/Nike-Adapt-BB-Black-Pure-Platinum/Images/Nike-Adapt-BB-Black-Pure-Platinum/Lv2/img04.jpg?auto=format,compress&w=559&q=90&dpr=2&updated_at=1551049122   \n",
       "103  https://stockx-360.imgix.net/Nike-Air-Fear-Of-God-1-Frosted-Spruce/Images/Nike-Air-Fear-Of-God-1-Frosted-Spruce/Lv2/img04.jpg?auto=format,compress&w=559&q=90&dpr=2&updated_at=1559748019   \n",
       "284                  https://stockx-360.imgix.net/Nike-Air-Fear-of-God-1-String/Images/Nike-Air-Fear-of-God-1-String/Lv2/img04.jpg?auto=format,compress&w=559&q=90&dpr=2&updated_at=1582235831   \n",
       "419          https://stockx-360.imgix.net/Nike-Air-Fear-Of-God-1-Sail-Black/Images/Nike-Air-Fear-Of-God-1-Sail-Black/Lv2/img04.jpg?auto=format,compress&w=559&q=90&dpr=2&updated_at=1560373199   \n",
       "552                              https://stockx-360.imgix.net/Nike-Adapt-BB-Dark-Grey/Images/Nike-Adapt-BB-Dark-Grey/Lv2/img04.jpg?auto=format,compress&w=559&q=90&dpr=2&updated_at=1570720485   \n",
       "923                                    https://stockx.imgix.net/Nike-Adapt-Huarache-Yellow.png?fit=fill&bg=FFFFFF&w=700&h=500&auto=format,compress&q=90&dpr=2&trim=color&updated_at=1568041105   \n",
       "66                     https://stockx-360.imgix.net/Nike-Air-Fear-Of-God-1-Black/Images/Nike-Air-Fear-Of-God-1-Black/Lv2/img04.jpg?auto=format,compress&w=559&q=90&dpr=2&updated_at=1544563859   \n",
       "379          https://stockx-360.imgix.net/Nike-Air-Fear-Of-God-1-Light-Bone/Images/Nike-Air-Fear-Of-God-1-Light-Bone/Lv2/img04.jpg?auto=format,compress&w=559&q=90&dpr=2&updated_at=1543943377   \n",
       "240                                  https://stockx-360.imgix.net/Nike-Adapt-BB-2-Black/Images/Nike-Adapt-BB-2-Black/Lv2/img04.jpg?auto=format,compress&w=559&q=90&dpr=2&updated_at=1582323566   \n",
       "475                   https://stockx.imgix.net/Nike-Adapt-BB-20-Chicago-2K-Gamer-Exclusive.png?fit=fill&bg=FFFFFF&w=700&h=500&auto=format,compress&q=90&dpr=2&trim=color&updated_at=1584067672   \n",
       "371          https://stockx-360.imgix.net/Nike-Mars-Yard-Overshoe-Tom-Sachs/Images/Nike-Mars-Yard-Overshoe-Tom-Sachs/Lv2/img04.jpg?auto=format,compress&w=559&q=90&dpr=2&updated_at=1546676540   \n",
       "142                                    https://stockx.imgix.net/Nike-HyperAdapt-1pt0-Black.jpg?fit=fill&bg=FFFFFF&w=700&h=500&auto=format,compress&q=90&dpr=2&trim=color&updated_at=1538080256   \n",
       "\n",
       "                                                                                                                                                                                      straight  \\\n",
       "928              https://stockx-360.imgix.net/Nike-Air-Fear-Of-God-1-SA-Black/Images/Nike-Air-Fear-Of-God-1-SA-Black/Lv2/img10.jpg?auto=format,compress&w=559&q=90&dpr=2&updated_at=1545175727   \n",
       "37                 https://stockx-360.imgix.net/Nike-Air-Fear-of-God-1-Oatmeal/Images/Nike-Air-Fear-of-God-1-Oatmeal/Lv2/img10.jpg?auto=format,compress&w=559&q=90&dpr=2&updated_at=1573502731   \n",
       "58       https://stockx-360.imgix.net/Nike-Air-Fear-Of-God-1-Orange-Pulse/Images/Nike-Air-Fear-Of-God-1-Orange-Pulse/Lv2/img10.jpg?auto=format,compress&w=559&q=90&dpr=2&updated_at=1559746246   \n",
       "62                                           https://stockx-360.imgix.net/Nike-Adapt-BB-Mag/Images/Nike-Adapt-BB-Mag/Lv2/img10.jpg?auto=format,compress&w=559&q=90&dpr=2&updated_at=1560368697   \n",
       "70           https://stockx-360.imgix.net/Nike-Adapt-BB-Black-Pure-Platinum/Images/Nike-Adapt-BB-Black-Pure-Platinum/Lv2/img10.jpg?auto=format,compress&w=559&q=90&dpr=2&updated_at=1551049122   \n",
       "103  https://stockx-360.imgix.net/Nike-Air-Fear-Of-God-1-Frosted-Spruce/Images/Nike-Air-Fear-Of-God-1-Frosted-Spruce/Lv2/img10.jpg?auto=format,compress&w=559&q=90&dpr=2&updated_at=1559748019   \n",
       "284                  https://stockx-360.imgix.net/Nike-Air-Fear-of-God-1-String/Images/Nike-Air-Fear-of-God-1-String/Lv2/img10.jpg?auto=format,compress&w=559&q=90&dpr=2&updated_at=1582235831   \n",
       "419          https://stockx-360.imgix.net/Nike-Air-Fear-Of-God-1-Sail-Black/Images/Nike-Air-Fear-Of-God-1-Sail-Black/Lv2/img10.jpg?auto=format,compress&w=559&q=90&dpr=2&updated_at=1560373199   \n",
       "552                              https://stockx-360.imgix.net/Nike-Adapt-BB-Dark-Grey/Images/Nike-Adapt-BB-Dark-Grey/Lv2/img10.jpg?auto=format,compress&w=559&q=90&dpr=2&updated_at=1570720485   \n",
       "923                                    https://stockx.imgix.net/Nike-Adapt-Huarache-Yellow.png?fit=fill&bg=FFFFFF&w=700&h=500&auto=format,compress&q=90&dpr=2&trim=color&updated_at=1568041105   \n",
       "66                     https://stockx-360.imgix.net/Nike-Air-Fear-Of-God-1-Black/Images/Nike-Air-Fear-Of-God-1-Black/Lv2/img10.jpg?auto=format,compress&w=559&q=90&dpr=2&updated_at=1544563859   \n",
       "379          https://stockx-360.imgix.net/Nike-Air-Fear-Of-God-1-Light-Bone/Images/Nike-Air-Fear-Of-God-1-Light-Bone/Lv2/img10.jpg?auto=format,compress&w=559&q=90&dpr=2&updated_at=1543943377   \n",
       "240                                  https://stockx-360.imgix.net/Nike-Adapt-BB-2-Black/Images/Nike-Adapt-BB-2-Black/Lv2/img10.jpg?auto=format,compress&w=559&q=90&dpr=2&updated_at=1582323566   \n",
       "475                   https://stockx.imgix.net/Nike-Adapt-BB-20-Chicago-2K-Gamer-Exclusive.png?fit=fill&bg=FFFFFF&w=700&h=500&auto=format,compress&q=90&dpr=2&trim=color&updated_at=1584067672   \n",
       "371          https://stockx-360.imgix.net/Nike-Mars-Yard-Overshoe-Tom-Sachs/Images/Nike-Mars-Yard-Overshoe-Tom-Sachs/Lv2/img10.jpg?auto=format,compress&w=559&q=90&dpr=2&updated_at=1546676540   \n",
       "142                                    https://stockx.imgix.net/Nike-HyperAdapt-1pt0-Black.jpg?fit=fill&bg=FFFFFF&w=700&h=500&auto=format,compress&q=90&dpr=2&trim=color&updated_at=1538080256   \n",
       "\n",
       "                                                                                                                                                                                           l_d  \\\n",
       "928              https://stockx-360.imgix.net/Nike-Air-Fear-Of-God-1-SA-Black/Images/Nike-Air-Fear-Of-God-1-SA-Black/Lv2/img13.jpg?auto=format,compress&w=559&q=90&dpr=2&updated_at=1545175727   \n",
       "37                 https://stockx-360.imgix.net/Nike-Air-Fear-of-God-1-Oatmeal/Images/Nike-Air-Fear-of-God-1-Oatmeal/Lv2/img13.jpg?auto=format,compress&w=559&q=90&dpr=2&updated_at=1573502731   \n",
       "58       https://stockx-360.imgix.net/Nike-Air-Fear-Of-God-1-Orange-Pulse/Images/Nike-Air-Fear-Of-God-1-Orange-Pulse/Lv2/img13.jpg?auto=format,compress&w=559&q=90&dpr=2&updated_at=1559746246   \n",
       "62                                           https://stockx-360.imgix.net/Nike-Adapt-BB-Mag/Images/Nike-Adapt-BB-Mag/Lv2/img13.jpg?auto=format,compress&w=559&q=90&dpr=2&updated_at=1560368697   \n",
       "70           https://stockx-360.imgix.net/Nike-Adapt-BB-Black-Pure-Platinum/Images/Nike-Adapt-BB-Black-Pure-Platinum/Lv2/img13.jpg?auto=format,compress&w=559&q=90&dpr=2&updated_at=1551049122   \n",
       "103  https://stockx-360.imgix.net/Nike-Air-Fear-Of-God-1-Frosted-Spruce/Images/Nike-Air-Fear-Of-God-1-Frosted-Spruce/Lv2/img13.jpg?auto=format,compress&w=559&q=90&dpr=2&updated_at=1559748019   \n",
       "284                  https://stockx-360.imgix.net/Nike-Air-Fear-of-God-1-String/Images/Nike-Air-Fear-of-God-1-String/Lv2/img13.jpg?auto=format,compress&w=559&q=90&dpr=2&updated_at=1582235831   \n",
       "419          https://stockx-360.imgix.net/Nike-Air-Fear-Of-God-1-Sail-Black/Images/Nike-Air-Fear-Of-God-1-Sail-Black/Lv2/img13.jpg?auto=format,compress&w=559&q=90&dpr=2&updated_at=1560373199   \n",
       "552                              https://stockx-360.imgix.net/Nike-Adapt-BB-Dark-Grey/Images/Nike-Adapt-BB-Dark-Grey/Lv2/img13.jpg?auto=format,compress&w=559&q=90&dpr=2&updated_at=1570720485   \n",
       "923                                    https://stockx.imgix.net/Nike-Adapt-Huarache-Yellow.png?fit=fill&bg=FFFFFF&w=700&h=500&auto=format,compress&q=90&dpr=2&trim=color&updated_at=1568041105   \n",
       "66                     https://stockx-360.imgix.net/Nike-Air-Fear-Of-God-1-Black/Images/Nike-Air-Fear-Of-God-1-Black/Lv2/img13.jpg?auto=format,compress&w=559&q=90&dpr=2&updated_at=1544563859   \n",
       "379          https://stockx-360.imgix.net/Nike-Air-Fear-Of-God-1-Light-Bone/Images/Nike-Air-Fear-Of-God-1-Light-Bone/Lv2/img13.jpg?auto=format,compress&w=559&q=90&dpr=2&updated_at=1543943377   \n",
       "240                                  https://stockx-360.imgix.net/Nike-Adapt-BB-2-Black/Images/Nike-Adapt-BB-2-Black/Lv2/img13.jpg?auto=format,compress&w=559&q=90&dpr=2&updated_at=1582323566   \n",
       "475                   https://stockx.imgix.net/Nike-Adapt-BB-20-Chicago-2K-Gamer-Exclusive.png?fit=fill&bg=FFFFFF&w=700&h=500&auto=format,compress&q=90&dpr=2&trim=color&updated_at=1584067672   \n",
       "371          https://stockx-360.imgix.net/Nike-Mars-Yard-Overshoe-Tom-Sachs/Images/Nike-Mars-Yard-Overshoe-Tom-Sachs/Lv2/img13.jpg?auto=format,compress&w=559&q=90&dpr=2&updated_at=1546676540   \n",
       "142                                    https://stockx.imgix.net/Nike-HyperAdapt-1pt0-Black.jpg?fit=fill&bg=FFFFFF&w=700&h=500&auto=format,compress&q=90&dpr=2&trim=color&updated_at=1538080256   \n",
       "\n",
       "                                                                                                                                                                                          left  \\\n",
       "928              https://stockx-360.imgix.net/Nike-Air-Fear-Of-God-1-SA-Black/Images/Nike-Air-Fear-Of-God-1-SA-Black/Lv2/img19.jpg?auto=format,compress&w=559&q=90&dpr=2&updated_at=1545175727   \n",
       "37                 https://stockx-360.imgix.net/Nike-Air-Fear-of-God-1-Oatmeal/Images/Nike-Air-Fear-of-God-1-Oatmeal/Lv2/img19.jpg?auto=format,compress&w=559&q=90&dpr=2&updated_at=1573502731   \n",
       "58       https://stockx-360.imgix.net/Nike-Air-Fear-Of-God-1-Orange-Pulse/Images/Nike-Air-Fear-Of-God-1-Orange-Pulse/Lv2/img19.jpg?auto=format,compress&w=559&q=90&dpr=2&updated_at=1559746246   \n",
       "62                                           https://stockx-360.imgix.net/Nike-Adapt-BB-Mag/Images/Nike-Adapt-BB-Mag/Lv2/img19.jpg?auto=format,compress&w=559&q=90&dpr=2&updated_at=1560368697   \n",
       "70           https://stockx-360.imgix.net/Nike-Adapt-BB-Black-Pure-Platinum/Images/Nike-Adapt-BB-Black-Pure-Platinum/Lv2/img19.jpg?auto=format,compress&w=559&q=90&dpr=2&updated_at=1551049122   \n",
       "103  https://stockx-360.imgix.net/Nike-Air-Fear-Of-God-1-Frosted-Spruce/Images/Nike-Air-Fear-Of-God-1-Frosted-Spruce/Lv2/img19.jpg?auto=format,compress&w=559&q=90&dpr=2&updated_at=1559748019   \n",
       "284                  https://stockx-360.imgix.net/Nike-Air-Fear-of-God-1-String/Images/Nike-Air-Fear-of-God-1-String/Lv2/img19.jpg?auto=format,compress&w=559&q=90&dpr=2&updated_at=1582235831   \n",
       "419          https://stockx-360.imgix.net/Nike-Air-Fear-Of-God-1-Sail-Black/Images/Nike-Air-Fear-Of-God-1-Sail-Black/Lv2/img19.jpg?auto=format,compress&w=559&q=90&dpr=2&updated_at=1560373199   \n",
       "552                              https://stockx-360.imgix.net/Nike-Adapt-BB-Dark-Grey/Images/Nike-Adapt-BB-Dark-Grey/Lv2/img19.jpg?auto=format,compress&w=559&q=90&dpr=2&updated_at=1570720485   \n",
       "923                                    https://stockx.imgix.net/Nike-Adapt-Huarache-Yellow.png?fit=fill&bg=FFFFFF&w=700&h=500&auto=format,compress&q=90&dpr=2&trim=color&updated_at=1568041105   \n",
       "66                     https://stockx-360.imgix.net/Nike-Air-Fear-Of-God-1-Black/Images/Nike-Air-Fear-Of-God-1-Black/Lv2/img19.jpg?auto=format,compress&w=559&q=90&dpr=2&updated_at=1544563859   \n",
       "379          https://stockx-360.imgix.net/Nike-Air-Fear-Of-God-1-Light-Bone/Images/Nike-Air-Fear-Of-God-1-Light-Bone/Lv2/img19.jpg?auto=format,compress&w=559&q=90&dpr=2&updated_at=1543943377   \n",
       "240                                  https://stockx-360.imgix.net/Nike-Adapt-BB-2-Black/Images/Nike-Adapt-BB-2-Black/Lv2/img19.jpg?auto=format,compress&w=559&q=90&dpr=2&updated_at=1582323566   \n",
       "475                   https://stockx.imgix.net/Nike-Adapt-BB-20-Chicago-2K-Gamer-Exclusive.png?fit=fill&bg=FFFFFF&w=700&h=500&auto=format,compress&q=90&dpr=2&trim=color&updated_at=1584067672   \n",
       "371          https://stockx-360.imgix.net/Nike-Mars-Yard-Overshoe-Tom-Sachs/Images/Nike-Mars-Yard-Overshoe-Tom-Sachs/Lv2/img19.jpg?auto=format,compress&w=559&q=90&dpr=2&updated_at=1546676540   \n",
       "142                                    https://stockx.imgix.net/Nike-HyperAdapt-1pt0-Black.jpg?fit=fill&bg=FFFFFF&w=700&h=500&auto=format,compress&q=90&dpr=2&trim=color&updated_at=1538080256   \n",
       "\n",
       "                                                                                                                                                                                          back  \\\n",
       "928              https://stockx-360.imgix.net/Nike-Air-Fear-Of-God-1-SA-Black/Images/Nike-Air-Fear-Of-God-1-SA-Black/Lv2/img28.jpg?auto=format,compress&w=559&q=90&dpr=2&updated_at=1545175727   \n",
       "37                 https://stockx-360.imgix.net/Nike-Air-Fear-of-God-1-Oatmeal/Images/Nike-Air-Fear-of-God-1-Oatmeal/Lv2/img28.jpg?auto=format,compress&w=559&q=90&dpr=2&updated_at=1573502731   \n",
       "58       https://stockx-360.imgix.net/Nike-Air-Fear-Of-God-1-Orange-Pulse/Images/Nike-Air-Fear-Of-God-1-Orange-Pulse/Lv2/img28.jpg?auto=format,compress&w=559&q=90&dpr=2&updated_at=1559746246   \n",
       "62                                           https://stockx-360.imgix.net/Nike-Adapt-BB-Mag/Images/Nike-Adapt-BB-Mag/Lv2/img28.jpg?auto=format,compress&w=559&q=90&dpr=2&updated_at=1560368697   \n",
       "70           https://stockx-360.imgix.net/Nike-Adapt-BB-Black-Pure-Platinum/Images/Nike-Adapt-BB-Black-Pure-Platinum/Lv2/img28.jpg?auto=format,compress&w=559&q=90&dpr=2&updated_at=1551049122   \n",
       "103  https://stockx-360.imgix.net/Nike-Air-Fear-Of-God-1-Frosted-Spruce/Images/Nike-Air-Fear-Of-God-1-Frosted-Spruce/Lv2/img28.jpg?auto=format,compress&w=559&q=90&dpr=2&updated_at=1559748019   \n",
       "284                  https://stockx-360.imgix.net/Nike-Air-Fear-of-God-1-String/Images/Nike-Air-Fear-of-God-1-String/Lv2/img28.jpg?auto=format,compress&w=559&q=90&dpr=2&updated_at=1582235831   \n",
       "419          https://stockx-360.imgix.net/Nike-Air-Fear-Of-God-1-Sail-Black/Images/Nike-Air-Fear-Of-God-1-Sail-Black/Lv2/img28.jpg?auto=format,compress&w=559&q=90&dpr=2&updated_at=1560373199   \n",
       "552                              https://stockx-360.imgix.net/Nike-Adapt-BB-Dark-Grey/Images/Nike-Adapt-BB-Dark-Grey/Lv2/img28.jpg?auto=format,compress&w=559&q=90&dpr=2&updated_at=1570720485   \n",
       "923                                    https://stockx.imgix.net/Nike-Adapt-Huarache-Yellow.png?fit=fill&bg=FFFFFF&w=700&h=500&auto=format,compress&q=90&dpr=2&trim=color&updated_at=1568041105   \n",
       "66                     https://stockx-360.imgix.net/Nike-Air-Fear-Of-God-1-Black/Images/Nike-Air-Fear-Of-God-1-Black/Lv2/img28.jpg?auto=format,compress&w=559&q=90&dpr=2&updated_at=1544563859   \n",
       "379          https://stockx-360.imgix.net/Nike-Air-Fear-Of-God-1-Light-Bone/Images/Nike-Air-Fear-Of-God-1-Light-Bone/Lv2/img28.jpg?auto=format,compress&w=559&q=90&dpr=2&updated_at=1543943377   \n",
       "240                                  https://stockx-360.imgix.net/Nike-Adapt-BB-2-Black/Images/Nike-Adapt-BB-2-Black/Lv2/img28.jpg?auto=format,compress&w=559&q=90&dpr=2&updated_at=1582323566   \n",
       "475                   https://stockx.imgix.net/Nike-Adapt-BB-20-Chicago-2K-Gamer-Exclusive.png?fit=fill&bg=FFFFFF&w=700&h=500&auto=format,compress&q=90&dpr=2&trim=color&updated_at=1584067672   \n",
       "371          https://stockx-360.imgix.net/Nike-Mars-Yard-Overshoe-Tom-Sachs/Images/Nike-Mars-Yard-Overshoe-Tom-Sachs/Lv2/img28.jpg?auto=format,compress&w=559&q=90&dpr=2&updated_at=1546676540   \n",
       "142                                    https://stockx.imgix.net/Nike-HyperAdapt-1pt0-Black.jpg?fit=fill&bg=FFFFFF&w=700&h=500&auto=format,compress&q=90&dpr=2&trim=color&updated_at=1538080256   \n",
       "\n",
       "          Style                                      Colorway  RetailPrice  \\\n",
       "928  AT9915-001                                   Black/White        300.0   \n",
       "37   AR4237-900                    Multi-Color/String-Oatmeal        350.0   \n",
       "58   AR4237-800        Orange Pulse/Orange Pulse-Orange Pulse        350.0   \n",
       "62   AO2582-002                      Wolf Grey/Reflect Silver        350.0   \n",
       "70   AO2582-001                     Black/White-Pure Platinum        350.0   \n",
       "103  AR4237-300  Frosted Spruce/Frosted Spruce-Frosted Spruce        350.0   \n",
       "284  AR4237-902           Multi-Color/Off Noir-String-Oatmeal        350.0   \n",
       "419  AR4237-100                                    Sail/Black        350.0   \n",
       "552  AO2582-004                         Dark Grey/Multi-Color        350.0   \n",
       "923  BV6397-710              Bicycle Yellow/Black-Opti Yellow        350.0   \n",
       "66   AR4237-001                                   Black/Black        395.0   \n",
       "379  AR4237-002                               Light Bone/Bone        395.0   \n",
       "240  BQ5397-001                       Black/Multi-Color-Black        400.0   \n",
       "475  BQ5397-900                                 Gym Red/Black        400.0   \n",
       "371  AH7767 101            White/Cobalt Bliss-Sport Red-Black        550.0   \n",
       "142  843871-001                       Black/White-Blue Lagoon        720.0   \n",
       "\n",
       "    ReleaseDate  \n",
       "928  12/15/2018  \n",
       "37   11/02/2019  \n",
       "58   06/01/2019  \n",
       "62   05/29/2019  \n",
       "70   02/17/2019  \n",
       "103  06/01/2019  \n",
       "284  02/28/2020  \n",
       "419  06/08/2019  \n",
       "552  04/19/2019  \n",
       "923  09/13/2019  \n",
       "66   12/15/2018  \n",
       "379  01/19/2019  \n",
       "240  02/16/2020  \n",
       "475  03/14/2020  \n",
       "371  05/09/2019  \n",
       "142  12/01/2016  "
      ]
     },
     "execution_count": 61,
     "metadata": {},
     "output_type": "execute_result"
    }
   ],
   "source": [
    "stockx[stockx.RetailPrice >250].sort_values('RetailPrice')"
   ]
  },
  {
   "cell_type": "code",
   "execution_count": 63,
   "metadata": {
    "ExecuteTime": {
     "end_time": "2020-03-26T17:49:46.567202Z",
     "start_time": "2020-03-26T17:49:46.559605Z"
    }
   },
   "outputs": [
    {
     "data": {
      "text/plain": [
       "'https://stockx-360.imgix.net/Nike-LD-Waffle-Sacai-White-Nylon/Images/Nike-LD-Waffle-Sacai-White-Nylon/Lv2/img01.jpg?auto=format,compress&w=559&q=90&dpr=2&updated_at=1584025585'"
      ]
     },
     "execution_count": 63,
     "metadata": {},
     "output_type": "execute_result"
    }
   ],
   "source": [
    "stockx.right[0]"
   ]
  },
  {
   "cell_type": "markdown",
   "metadata": {},
   "source": [
    "## Downloading the Images"
   ]
  },
  {
   "cell_type": "code",
   "execution_count": 62,
   "metadata": {
    "ExecuteTime": {
     "end_time": "2020-03-26T17:49:19.634364Z",
     "start_time": "2020-03-26T17:49:19.628540Z"
    }
   },
   "outputs": [],
   "source": [
    "import urllib.request"
   ]
  },
  {
   "cell_type": "code",
   "execution_count": 65,
   "metadata": {
    "ExecuteTime": {
     "end_time": "2020-03-26T17:50:01.994444Z",
     "start_time": "2020-03-26T17:50:01.900141Z"
    },
    "scrolled": true
   },
   "outputs": [
    {
     "data": {
      "text/plain": [
       "('images/right/local-filename.jpg', <http.client.HTTPMessage at 0x1a230594e0>)"
      ]
     },
     "execution_count": 65,
     "metadata": {},
     "output_type": "execute_result"
    }
   ],
   "source": [
    "urllib.request.urlretrieve(stockx.right[0], \"images/right/local-filename.jpg\")"
   ]
  },
  {
   "cell_type": "code",
   "execution_count": 80,
   "metadata": {
    "ExecuteTime": {
     "end_time": "2020-03-26T17:59:13.462833Z",
     "start_time": "2020-03-26T17:59:13.361230Z"
    }
   },
   "outputs": [
    {
     "data": {
      "text/plain": [
       "'Nike_LD_Waffle_Sacai_White_Nylon_right.jpg'"
      ]
     },
     "execution_count": 80,
     "metadata": {},
     "output_type": "execute_result"
    }
   ],
   "source": [
    "image_dl(stockx.right[0], stockx.stockx_name[0], 'right')"
   ]
  },
  {
   "cell_type": "code",
   "execution_count": 96,
   "metadata": {
    "ExecuteTime": {
     "end_time": "2020-03-26T18:21:31.814909Z",
     "start_time": "2020-03-26T18:21:31.734596Z"
    }
   },
   "outputs": [
    {
     "ename": "HTTPError",
     "evalue": "HTTP Error 403: Forbidden",
     "output_type": "error",
     "traceback": [
      "\u001b[0;31m---------------------------------------------------------------------------\u001b[0m",
      "\u001b[0;31mHTTPError\u001b[0m                                 Traceback (most recent call last)",
      "\u001b[0;32m<ipython-input-96-10a0e93ba4ae>\u001b[0m in \u001b[0;36m<module>\u001b[0;34m\u001b[0m\n\u001b[0;32m----> 1\u001b[0;31m \u001b[0mimage_dl\u001b[0m\u001b[0;34m(\u001b[0m\u001b[0mstockx\u001b[0m\u001b[0;34m.\u001b[0m\u001b[0miloc\u001b[0m\u001b[0;34m[\u001b[0m\u001b[0;36m0\u001b[0m\u001b[0;34m,\u001b[0m\u001b[0;36m0\u001b[0m\u001b[0;34m]\u001b[0m\u001b[0;34m,\u001b[0m\u001b[0mstockx\u001b[0m\u001b[0;34m.\u001b[0m\u001b[0miloc\u001b[0m\u001b[0;34m[\u001b[0m\u001b[0;36m0\u001b[0m\u001b[0;34m,\u001b[0m\u001b[0;36m6\u001b[0m\u001b[0;34m]\u001b[0m\u001b[0;34m,\u001b[0m\u001b[0;34m'right'\u001b[0m\u001b[0;34m)\u001b[0m\u001b[0;34m\u001b[0m\u001b[0;34m\u001b[0m\u001b[0m\n\u001b[0m",
      "\u001b[0;32m<ipython-input-79-089bdf2e98b0>\u001b[0m in \u001b[0;36mimage_dl\u001b[0;34m(x, name, position)\u001b[0m\n\u001b[1;32m      1\u001b[0m \u001b[0;32mdef\u001b[0m \u001b[0mimage_dl\u001b[0m\u001b[0;34m(\u001b[0m\u001b[0mx\u001b[0m\u001b[0;34m,\u001b[0m \u001b[0mname\u001b[0m\u001b[0;34m,\u001b[0m \u001b[0mposition\u001b[0m\u001b[0;34m)\u001b[0m\u001b[0;34m:\u001b[0m\u001b[0;34m\u001b[0m\u001b[0;34m\u001b[0m\u001b[0m\n\u001b[1;32m      2\u001b[0m     \u001b[0mname\u001b[0m \u001b[0;34m=\u001b[0m \u001b[0mname\u001b[0m\u001b[0;34m.\u001b[0m\u001b[0mreplace\u001b[0m\u001b[0;34m(\u001b[0m\u001b[0;34m' '\u001b[0m\u001b[0;34m,\u001b[0m\u001b[0;34m'_'\u001b[0m\u001b[0;34m)\u001b[0m\u001b[0;34m+\u001b[0m\u001b[0;34m'_'\u001b[0m\u001b[0;34m+\u001b[0m \u001b[0mposition\u001b[0m\u001b[0;34m\u001b[0m\u001b[0;34m\u001b[0m\u001b[0m\n\u001b[0;32m----> 3\u001b[0;31m     \u001b[0murllib\u001b[0m\u001b[0;34m.\u001b[0m\u001b[0mrequest\u001b[0m\u001b[0;34m.\u001b[0m\u001b[0murlretrieve\u001b[0m\u001b[0;34m(\u001b[0m\u001b[0mx\u001b[0m\u001b[0;34m,\u001b[0m \u001b[0;34m\"images/{}/{}.jpg\"\u001b[0m\u001b[0;34m.\u001b[0m\u001b[0mformat\u001b[0m\u001b[0;34m(\u001b[0m\u001b[0mposition\u001b[0m\u001b[0;34m,\u001b[0m \u001b[0mname\u001b[0m\u001b[0;34m)\u001b[0m\u001b[0;34m)\u001b[0m\u001b[0;34m\u001b[0m\u001b[0;34m\u001b[0m\u001b[0m\n\u001b[0m\u001b[1;32m      4\u001b[0m     \u001b[0;32mreturn\u001b[0m \u001b[0mname\u001b[0m \u001b[0;34m+\u001b[0m\u001b[0;34m'.jpg'\u001b[0m\u001b[0;34m\u001b[0m\u001b[0;34m\u001b[0m\u001b[0m\n",
      "\u001b[0;32m/anaconda3/lib/python3.7/urllib/request.py\u001b[0m in \u001b[0;36murlretrieve\u001b[0;34m(url, filename, reporthook, data)\u001b[0m\n\u001b[1;32m    245\u001b[0m     \u001b[0murl_type\u001b[0m\u001b[0;34m,\u001b[0m \u001b[0mpath\u001b[0m \u001b[0;34m=\u001b[0m \u001b[0msplittype\u001b[0m\u001b[0;34m(\u001b[0m\u001b[0murl\u001b[0m\u001b[0;34m)\u001b[0m\u001b[0;34m\u001b[0m\u001b[0;34m\u001b[0m\u001b[0m\n\u001b[1;32m    246\u001b[0m \u001b[0;34m\u001b[0m\u001b[0m\n\u001b[0;32m--> 247\u001b[0;31m     \u001b[0;32mwith\u001b[0m \u001b[0mcontextlib\u001b[0m\u001b[0;34m.\u001b[0m\u001b[0mclosing\u001b[0m\u001b[0;34m(\u001b[0m\u001b[0murlopen\u001b[0m\u001b[0;34m(\u001b[0m\u001b[0murl\u001b[0m\u001b[0;34m,\u001b[0m \u001b[0mdata\u001b[0m\u001b[0;34m)\u001b[0m\u001b[0;34m)\u001b[0m \u001b[0;32mas\u001b[0m \u001b[0mfp\u001b[0m\u001b[0;34m:\u001b[0m\u001b[0;34m\u001b[0m\u001b[0;34m\u001b[0m\u001b[0m\n\u001b[0m\u001b[1;32m    248\u001b[0m         \u001b[0mheaders\u001b[0m \u001b[0;34m=\u001b[0m \u001b[0mfp\u001b[0m\u001b[0;34m.\u001b[0m\u001b[0minfo\u001b[0m\u001b[0;34m(\u001b[0m\u001b[0;34m)\u001b[0m\u001b[0;34m\u001b[0m\u001b[0;34m\u001b[0m\u001b[0m\n\u001b[1;32m    249\u001b[0m \u001b[0;34m\u001b[0m\u001b[0m\n",
      "\u001b[0;32m/anaconda3/lib/python3.7/urllib/request.py\u001b[0m in \u001b[0;36murlopen\u001b[0;34m(url, data, timeout, cafile, capath, cadefault, context)\u001b[0m\n\u001b[1;32m    220\u001b[0m     \u001b[0;32melse\u001b[0m\u001b[0;34m:\u001b[0m\u001b[0;34m\u001b[0m\u001b[0;34m\u001b[0m\u001b[0m\n\u001b[1;32m    221\u001b[0m         \u001b[0mopener\u001b[0m \u001b[0;34m=\u001b[0m \u001b[0m_opener\u001b[0m\u001b[0;34m\u001b[0m\u001b[0;34m\u001b[0m\u001b[0m\n\u001b[0;32m--> 222\u001b[0;31m     \u001b[0;32mreturn\u001b[0m \u001b[0mopener\u001b[0m\u001b[0;34m.\u001b[0m\u001b[0mopen\u001b[0m\u001b[0;34m(\u001b[0m\u001b[0murl\u001b[0m\u001b[0;34m,\u001b[0m \u001b[0mdata\u001b[0m\u001b[0;34m,\u001b[0m \u001b[0mtimeout\u001b[0m\u001b[0;34m)\u001b[0m\u001b[0;34m\u001b[0m\u001b[0;34m\u001b[0m\u001b[0m\n\u001b[0m\u001b[1;32m    223\u001b[0m \u001b[0;34m\u001b[0m\u001b[0m\n\u001b[1;32m    224\u001b[0m \u001b[0;32mdef\u001b[0m \u001b[0minstall_opener\u001b[0m\u001b[0;34m(\u001b[0m\u001b[0mopener\u001b[0m\u001b[0;34m)\u001b[0m\u001b[0;34m:\u001b[0m\u001b[0;34m\u001b[0m\u001b[0;34m\u001b[0m\u001b[0m\n",
      "\u001b[0;32m/anaconda3/lib/python3.7/urllib/request.py\u001b[0m in \u001b[0;36mopen\u001b[0;34m(self, fullurl, data, timeout)\u001b[0m\n\u001b[1;32m    529\u001b[0m         \u001b[0;32mfor\u001b[0m \u001b[0mprocessor\u001b[0m \u001b[0;32min\u001b[0m \u001b[0mself\u001b[0m\u001b[0;34m.\u001b[0m\u001b[0mprocess_response\u001b[0m\u001b[0;34m.\u001b[0m\u001b[0mget\u001b[0m\u001b[0;34m(\u001b[0m\u001b[0mprotocol\u001b[0m\u001b[0;34m,\u001b[0m \u001b[0;34m[\u001b[0m\u001b[0;34m]\u001b[0m\u001b[0;34m)\u001b[0m\u001b[0;34m:\u001b[0m\u001b[0;34m\u001b[0m\u001b[0;34m\u001b[0m\u001b[0m\n\u001b[1;32m    530\u001b[0m             \u001b[0mmeth\u001b[0m \u001b[0;34m=\u001b[0m \u001b[0mgetattr\u001b[0m\u001b[0;34m(\u001b[0m\u001b[0mprocessor\u001b[0m\u001b[0;34m,\u001b[0m \u001b[0mmeth_name\u001b[0m\u001b[0;34m)\u001b[0m\u001b[0;34m\u001b[0m\u001b[0;34m\u001b[0m\u001b[0m\n\u001b[0;32m--> 531\u001b[0;31m             \u001b[0mresponse\u001b[0m \u001b[0;34m=\u001b[0m \u001b[0mmeth\u001b[0m\u001b[0;34m(\u001b[0m\u001b[0mreq\u001b[0m\u001b[0;34m,\u001b[0m \u001b[0mresponse\u001b[0m\u001b[0;34m)\u001b[0m\u001b[0;34m\u001b[0m\u001b[0;34m\u001b[0m\u001b[0m\n\u001b[0m\u001b[1;32m    532\u001b[0m \u001b[0;34m\u001b[0m\u001b[0m\n\u001b[1;32m    533\u001b[0m         \u001b[0;32mreturn\u001b[0m \u001b[0mresponse\u001b[0m\u001b[0;34m\u001b[0m\u001b[0;34m\u001b[0m\u001b[0m\n",
      "\u001b[0;32m/anaconda3/lib/python3.7/urllib/request.py\u001b[0m in \u001b[0;36mhttp_response\u001b[0;34m(self, request, response)\u001b[0m\n\u001b[1;32m    639\u001b[0m         \u001b[0;32mif\u001b[0m \u001b[0;32mnot\u001b[0m \u001b[0;34m(\u001b[0m\u001b[0;36m200\u001b[0m \u001b[0;34m<=\u001b[0m \u001b[0mcode\u001b[0m \u001b[0;34m<\u001b[0m \u001b[0;36m300\u001b[0m\u001b[0;34m)\u001b[0m\u001b[0;34m:\u001b[0m\u001b[0;34m\u001b[0m\u001b[0;34m\u001b[0m\u001b[0m\n\u001b[1;32m    640\u001b[0m             response = self.parent.error(\n\u001b[0;32m--> 641\u001b[0;31m                 'http', request, response, code, msg, hdrs)\n\u001b[0m\u001b[1;32m    642\u001b[0m \u001b[0;34m\u001b[0m\u001b[0m\n\u001b[1;32m    643\u001b[0m         \u001b[0;32mreturn\u001b[0m \u001b[0mresponse\u001b[0m\u001b[0;34m\u001b[0m\u001b[0;34m\u001b[0m\u001b[0m\n",
      "\u001b[0;32m/anaconda3/lib/python3.7/urllib/request.py\u001b[0m in \u001b[0;36merror\u001b[0;34m(self, proto, *args)\u001b[0m\n\u001b[1;32m    567\u001b[0m         \u001b[0;32mif\u001b[0m \u001b[0mhttp_err\u001b[0m\u001b[0;34m:\u001b[0m\u001b[0;34m\u001b[0m\u001b[0;34m\u001b[0m\u001b[0m\n\u001b[1;32m    568\u001b[0m             \u001b[0margs\u001b[0m \u001b[0;34m=\u001b[0m \u001b[0;34m(\u001b[0m\u001b[0mdict\u001b[0m\u001b[0;34m,\u001b[0m \u001b[0;34m'default'\u001b[0m\u001b[0;34m,\u001b[0m \u001b[0;34m'http_error_default'\u001b[0m\u001b[0;34m)\u001b[0m \u001b[0;34m+\u001b[0m \u001b[0morig_args\u001b[0m\u001b[0;34m\u001b[0m\u001b[0;34m\u001b[0m\u001b[0m\n\u001b[0;32m--> 569\u001b[0;31m             \u001b[0;32mreturn\u001b[0m \u001b[0mself\u001b[0m\u001b[0;34m.\u001b[0m\u001b[0m_call_chain\u001b[0m\u001b[0;34m(\u001b[0m\u001b[0;34m*\u001b[0m\u001b[0margs\u001b[0m\u001b[0;34m)\u001b[0m\u001b[0;34m\u001b[0m\u001b[0;34m\u001b[0m\u001b[0m\n\u001b[0m\u001b[1;32m    570\u001b[0m \u001b[0;34m\u001b[0m\u001b[0m\n\u001b[1;32m    571\u001b[0m \u001b[0;31m# XXX probably also want an abstract factory that knows when it makes\u001b[0m\u001b[0;34m\u001b[0m\u001b[0;34m\u001b[0m\u001b[0;34m\u001b[0m\u001b[0m\n",
      "\u001b[0;32m/anaconda3/lib/python3.7/urllib/request.py\u001b[0m in \u001b[0;36m_call_chain\u001b[0;34m(self, chain, kind, meth_name, *args)\u001b[0m\n\u001b[1;32m    501\u001b[0m         \u001b[0;32mfor\u001b[0m \u001b[0mhandler\u001b[0m \u001b[0;32min\u001b[0m \u001b[0mhandlers\u001b[0m\u001b[0;34m:\u001b[0m\u001b[0;34m\u001b[0m\u001b[0;34m\u001b[0m\u001b[0m\n\u001b[1;32m    502\u001b[0m             \u001b[0mfunc\u001b[0m \u001b[0;34m=\u001b[0m \u001b[0mgetattr\u001b[0m\u001b[0;34m(\u001b[0m\u001b[0mhandler\u001b[0m\u001b[0;34m,\u001b[0m \u001b[0mmeth_name\u001b[0m\u001b[0;34m)\u001b[0m\u001b[0;34m\u001b[0m\u001b[0;34m\u001b[0m\u001b[0m\n\u001b[0;32m--> 503\u001b[0;31m             \u001b[0mresult\u001b[0m \u001b[0;34m=\u001b[0m \u001b[0mfunc\u001b[0m\u001b[0;34m(\u001b[0m\u001b[0;34m*\u001b[0m\u001b[0margs\u001b[0m\u001b[0;34m)\u001b[0m\u001b[0;34m\u001b[0m\u001b[0;34m\u001b[0m\u001b[0m\n\u001b[0m\u001b[1;32m    504\u001b[0m             \u001b[0;32mif\u001b[0m \u001b[0mresult\u001b[0m \u001b[0;32mis\u001b[0m \u001b[0;32mnot\u001b[0m \u001b[0;32mNone\u001b[0m\u001b[0;34m:\u001b[0m\u001b[0;34m\u001b[0m\u001b[0;34m\u001b[0m\u001b[0m\n\u001b[1;32m    505\u001b[0m                 \u001b[0;32mreturn\u001b[0m \u001b[0mresult\u001b[0m\u001b[0;34m\u001b[0m\u001b[0;34m\u001b[0m\u001b[0m\n",
      "\u001b[0;32m/anaconda3/lib/python3.7/urllib/request.py\u001b[0m in \u001b[0;36mhttp_error_default\u001b[0;34m(self, req, fp, code, msg, hdrs)\u001b[0m\n\u001b[1;32m    647\u001b[0m \u001b[0;32mclass\u001b[0m \u001b[0mHTTPDefaultErrorHandler\u001b[0m\u001b[0;34m(\u001b[0m\u001b[0mBaseHandler\u001b[0m\u001b[0;34m)\u001b[0m\u001b[0;34m:\u001b[0m\u001b[0;34m\u001b[0m\u001b[0;34m\u001b[0m\u001b[0m\n\u001b[1;32m    648\u001b[0m     \u001b[0;32mdef\u001b[0m \u001b[0mhttp_error_default\u001b[0m\u001b[0;34m(\u001b[0m\u001b[0mself\u001b[0m\u001b[0;34m,\u001b[0m \u001b[0mreq\u001b[0m\u001b[0;34m,\u001b[0m \u001b[0mfp\u001b[0m\u001b[0;34m,\u001b[0m \u001b[0mcode\u001b[0m\u001b[0;34m,\u001b[0m \u001b[0mmsg\u001b[0m\u001b[0;34m,\u001b[0m \u001b[0mhdrs\u001b[0m\u001b[0;34m)\u001b[0m\u001b[0;34m:\u001b[0m\u001b[0;34m\u001b[0m\u001b[0;34m\u001b[0m\u001b[0m\n\u001b[0;32m--> 649\u001b[0;31m         \u001b[0;32mraise\u001b[0m \u001b[0mHTTPError\u001b[0m\u001b[0;34m(\u001b[0m\u001b[0mreq\u001b[0m\u001b[0;34m.\u001b[0m\u001b[0mfull_url\u001b[0m\u001b[0;34m,\u001b[0m \u001b[0mcode\u001b[0m\u001b[0;34m,\u001b[0m \u001b[0mmsg\u001b[0m\u001b[0;34m,\u001b[0m \u001b[0mhdrs\u001b[0m\u001b[0;34m,\u001b[0m \u001b[0mfp\u001b[0m\u001b[0;34m)\u001b[0m\u001b[0;34m\u001b[0m\u001b[0;34m\u001b[0m\u001b[0m\n\u001b[0m\u001b[1;32m    650\u001b[0m \u001b[0;34m\u001b[0m\u001b[0m\n\u001b[1;32m    651\u001b[0m \u001b[0;32mclass\u001b[0m \u001b[0mHTTPRedirectHandler\u001b[0m\u001b[0;34m(\u001b[0m\u001b[0mBaseHandler\u001b[0m\u001b[0;34m)\u001b[0m\u001b[0;34m:\u001b[0m\u001b[0;34m\u001b[0m\u001b[0;34m\u001b[0m\u001b[0m\n",
      "\u001b[0;31mHTTPError\u001b[0m: HTTP Error 403: Forbidden"
     ]
    }
   ],
   "source": [
    "image_dl(stockx.iloc[0,0],stockx.iloc[0,6],'right')"
   ]
  },
  {
   "cell_type": "code",
   "execution_count": 97,
   "metadata": {
    "ExecuteTime": {
     "end_time": "2020-03-26T18:22:29.602894Z",
     "start_time": "2020-03-26T18:22:29.273087Z"
    }
   },
   "outputs": [],
   "source": [
    "for n in range(4):\n",
    "    image_dl(stockx.right[n],stockx.stockx_name[n],'right')"
   ]
  },
  {
   "cell_type": "code",
   "execution_count": 101,
   "metadata": {
    "ExecuteTime": {
     "end_time": "2020-03-26T18:29:16.146201Z",
     "start_time": "2020-03-26T18:29:16.139065Z"
    }
   },
   "outputs": [],
   "source": [
    "stockx_path = pd.DataFrame(columns=['right','r_d','straight','l_d','left','back'])"
   ]
  },
  {
   "cell_type": "code",
   "execution_count": 104,
   "metadata": {
    "ExecuteTime": {
     "end_time": "2020-03-26T18:32:30.444825Z",
     "start_time": "2020-03-26T18:32:30.433004Z"
    }
   },
   "outputs": [
    {
     "data": {
      "text/html": [
       "<div>\n",
       "<style scoped>\n",
       "    .dataframe tbody tr th:only-of-type {\n",
       "        vertical-align: middle;\n",
       "    }\n",
       "\n",
       "    .dataframe tbody tr th {\n",
       "        vertical-align: top;\n",
       "    }\n",
       "\n",
       "    .dataframe thead th {\n",
       "        text-align: right;\n",
       "    }\n",
       "</style>\n",
       "<table border=\"1\" class=\"dataframe\">\n",
       "  <thead>\n",
       "    <tr style=\"text-align: right;\">\n",
       "      <th></th>\n",
       "      <th>right</th>\n",
       "      <th>r_d</th>\n",
       "      <th>straight</th>\n",
       "      <th>l_d</th>\n",
       "      <th>left</th>\n",
       "      <th>back</th>\n",
       "    </tr>\n",
       "  </thead>\n",
       "  <tbody>\n",
       "  </tbody>\n",
       "</table>\n",
       "</div>"
      ],
      "text/plain": [
       "Empty DataFrame\n",
       "Columns: [right, r_d, straight, l_d, left, back]\n",
       "Index: []"
      ]
     },
     "execution_count": 104,
     "metadata": {},
     "output_type": "execute_result"
    }
   ],
   "source": [
    "stockx_path"
   ]
  },
  {
   "cell_type": "code",
   "execution_count": 114,
   "metadata": {
    "ExecuteTime": {
     "end_time": "2020-03-26T18:36:32.818662Z",
     "start_time": "2020-03-26T18:34:56.387372Z"
    }
   },
   "outputs": [],
   "source": [
    "stockx_path['right'] = stockx.apply(lambda x: image_dl(x[6],x[1],'right'), axis=1)"
   ]
  },
  {
   "cell_type": "code",
   "execution_count": null,
   "metadata": {
    "ExecuteTime": {
     "end_time": "2020-03-26T18:43:07.384423Z",
     "start_time": "2020-03-26T18:40:57.108260Z"
    }
   },
   "outputs": [],
   "source": [
    "stockx_path['r_d'] = stockx.apply(lambda x: image_dl(x[7],x[1],'r_d'), axis=1)"
   ]
  },
  {
   "cell_type": "code",
   "execution_count": null,
   "metadata": {
    "ExecuteTime": {
     "end_time": "2020-03-26T18:51:38.204169Z",
     "start_time": "2020-03-26T18:44:28.686977Z"
    }
   },
   "outputs": [],
   "source": [
    "stockx_path['straight'] = stockx.apply(lambda x: image_dl(x[8],x[1],'straight'), axis=1)\n",
    "stockx_path['l_d'] = stockx.apply(lambda x: image_dl(x[9],x[1],'l_d'), axis=1)\n",
    "stockx_path['left'] = stockx.apply(lambda x: image_dl(x[10],x[1],'left'), axis=1)"
   ]
  },
  {
   "cell_type": "code",
   "execution_count": 127,
   "metadata": {
    "ExecuteTime": {
     "end_time": "2020-03-26T18:55:10.660722Z",
     "start_time": "2020-03-26T18:52:17.758263Z"
    }
   },
   "outputs": [],
   "source": [
    "stockx_path['back'] = stockx.apply(lambda x: image_dl(x[11],x[1],'back'), axis=1)"
   ]
  },
  {
   "cell_type": "code",
   "execution_count": 129,
   "metadata": {
    "ExecuteTime": {
     "end_time": "2020-03-26T18:55:47.415481Z",
     "start_time": "2020-03-26T18:55:47.406818Z"
    }
   },
   "outputs": [
    {
     "data": {
      "text/plain": [
       "right       0\n",
       "r_d         0\n",
       "straight    0\n",
       "l_d         0\n",
       "left        0\n",
       "back        2\n",
       "dtype: int64"
      ]
     },
     "execution_count": 129,
     "metadata": {},
     "output_type": "execute_result"
    }
   ],
   "source": [
    "stockx_path.isnull().sum()"
   ]
  },
  {
   "cell_type": "code",
   "execution_count": 138,
   "metadata": {
    "ExecuteTime": {
     "end_time": "2020-03-26T19:01:17.976652Z",
     "start_time": "2020-03-26T19:01:17.970120Z"
    }
   },
   "outputs": [],
   "source": [
    "# the back image, is not present so I will use the right one \n",
    "stockx.iloc[219,11] = stockx.iloc[219,6]"
   ]
  },
  {
   "cell_type": "code",
   "execution_count": 139,
   "metadata": {
    "ExecuteTime": {
     "end_time": "2020-03-26T19:01:21.664813Z",
     "start_time": "2020-03-26T19:01:21.654742Z"
    }
   },
   "outputs": [
    {
     "data": {
      "text/plain": [
       "stockx_link                                                                                                                                                  https://stockx.com/nike-air-more-uptempo-olympic-2016\n",
       "stockx_name                                                                                                                                                                   Nike Air More Uptempo Olympic (2016)\n",
       "type_1                                                                                                                                                                                                  Basketball\n",
       "type_2                                                                                                                                                                                                       Other\n",
       "type_3                                                                                                                                                                                                  Basketball\n",
       "model                                                                                                                                                                                             Air More Uptempo\n",
       "right          https://stockx-360.imgix.net/Nike-Air-More-Uptempo-Olympic-2016_TruView/Images/Nike-Air-More-Uptempo-Olympic-2016_TruView/Lv2/img01.jpg?auto=format,compress&w=559&q=90&dpr=2&updated_at=1538080256\n",
       "r_d            https://stockx-360.imgix.net/Nike-Air-More-Uptempo-Olympic-2016_TruView/Images/Nike-Air-More-Uptempo-Olympic-2016_TruView/Lv2/img04.jpg?auto=format,compress&w=559&q=90&dpr=2&updated_at=1538080256\n",
       "straight       https://stockx-360.imgix.net/Nike-Air-More-Uptempo-Olympic-2016_TruView/Images/Nike-Air-More-Uptempo-Olympic-2016_TruView/Lv2/img10.jpg?auto=format,compress&w=559&q=90&dpr=2&updated_at=1538080256\n",
       "l_d            https://stockx-360.imgix.net/Nike-Air-More-Uptempo-Olympic-2016_TruView/Images/Nike-Air-More-Uptempo-Olympic-2016_TruView/Lv2/img13.jpg?auto=format,compress&w=559&q=90&dpr=2&updated_at=1538080256\n",
       "left           https://stockx-360.imgix.net/Nike-Air-More-Uptempo-Olympic-2016_TruView/Images/Nike-Air-More-Uptempo-Olympic-2016_TruView/Lv2/img19.jpg?auto=format,compress&w=559&q=90&dpr=2&updated_at=1538080256\n",
       "back           https://stockx-360.imgix.net/Nike-Air-More-Uptempo-Olympic-2016_TruView/Images/Nike-Air-More-Uptempo-Olympic-2016_TruView/Lv2/img01.jpg?auto=format,compress&w=559&q=90&dpr=2&updated_at=1538080256\n",
       "Style                                                                                                                                                                                                   414962-104\n",
       "Colorway                                                                                                                                                              Midnight Navy/Midnight Navy-White-Spirit Red\n",
       "RetailPrice                                                                                                                                                                                                    160\n",
       "ReleaseDate                                                                                                                                                                                             07/20/2016\n",
       "Name: 219, dtype: object"
      ]
     },
     "execution_count": 139,
     "metadata": {},
     "output_type": "execute_result"
    }
   ],
   "source": [
    "stockx.iloc[219]"
   ]
  },
  {
   "cell_type": "code",
   "execution_count": 140,
   "metadata": {
    "ExecuteTime": {
     "end_time": "2020-03-26T19:01:43.018075Z",
     "start_time": "2020-03-26T19:01:43.013771Z"
    }
   },
   "outputs": [],
   "source": [
    "stockx.iloc[597,11] = stockx.iloc[597,6]"
   ]
  },
  {
   "cell_type": "code",
   "execution_count": null,
   "metadata": {},
   "outputs": [],
   "source": [
    "# Use the path to right for the path to back"
   ]
  },
  {
   "cell_type": "code",
   "execution_count": 131,
   "metadata": {
    "ExecuteTime": {
     "end_time": "2020-03-26T18:56:43.020374Z",
     "start_time": "2020-03-26T18:56:43.003673Z"
    }
   },
   "outputs": [
    {
     "data": {
      "text/html": [
       "<div>\n",
       "<style scoped>\n",
       "    .dataframe tbody tr th:only-of-type {\n",
       "        vertical-align: middle;\n",
       "    }\n",
       "\n",
       "    .dataframe tbody tr th {\n",
       "        vertical-align: top;\n",
       "    }\n",
       "\n",
       "    .dataframe thead th {\n",
       "        text-align: right;\n",
       "    }\n",
       "</style>\n",
       "<table border=\"1\" class=\"dataframe\">\n",
       "  <thead>\n",
       "    <tr style=\"text-align: right;\">\n",
       "      <th></th>\n",
       "      <th>right</th>\n",
       "      <th>r_d</th>\n",
       "      <th>straight</th>\n",
       "      <th>l_d</th>\n",
       "      <th>left</th>\n",
       "      <th>back</th>\n",
       "    </tr>\n",
       "  </thead>\n",
       "  <tbody>\n",
       "    <tr>\n",
       "      <th>219</th>\n",
       "      <td>Nike_Air_More_Uptempo_Olympic_2016_right.jpg</td>\n",
       "      <td>Nike_Air_More_Uptempo_Olympic_2016_r_d.jpg</td>\n",
       "      <td>Nike_Air_More_Uptempo_Olympic_2016_straight.jpg</td>\n",
       "      <td>Nike_Air_More_Uptempo_Olympic_2016_l_d.jpg</td>\n",
       "      <td>Nike_Air_More_Uptempo_Olympic_2016_left.jpg</td>\n",
       "      <td>NaN</td>\n",
       "    </tr>\n",
       "    <tr>\n",
       "      <th>597</th>\n",
       "      <td>Nike_Dunk_SB_High_Cali_2014_right.jpg</td>\n",
       "      <td>Nike_Dunk_SB_High_Cali_2014_r_d.jpg</td>\n",
       "      <td>Nike_Dunk_SB_High_Cali_2014_straight.jpg</td>\n",
       "      <td>Nike_Dunk_SB_High_Cali_2014_l_d.jpg</td>\n",
       "      <td>Nike_Dunk_SB_High_Cali_2014_left.jpg</td>\n",
       "      <td>NaN</td>\n",
       "    </tr>\n",
       "  </tbody>\n",
       "</table>\n",
       "</div>"
      ],
      "text/plain": [
       "                                            right  \\\n",
       "219  Nike_Air_More_Uptempo_Olympic_2016_right.jpg   \n",
       "597         Nike_Dunk_SB_High_Cali_2014_right.jpg   \n",
       "\n",
       "                                            r_d  \\\n",
       "219  Nike_Air_More_Uptempo_Olympic_2016_r_d.jpg   \n",
       "597         Nike_Dunk_SB_High_Cali_2014_r_d.jpg   \n",
       "\n",
       "                                            straight  \\\n",
       "219  Nike_Air_More_Uptempo_Olympic_2016_straight.jpg   \n",
       "597         Nike_Dunk_SB_High_Cali_2014_straight.jpg   \n",
       "\n",
       "                                            l_d  \\\n",
       "219  Nike_Air_More_Uptempo_Olympic_2016_l_d.jpg   \n",
       "597         Nike_Dunk_SB_High_Cali_2014_l_d.jpg   \n",
       "\n",
       "                                            left back  \n",
       "219  Nike_Air_More_Uptempo_Olympic_2016_left.jpg  NaN  \n",
       "597         Nike_Dunk_SB_High_Cali_2014_left.jpg  NaN  "
      ]
     },
     "execution_count": 131,
     "metadata": {},
     "output_type": "execute_result"
    }
   ],
   "source": [
    "stockx_path[stockx_path.back.isnull() == True]"
   ]
  },
  {
   "cell_type": "code",
   "execution_count": 143,
   "metadata": {
    "ExecuteTime": {
     "end_time": "2020-03-26T19:02:47.790566Z",
     "start_time": "2020-03-26T19:02:47.785904Z"
    }
   },
   "outputs": [],
   "source": [
    "stockx_path.iloc[219,5] = stockx_path.iloc[219,0]\n",
    "stockx_path.iloc[597,5] = stockx_path.iloc[597,0]"
   ]
  },
  {
   "cell_type": "code",
   "execution_count": 144,
   "metadata": {
    "ExecuteTime": {
     "end_time": "2020-03-26T19:02:52.923860Z",
     "start_time": "2020-03-26T19:02:52.914562Z"
    }
   },
   "outputs": [
    {
     "data": {
      "text/html": [
       "<div>\n",
       "<style scoped>\n",
       "    .dataframe tbody tr th:only-of-type {\n",
       "        vertical-align: middle;\n",
       "    }\n",
       "\n",
       "    .dataframe tbody tr th {\n",
       "        vertical-align: top;\n",
       "    }\n",
       "\n",
       "    .dataframe thead th {\n",
       "        text-align: right;\n",
       "    }\n",
       "</style>\n",
       "<table border=\"1\" class=\"dataframe\">\n",
       "  <thead>\n",
       "    <tr style=\"text-align: right;\">\n",
       "      <th></th>\n",
       "      <th>right</th>\n",
       "      <th>r_d</th>\n",
       "      <th>straight</th>\n",
       "      <th>l_d</th>\n",
       "      <th>left</th>\n",
       "      <th>back</th>\n",
       "    </tr>\n",
       "  </thead>\n",
       "  <tbody>\n",
       "  </tbody>\n",
       "</table>\n",
       "</div>"
      ],
      "text/plain": [
       "Empty DataFrame\n",
       "Columns: [right, r_d, straight, l_d, left, back]\n",
       "Index: []"
      ]
     },
     "execution_count": 144,
     "metadata": {},
     "output_type": "execute_result"
    }
   ],
   "source": [
    "stockx_path[stockx_path.back.isnull() == True]"
   ]
  },
  {
   "cell_type": "code",
   "execution_count": 150,
   "metadata": {
    "ExecuteTime": {
     "end_time": "2020-03-26T19:13:15.497504Z",
     "start_time": "2020-03-26T19:13:15.486986Z"
    }
   },
   "outputs": [],
   "source": [
    "stockx_path.right = stockx_path.right.apply(lambda x: 'images/right/'+x)\n",
    "stockx_path.left = stockx_path.left.apply(lambda x: 'images/left/'+x)\n",
    "stockx_path.straight = stockx_path.straight.apply(lambda x: 'images/straight/'+x)\n",
    "stockx_path.r_d = stockx_path.r_d.apply(lambda x: 'images/r_d/'+x)\n",
    "stockx_path.l_d = stockx_path.l_d.apply(lambda x: 'images/l_d/'+x)\n",
    "stockx_path.back = stockx_path.back.apply(lambda x: 'images/back/'+x)"
   ]
  },
  {
   "cell_type": "code",
   "execution_count": 145,
   "metadata": {
    "ExecuteTime": {
     "end_time": "2020-03-26T19:02:59.448915Z",
     "start_time": "2020-03-26T19:02:59.431925Z"
    }
   },
   "outputs": [],
   "source": [
    "stockx_path.to_csv('stockx_path.csv')"
   ]
  },
  {
   "cell_type": "code",
   "execution_count": 151,
   "metadata": {
    "ExecuteTime": {
     "end_time": "2020-03-26T19:13:24.305776Z",
     "start_time": "2020-03-26T19:13:24.286534Z"
    }
   },
   "outputs": [],
   "source": [
    "stockx_path.to_csv('stockx_path_exact.csv')"
   ]
  },
  {
   "cell_type": "code",
   "execution_count": 147,
   "metadata": {
    "ExecuteTime": {
     "end_time": "2020-03-26T19:04:44.082951Z",
     "start_time": "2020-03-26T19:04:44.034521Z"
    }
   },
   "outputs": [],
   "source": [
    "stockx.to_csv('stockx_complete_fixed.csv')"
   ]
  },
  {
   "cell_type": "markdown",
   "metadata": {},
   "source": [
    "## Reassign the picture columns to be picture path"
   ]
  },
  {
   "cell_type": "code",
   "execution_count": 3,
   "metadata": {
    "ExecuteTime": {
     "end_time": "2020-03-26T22:52:33.118502Z",
     "start_time": "2020-03-26T22:52:33.088763Z"
    }
   },
   "outputs": [],
   "source": [
    "stockx_main = pd.read_csv('stockx_complete_fixed.csv',index_col=0)"
   ]
  },
  {
   "cell_type": "code",
   "execution_count": 4,
   "metadata": {
    "ExecuteTime": {
     "end_time": "2020-03-26T22:52:33.839238Z",
     "start_time": "2020-03-26T22:52:33.820527Z"
    }
   },
   "outputs": [],
   "source": [
    "stockx_path_links = pd.read_csv('stockx_path_exact.csv',index_col=0)"
   ]
  },
  {
   "cell_type": "code",
   "execution_count": 6,
   "metadata": {
    "ExecuteTime": {
     "end_time": "2020-03-26T22:52:39.210409Z",
     "start_time": "2020-03-26T22:52:39.202602Z"
    }
   },
   "outputs": [],
   "source": [
    "stockx_main.iloc[:,6:-4] = stockx_path_links"
   ]
  },
  {
   "cell_type": "code",
   "execution_count": 7,
   "metadata": {
    "ExecuteTime": {
     "end_time": "2020-03-26T22:52:40.709956Z",
     "start_time": "2020-03-26T22:52:40.702607Z"
    }
   },
   "outputs": [],
   "source": [
    "stockx_main.type_3 = stockx_main.type_3.apply(model_clean_up)"
   ]
  },
  {
   "cell_type": "code",
   "execution_count": 9,
   "metadata": {
    "ExecuteTime": {
     "end_time": "2020-03-26T22:53:03.687062Z",
     "start_time": "2020-03-26T22:53:03.658853Z"
    }
   },
   "outputs": [],
   "source": [
    "stockx_main.to_csv('stockx_main.csv')"
   ]
  },
  {
   "cell_type": "markdown",
   "metadata": {},
   "source": [
    "## Clean Up the Colorway columns"
   ]
  },
  {
   "cell_type": "code",
   "execution_count": 4,
   "metadata": {
    "ExecuteTime": {
     "end_time": "2020-03-27T13:01:35.459907Z",
     "start_time": "2020-03-27T13:01:35.434296Z"
    }
   },
   "outputs": [],
   "source": [
    "stockx_colour = pd.read_csv('stockx_complete_fixed.csv', index_col=0)"
   ]
  },
  {
   "cell_type": "code",
   "execution_count": 12,
   "metadata": {
    "ExecuteTime": {
     "end_time": "2020-03-27T13:11:12.724977Z",
     "start_time": "2020-03-27T13:11:12.717992Z"
    }
   },
   "outputs": [],
   "source": [
    "stockx_colour['primary'] = stockx_colour.Colorway.apply(lambda x: x.split('/')[0])"
   ]
  },
  {
   "cell_type": "code",
   "execution_count": 18,
   "metadata": {
    "ExecuteTime": {
     "end_time": "2020-03-27T13:21:30.969120Z",
     "start_time": "2020-03-27T13:21:30.965057Z"
    }
   },
   "outputs": [],
   "source": [
    "pd.set_option('display.max_rows',None)"
   ]
  },
  {
   "cell_type": "code",
   "execution_count": 19,
   "metadata": {
    "ExecuteTime": {
     "end_time": "2020-03-27T13:21:37.541874Z",
     "start_time": "2020-03-27T13:21:37.530623Z"
    }
   },
   "outputs": [
    {
     "data": {
      "text/plain": [
       "Black                                                268\n",
       "White                                                213\n",
       "Multi-Color                                           29\n",
       "Sail                                                  21\n",
       "Summit White                                          16\n",
       "University Red                                        15\n",
       "Vast Grey                                             10\n",
       "Wolf Grey                                             10\n",
       "Metallic Gold                                          7\n",
       "Volt                                                   7\n",
       "Phantom                                                7\n",
       "Electric Green                                         6\n",
       "Metallic Silver                                        6\n",
       "Obsidian                                               6\n",
       "Total Orange                                           5\n",
       "Pure Platinum                                          5\n",
       "University Blue                                        4\n",
       "Team Red                                               4\n",
       "Midnight Navy                                          4\n",
       "Light Bone                                             4\n",
       "Orange                                                 4\n",
       "Bright Crimson                                         4\n",
       "Baroque Brown                                          4\n",
       "Tour Yellow                                            4\n",
       "Barely Volt                                            4\n",
       "Anthracite                                             4\n",
       "Medium Olive                                           4\n",
       "Cool Grey                                              3\n",
       "Space Purple                                           3\n",
       "Pale Ivory                                             3\n",
       "Teal Tint                                              3\n",
       "Dusty Peach                                            3\n",
       "Pink                                                   3\n",
       "Ghost Aqua                                             3\n",
       "Varsity Red                                            3\n",
       "Barely Grey                                            3\n",
       "University Gold                                        3\n",
       "Blue                                                   3\n",
       "Gym Red                                                3\n",
       "Atmosphere Grey                                        3\n",
       "Bright Citron                                          3\n",
       "Flax                                                   3\n",
       "Desert Sand                                            3\n",
       "Particle Beige                                         3\n",
       "Deep Royal Blue                                        3\n",
       "Ice Blue                                               2\n",
       "Sequoia                                                2\n",
       "Off Noir                                               2\n",
       "Beige                                                  2\n",
       "Blue Void                                              2\n",
       "Guava Ice                                              2\n",
       "Jetstream                                              2\n",
       "Pacific Blue                                           2\n",
       "Cargo Khaki                                            2\n",
       "Medium Grey                                            2\n",
       "Atomic Violet                                          2\n",
       "Opti Yellow                                            2\n",
       "Light Blue Fury                                        2\n",
       "Blue Fury                                              2\n",
       "Team Orange                                            2\n",
       "Frosted Spruce                                         2\n",
       "Aurora Green                                           2\n",
       "Fossil                                                 2\n",
       "Coral Stardust                                         2\n",
       "Ale Brown                                              2\n",
       "Yellow Ochre                                           2\n",
       "Spruce Aura                                            2\n",
       "Pine Green                                             2\n",
       "Aqua                                                   2\n",
       "Platinum Tint                                          2\n",
       "Game Royal                                             2\n",
       "Lucid Green                                            2\n",
       "Tulip Pink                                             2\n",
       "Lotus Pink                                             2\n",
       "College Navy                                           2\n",
       "Parachute Beige                                        2\n",
       "Sport Red                                              2\n",
       "Natural                                                2\n",
       "Pink Tint                                              2\n",
       "Dark Grey                                              2\n",
       "Desert Ore                                             2\n",
       "Wheat                                                  2\n",
       "Infrared                                               2\n",
       "Grey                                                   2\n",
       "Rust Pink                                              2\n",
       "Light Cream                                            2\n",
       "Light Soft Pink                                        2\n",
       "Lucky Green                                            1\n",
       "Daybreak                                               1\n",
       "Ocean Cube                                             1\n",
       "Pale Pink                                              1\n",
       "Mineral Yellow                                         1\n",
       "Bleached Coral                                         1\n",
       "Hyper Teal                                             1\n",
       "Blue Glaze                                             1\n",
       "Reflect Silver                                         1\n",
       "Navy Heather                                           1\n",
       "Sail Black Sail                                        1\n",
       "Yellow                                                 1\n",
       "Viotech                                                1\n",
       "Tough Red                                              1\n",
       "Off White                                              1\n",
       "Lavender Mist                                          1\n",
       "Chlorine Blue                                          1\n",
       "Dark Obsidian                                          1\n",
       "Green Slate Heather                                    1\n",
       "Aluminum                                               1\n",
       "Psychic Blue                                           1\n",
       "Royal Tint                                             1\n",
       "Blue Jay                                               1\n",
       "Kumquat                                                1\n",
       "Atomic Pink                                            1\n",
       "Chrome                                                 1\n",
       "Port Wine                                              1\n",
       "Plum Chalk                                             1\n",
       "Dark Russet                                            1\n",
       "Yellow Pulse                                           1\n",
       "Safari                                                 1\n",
       "Mars Stone                                             1\n",
       "Red Bark                                               1\n",
       "Dark Smoke Grey                                        1\n",
       "Multi Color                                            1\n",
       "Jersey Gold                                            1\n",
       "Dark Team Red                                          1\n",
       "Metallic Gold Coin                                     1\n",
       "Bronze Eclipse                                         1\n",
       "White Black                                            1\n",
       "Fire Red                                               1\n",
       "Bright Mango                                           1\n",
       "Voltage Purple                                         1\n",
       "Dynamic Yellow                                         1\n",
       "Indigo Fog                                             1\n",
       "Pale Grey                                              1\n",
       "Snake                                                  1\n",
       "Grey Fog                                               1\n",
       "Iron Grey                                              1\n",
       "Fir                                                    1\n",
       "Ocean Fog                                              1\n",
       "Mystic Navy                                            1\n",
       "Muslin                                                 1\n",
       "Action Red                                             1\n",
       "Mountain Blue                                          1\n",
       "Bamboo                                                 1\n",
       "Pro Purple                                             1\n",
       "Pecan                                                  1\n",
       "Electro Green                                          1\n",
       "Shy Pink                                               1\n",
       "Rose Gold                                              1\n",
       "Illusion Green                                         1\n",
       "Ghost Green                                            1\n",
       "Lava Glow                                              1\n",
       "Orange Blaze                                           1\n",
       "Valerian Blue                                          1\n",
       "Bicycle Yellow                                         1\n",
       "Laser Fuchsia                                          1\n",
       "Oracle Aqua                                            1\n",
       "Speed Yellow                                           1\n",
       "Light Liquid Lime                                      1\n",
       "Neutral Grey                                           1\n",
       "Platinum Crimson                                       1\n",
       "Midwest Gold                                           1\n",
       "Light Orewood Brown                                    1\n",
       "Camo Green                                             1\n",
       "Red                                                    1\n",
       "Moss                                                   1\n",
       "Purple                                                 1\n",
       "Vegas Gold                                             1\n",
       "Court Purple                                           1\n",
       "Dark Neon Royal                                        1\n",
       "Racer Blue                                             1\n",
       "Aviator Grey                                           1\n",
       "Amber Rise                                             1\n",
       "Challenge Red                                          1\n",
       "Juniper Fog                                            1\n",
       "Multi color                                            1\n",
       "Light Blue                                             1\n",
       "Smoke Grey                                             1\n",
       "Orange Pulse                                           1\n",
       "Polarized Blue                                         1\n",
       "BLACK                                                  1\n",
       "Navy                                                   1\n",
       "Sand                                                   1\n",
       "Metallic Bronze                                        1\n",
       "Legion Green                                           1\n",
       "Grand Purple                                           1\n",
       "Green Strike                                           1\n",
       "Pony                                                   1\n",
       "Spirit Teal                                            1\n",
       "Cream                                                  1\n",
       "Canvas                                                 1\n",
       "Raw Umber                                              1\n",
       "Cobblestone                                            1\n",
       "Sunset Tint                                            1\n",
       "Regency Purple                                         1\n",
       "Raw Indigo                                             1\n",
       "Brown                                                  1\n",
       "Rope                                                   1\n",
       "Monarch                                                1\n",
       "Thunder Grey                                           1\n",
       "Flash Crimson                                          1\n",
       "Vivid Sky                                              1\n",
       "Binary Blue                                            1\n",
       "Noble Red                                              1\n",
       "Metallic Pewter                                        1\n",
       "Habanero Red                                           1\n",
       "Nightshade                                             1\n",
       "Amarillo                                               1\n",
       "Battle Blue                                            1\n",
       "Team Gold                                              1\n",
       "Work Blue                                              1\n",
       "Racer Pink                                             1\n",
       "Gridiron                                               1\n",
       "Green                                                  1\n",
       "White-Pure Platinum-University Blue-Midnight Navy      1\n",
       "Mahogany                                               1\n",
       "Island Green                                           1\n",
       "Mystic Green                                           1\n",
       "Hyper Jade                                             1\n",
       "Name: Colorway, dtype: int64"
      ]
     },
     "execution_count": 19,
     "metadata": {},
     "output_type": "execute_result"
    }
   ],
   "source": [
    "stockx_colour.primary.value_counts()"
   ]
  },
  {
   "cell_type": "code",
   "execution_count": null,
   "metadata": {},
   "outputs": [],
   "source": [
    "# Main colors I will group to: \n",
    "'yellow', 'orange', 'red', 'pink', 'purple', 'blue', 'green', 'brown', 'neutral', 'white', 'grey', 'black',\n",
    "'multi-color'"
   ]
  },
  {
   "cell_type": "code",
   "execution_count": 83,
   "metadata": {
    "ExecuteTime": {
     "end_time": "2020-03-27T16:59:27.972773Z",
     "start_time": "2020-03-27T16:59:27.958376Z"
    },
    "scrolled": false
   },
   "outputs": [
    {
     "data": {
      "text/html": [
       "<table border=\"1\" class=\"dataframe\">\n",
       "  <thead>\n",
       "    <tr style=\"text-align: right;\">\n",
       "      <th></th>\n",
       "      <th>stockx_link</th>\n",
       "      <th>stockx_name</th>\n",
       "      <th>type_1</th>\n",
       "      <th>type_2</th>\n",
       "      <th>type_3</th>\n",
       "      <th>model</th>\n",
       "      <th>right</th>\n",
       "      <th>r_d</th>\n",
       "      <th>straight</th>\n",
       "      <th>l_d</th>\n",
       "      <th>left</th>\n",
       "      <th>back</th>\n",
       "      <th>Style</th>\n",
       "      <th>Colorway</th>\n",
       "      <th>RetailPrice</th>\n",
       "      <th>ReleaseDate</th>\n",
       "      <th>primary</th>\n",
       "    </tr>\n",
       "  </thead>\n",
       "  <tbody>\n",
       "    <tr>\n",
       "      <th>81</th>\n",
       "      <td>https://stockx.com/nike-react-presto-undercover-mahogany</td>\n",
       "      <td>Nike React Presto Undercover Mahogany</td>\n",
       "      <td>Other</td>\n",
       "      <td>Running</td>\n",
       "      <td>Running</td>\n",
       "      <td>React Presto Undercover</td>\n",
       "      <td><img src=\"https://stockx.imgix.net/Nike-React-Presto-Undercover-Mahogany.png?fit=fill&bg=FFFFFF&w=700&h=500&auto=format,compress&q=90&dpr=2&trim=color&updated_at=1579711008\"/></td>\n",
       "      <td><img src=\"https://stockx.imgix.net/Nike-React-Presto-Undercover-Mahogany.png?fit=fill&bg=FFFFFF&w=700&h=500&auto=format,compress&q=90&dpr=2&trim=color&updated_at=1579711008\"/></td>\n",
       "      <td><img src=\"https://stockx.imgix.net/Nike-React-Presto-Undercover-Mahogany.png?fit=fill&bg=FFFFFF&w=700&h=500&auto=format,compress&q=90&dpr=2&trim=color&updated_at=1579711008\"/></td>\n",
       "      <td><img src=\"https://stockx.imgix.net/Nike-React-Presto-Undercover-Mahogany.png?fit=fill&bg=FFFFFF&w=700&h=500&auto=format,compress&q=90&dpr=2&trim=color&updated_at=1579711008\"/></td>\n",
       "      <td><img src=\"https://stockx.imgix.net/Nike-React-Presto-Undercover-Mahogany.png?fit=fill&bg=FFFFFF&w=700&h=500&auto=format,compress&q=90&dpr=2&trim=color&updated_at=1579711008\"/></td>\n",
       "      <td><img src=\"https://stockx.imgix.net/Nike-React-Presto-Undercover-Mahogany.png?fit=fill&bg=FFFFFF&w=700&h=500&auto=format,compress&q=90&dpr=2&trim=color&updated_at=1579711008\"/></td>\n",
       "      <td>CU3459-200</td>\n",
       "      <td>Mahogany/White-Pueblo Brown-String</td>\n",
       "      <td>180.0</td>\n",
       "      <td>01/28/2020</td>\n",
       "      <td>Mahogany</td>\n",
       "    </tr>\n",
       "  </tbody>\n",
       "</table>"
      ],
      "text/plain": [
       "<IPython.core.display.HTML object>"
      ]
     },
     "execution_count": 83,
     "metadata": {},
     "output_type": "execute_result"
    }
   ],
   "source": [
    "HTML(stockx_colour[stockx_colour.primary == 'Mahogany'].to_html(escape=False ,formatters=dict(right = path_to_image_html, r_d = path_to_image_html,\n",
    "                                                 straight = path_to_image_html, l_d = path_to_image_html,\n",
    "                                                 left = path_to_image_html, back = path_to_image_html)))"
   ]
  },
  {
   "cell_type": "code",
   "execution_count": 50,
   "metadata": {
    "ExecuteTime": {
     "end_time": "2020-03-27T16:20:14.677895Z",
     "start_time": "2020-03-27T16:20:14.673577Z"
    }
   },
   "outputs": [],
   "source": [
    "# I am going to manually change the colour of this one otherwise it will get confused. as it is 'White Black'\n",
    "# and 'white' is the most suitable category for it\n",
    "stockx_colour.iloc[636,-1] = 'white'"
   ]
  },
  {
   "cell_type": "code",
   "execution_count": 82,
   "metadata": {
    "ExecuteTime": {
     "end_time": "2020-03-27T16:59:16.626540Z",
     "start_time": "2020-03-27T16:59:16.621011Z"
    }
   },
   "outputs": [],
   "source": [
    "# I am going to manually change the colour of this one otherwise it will get confused. as it is \n",
    "# 'White-Pure Platinum-University Blue-Midnight Navy' and 'blue' is the most suitable category for it\n",
    "stockx_colour.iloc[442,-1] = 'blue'"
   ]
  },
  {
   "cell_type": "code",
   "execution_count": null,
   "metadata": {},
   "outputs": [],
   "source": []
  },
  {
   "cell_type": "code",
   "execution_count": 90,
   "metadata": {
    "ExecuteTime": {
     "end_time": "2020-03-27T17:05:04.457936Z",
     "start_time": "2020-03-27T17:05:04.449596Z"
    }
   },
   "outputs": [],
   "source": [
    "colour_dict = {'yellow' : ['volt', 'yellow', 'gold', 'citron','canvas','amarillo'],\n",
    "'orange' : ['orange', 'peach', 'dark russet', 'mars stone','mango', 'amber'],\n",
    "'red': ['red','crimson','sequoia', 'port wine', 'lava glow', 'fuchsia'], \n",
    "'pink': ['pink', 'coral', 'lavender', 'plum chalk', 'rose gold', 'platinum crimson','sunset','gridiron'], \n",
    "'purple':['purple','violet'], \n",
    "'blue': ['blue', 'navy', 'teal','aqua','game royal','ocean','royal tint','indigo', \n",
    "         'dark neon royal','sky','nightshade'],\n",
    "'green': ['green', 'olive','safari', 'snake', 'fir', 'bamboo', 'lime', 'juniper fog','umber', 'jade'], \n",
    "'brown' : ['brown', 'khaki', 'desert ore', 'wheat', 'flax', 'kumquat', 'red bark', 'bronze','monarch'], \n",
    "'neutral': ['neutral', 'guava ice','sail','ivory','bone','beige','sand', 'fossil','spruce','natural','cream',\n",
    "            'daybreak', 'muslin'], \n",
    "'white': ['white','phantom', 'black white'], \n",
    "'grey': ['grey', 'platinum', 'silver', 'jetstream', 'infrared', 'off white', 'aluminum', 'chrome','pewter'], \n",
    "'black': ['black', 'anthracite', 'obsidian', 'noir','mahogany'],\n",
    "'multi-color': ['multi-color', 'multi color', 'viotech', 'pecan','moss','pony','cobblestone','rope']}"
   ]
  },
  {
   "cell_type": "code",
   "execution_count": 96,
   "metadata": {
    "ExecuteTime": {
     "end_time": "2020-03-27T17:12:18.976551Z",
     "start_time": "2020-03-27T17:12:18.973214Z"
    }
   },
   "outputs": [],
   "source": [
    "test = stockx_colour.primary"
   ]
  },
  {
   "cell_type": "code",
   "execution_count": 104,
   "metadata": {
    "ExecuteTime": {
     "end_time": "2020-03-27T17:13:44.705155Z",
     "start_time": "2020-03-27T17:13:44.633893Z"
    }
   },
   "outputs": [
    {
     "name": "stdout",
     "output_type": "stream",
     "text": [
      "yellow ['volt', 'yellow', 'gold', 'citron', 'canvas', 'amarillo']\n",
      "orange ['orange', 'peach', 'dark russet', 'mars stone', 'mango', 'amber']\n",
      "red ['red', 'crimson', 'sequoia', 'port wine', 'lava glow', 'fuchsia']\n",
      "pink ['pink', 'coral', 'lavender', 'plum chalk', 'rose gold', 'platinum crimson', 'sunset', 'gridiron']\n",
      "purple ['purple', 'violet']\n",
      "blue ['blue', 'navy', 'teal', 'aqua', 'game royal', 'ocean', 'royal tint', 'indigo', 'dark neon royal', 'sky', 'nightshade']\n",
      "green ['green', 'olive', 'safari', 'snake', 'fir', 'bamboo', 'lime', 'juniper fog', 'umber', 'jade']\n",
      "brown ['brown', 'khaki', 'desert ore', 'wheat', 'flax', 'kumquat', 'red bark', 'bronze', 'monarch']\n",
      "neutral ['neutral', 'guava ice', 'sail', 'ivory', 'bone', 'beige', 'sand', 'fossil', 'spruce', 'natural', 'cream', 'daybreak', 'muslin']\n",
      "white ['white', 'phantom', 'black white']\n",
      "grey ['grey', 'platinum', 'silver', 'jetstream', 'infrared', 'off white', 'aluminum', 'chrome', 'pewter']\n",
      "black ['black', 'anthracite', 'obsidian', 'noir', 'mahogany']\n",
      "multi-color ['multi-color', 'multi color', 'viotech', 'pecan', 'moss', 'pony', 'cobblestone', 'rope']\n"
     ]
    }
   ],
   "source": [
    "for key, value in colour_dict.items():\n",
    "    print(key, value)\n",
    "    for v in value:\n",
    "        test = test.apply(lambda x: key if v in x.lower() else x)"
   ]
  },
  {
   "cell_type": "code",
   "execution_count": 108,
   "metadata": {
    "ExecuteTime": {
     "end_time": "2020-03-27T17:14:11.098843Z",
     "start_time": "2020-03-27T17:14:11.078271Z"
    }
   },
   "outputs": [
    {
     "data": {
      "text/plain": [
       "0            white\n",
       "1            black\n",
       "2            white\n",
       "3            white\n",
       "4              red\n",
       "5            white\n",
       "6             grey\n",
       "7            black\n",
       "8            black\n",
       "9              red\n",
       "10           black\n",
       "11           black\n",
       "12          yellow\n",
       "13           white\n",
       "14             red\n",
       "15           white\n",
       "16           black\n",
       "17     multi-color\n",
       "18           white\n",
       "19           black\n",
       "20           black\n",
       "21           white\n",
       "22           black\n",
       "23           black\n",
       "24            grey\n",
       "25           black\n",
       "26           white\n",
       "27          orange\n",
       "28           white\n",
       "29           white\n",
       "30           black\n",
       "31           white\n",
       "32             red\n",
       "33           white\n",
       "34           black\n",
       "35           white\n",
       "36     multi-color\n",
       "37     multi-color\n",
       "38            blue\n",
       "39           black\n",
       "40           black\n",
       "41         neutral\n",
       "42           white\n",
       "43     multi-color\n",
       "44           black\n",
       "45           black\n",
       "46           white\n",
       "47           black\n",
       "48            blue\n",
       "49           black\n",
       "50           white\n",
       "51            pink\n",
       "52            blue\n",
       "53           white\n",
       "54           white\n",
       "55            blue\n",
       "56           brown\n",
       "57            blue\n",
       "58          orange\n",
       "59          yellow\n",
       "60            grey\n",
       "61             red\n",
       "62            grey\n",
       "63           white\n",
       "64           black\n",
       "65            blue\n",
       "66           black\n",
       "67            grey\n",
       "68           white\n",
       "69     multi-color\n",
       "70           black\n",
       "71     multi-color\n",
       "72         neutral\n",
       "73           white\n",
       "74           black\n",
       "75           black\n",
       "76          yellow\n",
       "77           white\n",
       "78         neutral\n",
       "79           white\n",
       "80           black\n",
       "81           black\n",
       "82            pink\n",
       "83             red\n",
       "84           white\n",
       "85          purple\n",
       "86          orange\n",
       "87         neutral\n",
       "88           brown\n",
       "89            pink\n",
       "90         neutral\n",
       "91          purple\n",
       "92          orange\n",
       "93           white\n",
       "94             red\n",
       "95           black\n",
       "96           white\n",
       "97           black\n",
       "98            grey\n",
       "99           white\n",
       "100           blue\n",
       "101        neutral\n",
       "102          green\n",
       "103        neutral\n",
       "104          green\n",
       "105          white\n",
       "106          black\n",
       "107        neutral\n",
       "108           grey\n",
       "109          white\n",
       "110        neutral\n",
       "111    multi-color\n",
       "112            red\n",
       "113           blue\n",
       "114          brown\n",
       "115          green\n",
       "116          white\n",
       "117            red\n",
       "118    multi-color\n",
       "119         orange\n",
       "120          white\n",
       "121          black\n",
       "122            red\n",
       "123          black\n",
       "124          black\n",
       "125          green\n",
       "126          black\n",
       "127    multi-color\n",
       "128          black\n",
       "129           blue\n",
       "130         yellow\n",
       "131    multi-color\n",
       "132         yellow\n",
       "133          white\n",
       "134          green\n",
       "135          white\n",
       "136          green\n",
       "137           blue\n",
       "138           pink\n",
       "139           blue\n",
       "140            red\n",
       "141          white\n",
       "142          black\n",
       "143        neutral\n",
       "144    multi-color\n",
       "145          green\n",
       "146          black\n",
       "147          white\n",
       "148           grey\n",
       "149           grey\n",
       "150          black\n",
       "151          black\n",
       "152          black\n",
       "153          white\n",
       "154           grey\n",
       "155          black\n",
       "156         yellow\n",
       "157           grey\n",
       "158          white\n",
       "159    multi-color\n",
       "160    multi-color\n",
       "161          white\n",
       "162          black\n",
       "163    multi-color\n",
       "164          brown\n",
       "165          green\n",
       "166          white\n",
       "167          white\n",
       "168          black\n",
       "169        neutral\n",
       "170           blue\n",
       "171          white\n",
       "172          white\n",
       "173          white\n",
       "174          white\n",
       "175           pink\n",
       "176          black\n",
       "177          white\n",
       "178           blue\n",
       "179           blue\n",
       "180        neutral\n",
       "181          black\n",
       "182          black\n",
       "183           blue\n",
       "184          white\n",
       "185          black\n",
       "186          white\n",
       "187          white\n",
       "188          black\n",
       "189          black\n",
       "190          white\n",
       "191           blue\n",
       "192          black\n",
       "193        neutral\n",
       "194          white\n",
       "195         yellow\n",
       "196          white\n",
       "197          black\n",
       "198          white\n",
       "199          green\n",
       "200          white\n",
       "201         purple\n",
       "202          black\n",
       "203          black\n",
       "204          white\n",
       "205          black\n",
       "206           grey\n",
       "207           pink\n",
       "208          white\n",
       "209            red\n",
       "210          black\n",
       "211          black\n",
       "212        neutral\n",
       "213          white\n",
       "214          white\n",
       "215          black\n",
       "216           blue\n",
       "217          black\n",
       "218           grey\n",
       "219           blue\n",
       "220          black\n",
       "221          white\n",
       "222          white\n",
       "223          black\n",
       "224          black\n",
       "225            red\n",
       "226           grey\n",
       "227          white\n",
       "228          white\n",
       "229         yellow\n",
       "230          black\n",
       "231          white\n",
       "232         yellow\n",
       "233          white\n",
       "234          green\n",
       "235          green\n",
       "236         yellow\n",
       "237           blue\n",
       "238          white\n",
       "239          white\n",
       "240          black\n",
       "241         yellow\n",
       "242          black\n",
       "243            red\n",
       "244          brown\n",
       "245           grey\n",
       "246         yellow\n",
       "247        neutral\n",
       "248         yellow\n",
       "249          black\n",
       "250           blue\n",
       "251           grey\n",
       "252          black\n",
       "253          black\n",
       "254        neutral\n",
       "255          white\n",
       "256            red\n",
       "257          green\n",
       "258           grey\n",
       "259            red\n",
       "260          brown\n",
       "261          white\n",
       "262          green\n",
       "263          black\n",
       "264          white\n",
       "265           grey\n",
       "266          black\n",
       "267          white\n",
       "268          white\n",
       "269           grey\n",
       "270          white\n",
       "271          white\n",
       "272          black\n",
       "273          black\n",
       "274          white\n",
       "275          white\n",
       "276          white\n",
       "277          brown\n",
       "278          black\n",
       "279          white\n",
       "280          brown\n",
       "281           grey\n",
       "282            red\n",
       "283          white\n",
       "284    multi-color\n",
       "285          white\n",
       "286          white\n",
       "287           grey\n",
       "288          black\n",
       "289          black\n",
       "290          white\n",
       "291           grey\n",
       "292          white\n",
       "293          white\n",
       "294          black\n",
       "295          black\n",
       "296          black\n",
       "297          black\n",
       "298          white\n",
       "299           blue\n",
       "300           grey\n",
       "301          black\n",
       "302          black\n",
       "303          black\n",
       "304          black\n",
       "305           blue\n",
       "306          black\n",
       "307         yellow\n",
       "308          white\n",
       "309        neutral\n",
       "310          green\n",
       "311          black\n",
       "312            red\n",
       "313            red\n",
       "314          black\n",
       "315           grey\n",
       "316          white\n",
       "317          white\n",
       "318          black\n",
       "319          white\n",
       "320          white\n",
       "321        neutral\n",
       "322          white\n",
       "323          white\n",
       "324          black\n",
       "325          white\n",
       "326            red\n",
       "327          white\n",
       "328         yellow\n",
       "329        neutral\n",
       "330          green\n",
       "331          white\n",
       "332           blue\n",
       "333          black\n",
       "334          white\n",
       "335           grey\n",
       "336          green\n",
       "337          black\n",
       "338         orange\n",
       "339          white\n",
       "340          black\n",
       "341           blue\n",
       "342    multi-color\n",
       "343           blue\n",
       "344        neutral\n",
       "345          white\n",
       "346          black\n",
       "347        neutral\n",
       "348          green\n",
       "349          brown\n",
       "350          black\n",
       "351          black\n",
       "352    multi-color\n",
       "353          white\n",
       "354          black\n",
       "355          black\n",
       "356          black\n",
       "357          white\n",
       "358          black\n",
       "359        neutral\n",
       "360           blue\n",
       "361          black\n",
       "362          white\n",
       "363          white\n",
       "364          green\n",
       "365          black\n",
       "366         orange\n",
       "367          black\n",
       "368          white\n",
       "369          white\n",
       "370          white\n",
       "371          white\n",
       "372          black\n",
       "373          black\n",
       "374          white\n",
       "375            red\n",
       "376          black\n",
       "377    multi-color\n",
       "378          white\n",
       "379        neutral\n",
       "380           grey\n",
       "381         purple\n",
       "382          white\n",
       "383          green\n",
       "384          white\n",
       "385          black\n",
       "386          black\n",
       "387          black\n",
       "388          white\n",
       "389          black\n",
       "390          white\n",
       "391          black\n",
       "392          white\n",
       "393          black\n",
       "394          black\n",
       "395          white\n",
       "396          black\n",
       "397           blue\n",
       "398          black\n",
       "399           grey\n",
       "400          black\n",
       "401          black\n",
       "402          white\n",
       "403           blue\n",
       "404          green\n",
       "405    multi-color\n",
       "406    multi-color\n",
       "407          white\n",
       "408           grey\n",
       "409          white\n",
       "410          white\n",
       "411        neutral\n",
       "412            red\n",
       "413          white\n",
       "414         yellow\n",
       "415    multi-color\n",
       "416          black\n",
       "417           blue\n",
       "418           blue\n",
       "419        neutral\n",
       "420          white\n",
       "421    multi-color\n",
       "422           pink\n",
       "423          black\n",
       "424          white\n",
       "425          white\n",
       "426          black\n",
       "427            red\n",
       "428          white\n",
       "429           blue\n",
       "430          black\n",
       "431          black\n",
       "432    multi-color\n",
       "433          white\n",
       "434    multi-color\n",
       "435          black\n",
       "436          black\n",
       "437          black\n",
       "438           pink\n",
       "439          black\n",
       "440          white\n",
       "441          black\n",
       "442           blue\n",
       "443          black\n",
       "444        neutral\n",
       "445        neutral\n",
       "446          black\n",
       "447          white\n",
       "448          white\n",
       "449          white\n",
       "450          white\n",
       "451           blue\n",
       "452          white\n",
       "453          black\n",
       "454          black\n",
       "455          white\n",
       "456          black\n",
       "457    multi-color\n",
       "458           blue\n",
       "459          white\n",
       "460           blue\n",
       "461            red\n",
       "462          black\n",
       "463          black\n",
       "464          black\n",
       "465          white\n",
       "466            red\n",
       "467          black\n",
       "468          black\n",
       "469    multi-color\n",
       "470            red\n",
       "471          black\n",
       "472          black\n",
       "473            red\n",
       "474          black\n",
       "475            red\n",
       "476          white\n",
       "477          brown\n",
       "478        neutral\n",
       "479          black\n",
       "480         yellow\n",
       "481          black\n",
       "482          brown\n",
       "483         yellow\n",
       "484          white\n",
       "485          black\n",
       "486          black\n",
       "487          black\n",
       "488          black\n",
       "489          black\n",
       "490           grey\n",
       "491          black\n",
       "492          black\n",
       "493          white\n",
       "494          white\n",
       "495          black\n",
       "496          white\n",
       "497          white\n",
       "498          black\n",
       "499           blue\n",
       "500          black\n",
       "501          black\n",
       "502          white\n",
       "503          green\n",
       "504          white\n",
       "505           pink\n",
       "506           grey\n",
       "507          white\n",
       "508          black\n",
       "509          black\n",
       "510          black\n",
       "511          white\n",
       "512          black\n",
       "513          white\n",
       "514           grey\n",
       "515          black\n",
       "516        neutral\n",
       "517           grey\n",
       "518          black\n",
       "519         yellow\n",
       "520           grey\n",
       "521          black\n",
       "522          black\n",
       "523          black\n",
       "524          black\n",
       "525           blue\n",
       "526          black\n",
       "527         purple\n",
       "528          white\n",
       "529          black\n",
       "530         orange\n",
       "531          white\n",
       "532            red\n",
       "533          white\n",
       "534          black\n",
       "535           blue\n",
       "536          black\n",
       "537          white\n",
       "538        neutral\n",
       "539          black\n",
       "540        neutral\n",
       "541         yellow\n",
       "542          white\n",
       "543          white\n",
       "544          black\n",
       "545          black\n",
       "546         yellow\n",
       "547          white\n",
       "548          white\n",
       "549    multi-color\n",
       "550         yellow\n",
       "551          black\n",
       "552           grey\n",
       "553          white\n",
       "554          white\n",
       "555          white\n",
       "556          black\n",
       "557          black\n",
       "558        neutral\n",
       "559          brown\n",
       "560           pink\n",
       "561         yellow\n",
       "562          black\n",
       "563         orange\n",
       "564          black\n",
       "565          black\n",
       "566          black\n",
       "567          black\n",
       "568         purple\n",
       "569           grey\n",
       "570          black\n",
       "571          black\n",
       "572          black\n",
       "573           blue\n",
       "574          black\n",
       "575          white\n",
       "576            red\n",
       "577          black\n",
       "578          white\n",
       "579          black\n",
       "580           blue\n",
       "581        neutral\n",
       "582            red\n",
       "583          black\n",
       "584          white\n",
       "585          black\n",
       "586          green\n",
       "587          black\n",
       "588          green\n",
       "589          black\n",
       "590            red\n",
       "591          black\n",
       "592          black\n",
       "593          black\n",
       "594          black\n",
       "595           grey\n",
       "596          black\n",
       "597    multi-color\n",
       "598          white\n",
       "599           blue\n",
       "600          white\n",
       "601         yellow\n",
       "602          black\n",
       "603         yellow\n",
       "604          white\n",
       "605          black\n",
       "606           grey\n",
       "607          black\n",
       "608            red\n",
       "609          white\n",
       "610          black\n",
       "611          white\n",
       "612          black\n",
       "613          black\n",
       "614        neutral\n",
       "615         yellow\n",
       "616           blue\n",
       "617           pink\n",
       "618          black\n",
       "619          black\n",
       "620         yellow\n",
       "621          black\n",
       "622            red\n",
       "623          green\n",
       "624          brown\n",
       "625          black\n",
       "626          black\n",
       "627          black\n",
       "628    multi-color\n",
       "629           pink\n",
       "630         yellow\n",
       "631          black\n",
       "632         yellow\n",
       "633          black\n",
       "634          black\n",
       "635          white\n",
       "636          white\n",
       "637           pink\n",
       "638           pink\n",
       "639        neutral\n",
       "640          black\n",
       "641           blue\n",
       "642          white\n",
       "643          black\n",
       "644          black\n",
       "645         yellow\n",
       "646            red\n",
       "647           grey\n",
       "648            red\n",
       "649            red\n",
       "650        neutral\n",
       "651        neutral\n",
       "652           pink\n",
       "653        neutral\n",
       "654          green\n",
       "655           grey\n",
       "656        neutral\n",
       "657          white\n",
       "658           grey\n",
       "659           grey\n",
       "660        neutral\n",
       "661          white\n",
       "662          black\n",
       "663          white\n",
       "664            red\n",
       "665         yellow\n",
       "666          white\n",
       "667          white\n",
       "668         orange\n",
       "669          black\n",
       "670           grey\n",
       "671          white\n",
       "672    multi-color\n",
       "673         orange\n",
       "674          black\n",
       "675        neutral\n",
       "676           blue\n",
       "677          white\n",
       "678          white\n",
       "679           grey\n",
       "680          green\n",
       "681           blue\n",
       "682          white\n",
       "683            red\n",
       "684          white\n",
       "685            red\n",
       "686          white\n",
       "687          black\n",
       "688          green\n",
       "689          black\n",
       "690          white\n",
       "691            red\n",
       "692          white\n",
       "693          white\n",
       "694        neutral\n",
       "695          black\n",
       "696          white\n",
       "697          black\n",
       "698          white\n",
       "699          black\n",
       "700          black\n",
       "701          white\n",
       "702          black\n",
       "703         purple\n",
       "704          black\n",
       "705           grey\n",
       "706          white\n",
       "707          white\n",
       "708          white\n",
       "709        neutral\n",
       "710          black\n",
       "711          white\n",
       "712         yellow\n",
       "713          black\n",
       "714         purple\n",
       "715            red\n",
       "716           blue\n",
       "717          black\n",
       "718          black\n",
       "719          white\n",
       "720          white\n",
       "721          black\n",
       "722          black\n",
       "723          white\n",
       "724           grey\n",
       "725          black\n",
       "726           grey\n",
       "727          black\n",
       "728           grey\n",
       "729           grey\n",
       "730            red\n",
       "731          black\n",
       "732          black\n",
       "733          white\n",
       "734          black\n",
       "735          black\n",
       "736           blue\n",
       "737           blue\n",
       "738          black\n",
       "739          white\n",
       "740         yellow\n",
       "741         orange\n",
       "742          white\n",
       "743           pink\n",
       "744         orange\n",
       "745        neutral\n",
       "746          black\n",
       "747           grey\n",
       "748         yellow\n",
       "749          black\n",
       "750          black\n",
       "751         orange\n",
       "752         yellow\n",
       "753          black\n",
       "754    multi-color\n",
       "755          white\n",
       "756          white\n",
       "757          black\n",
       "758           grey\n",
       "759          white\n",
       "760          black\n",
       "761         orange\n",
       "762          white\n",
       "763          white\n",
       "764           grey\n",
       "765           blue\n",
       "766          black\n",
       "767            red\n",
       "768           grey\n",
       "769           blue\n",
       "770          white\n",
       "771         orange\n",
       "772            red\n",
       "773         yellow\n",
       "774          black\n",
       "775          black\n",
       "776           pink\n",
       "777    multi-color\n",
       "778         yellow\n",
       "779          black\n",
       "780          green\n",
       "781        neutral\n",
       "782         yellow\n",
       "783          brown\n",
       "784         yellow\n",
       "785          black\n",
       "786           blue\n",
       "787          black\n",
       "788          black\n",
       "789    multi-color\n",
       "790    multi-color\n",
       "791          white\n",
       "792          white\n",
       "793          black\n",
       "794           pink\n",
       "795          green\n",
       "796           grey\n",
       "797          black\n",
       "798         purple\n",
       "799          green\n",
       "800          black\n",
       "801           blue\n",
       "802          black\n",
       "803          black\n",
       "804          white\n",
       "805          white\n",
       "806           pink\n",
       "807            red\n",
       "808          brown\n",
       "809          black\n",
       "810          white\n",
       "811           pink\n",
       "812          black\n",
       "813           blue\n",
       "814          brown\n",
       "815           blue\n",
       "816          white\n",
       "817         orange\n",
       "818            red\n",
       "819          white\n",
       "820           blue\n",
       "821          white\n",
       "822          white\n",
       "823          black\n",
       "824          black\n",
       "825          black\n",
       "826          black\n",
       "827         yellow\n",
       "828          white\n",
       "829          black\n",
       "830           grey\n",
       "831          white\n",
       "832          black\n",
       "833          white\n",
       "834          white\n",
       "835          brown\n",
       "836           blue\n",
       "837            red\n",
       "838         orange\n",
       "839          black\n",
       "840           blue\n",
       "841        neutral\n",
       "842           pink\n",
       "843          green\n",
       "844          black\n",
       "845          white\n",
       "846          brown\n",
       "847          black\n",
       "848         orange\n",
       "849          black\n",
       "850        neutral\n",
       "851          white\n",
       "852           pink\n",
       "853          white\n",
       "854         yellow\n",
       "855          white\n",
       "856           blue\n",
       "857          white\n",
       "858          brown\n",
       "859          white\n",
       "860           grey\n",
       "861         yellow\n",
       "862    multi-color\n",
       "863          green\n",
       "864           blue\n",
       "865          brown\n",
       "866          black\n",
       "867           pink\n",
       "868          white\n",
       "869          white\n",
       "870         yellow\n",
       "871          white\n",
       "872           blue\n",
       "873        neutral\n",
       "874          black\n",
       "875          white\n",
       "876    multi-color\n",
       "877          white\n",
       "878        neutral\n",
       "879          black\n",
       "880          black\n",
       "881    multi-color\n",
       "882          black\n",
       "883          white\n",
       "884           grey\n",
       "885          white\n",
       "886           blue\n",
       "887          black\n",
       "888          white\n",
       "889          black\n",
       "890        neutral\n",
       "891          black\n",
       "892          black\n",
       "893          white\n",
       "894           grey\n",
       "895          black\n",
       "896           grey\n",
       "897          black\n",
       "898          green\n",
       "899          white\n",
       "900          white\n",
       "901         orange\n",
       "902          white\n",
       "903        neutral\n",
       "904          white\n",
       "905          black\n",
       "906           grey\n",
       "907          white\n",
       "908          white\n",
       "909           blue\n",
       "910        neutral\n",
       "911          black\n",
       "912        neutral\n",
       "913         yellow\n",
       "914          black\n",
       "915        neutral\n",
       "916         yellow\n",
       "917          green\n",
       "918            red\n",
       "919          black\n",
       "920         yellow\n",
       "921          black\n",
       "922          black\n",
       "923         yellow\n",
       "924          brown\n",
       "925          white\n",
       "926         purple\n",
       "927          green\n",
       "928          black\n",
       "929           grey\n",
       "930          white\n",
       "931        neutral\n",
       "932           pink\n",
       "933          white\n",
       "934          black\n",
       "935          white\n",
       "936        neutral\n",
       "937          black\n",
       "938           grey\n",
       "939          black\n",
       "940          white\n",
       "941          black\n",
       "942          white\n",
       "943           blue\n",
       "Name: Colorway, dtype: object"
      ]
     },
     "execution_count": 108,
     "metadata": {},
     "output_type": "execute_result"
    }
   ],
   "source": [
    "test"
   ]
  },
  {
   "cell_type": "code",
   "execution_count": 112,
   "metadata": {
    "ExecuteTime": {
     "end_time": "2020-03-27T17:15:06.256588Z",
     "start_time": "2020-03-27T17:15:06.248549Z"
    }
   },
   "outputs": [
    {
     "data": {
      "text/plain": [
       "0    white\n",
       "1    black\n",
       "2    white\n",
       "3    white\n",
       "4      red\n",
       "Name: Colorway, dtype: object"
      ]
     },
     "execution_count": 112,
     "metadata": {},
     "output_type": "execute_result"
    }
   ],
   "source": [
    "test.head()"
   ]
  },
  {
   "cell_type": "code",
   "execution_count": null,
   "metadata": {},
   "outputs": [],
   "source": []
  },
  {
   "cell_type": "code",
   "execution_count": 12,
   "metadata": {
    "ExecuteTime": {
     "end_time": "2020-03-27T23:08:20.259688Z",
     "start_time": "2020-03-27T23:08:20.232608Z"
    }
   },
   "outputs": [],
   "source": [
    "stockx_main_v2 = pd.read_csv('stockx_main.csv', index_col=0)"
   ]
  },
  {
   "cell_type": "code",
   "execution_count": 117,
   "metadata": {
    "ExecuteTime": {
     "end_time": "2020-03-27T17:16:42.451673Z",
     "start_time": "2020-03-27T17:16:42.446358Z"
    }
   },
   "outputs": [],
   "source": [
    "stockx_main_v2['primary_colour'] = test"
   ]
  },
  {
   "cell_type": "code",
   "execution_count": 13,
   "metadata": {
    "ExecuteTime": {
     "end_time": "2020-03-27T23:08:28.786514Z",
     "start_time": "2020-03-27T23:08:28.756983Z"
    }
   },
   "outputs": [
    {
     "data": {
      "text/html": [
       "<div>\n",
       "<style scoped>\n",
       "    .dataframe tbody tr th:only-of-type {\n",
       "        vertical-align: middle;\n",
       "    }\n",
       "\n",
       "    .dataframe tbody tr th {\n",
       "        vertical-align: top;\n",
       "    }\n",
       "\n",
       "    .dataframe thead th {\n",
       "        text-align: right;\n",
       "    }\n",
       "</style>\n",
       "<table border=\"1\" class=\"dataframe\">\n",
       "  <thead>\n",
       "    <tr style=\"text-align: right;\">\n",
       "      <th></th>\n",
       "      <th>stockx_link</th>\n",
       "      <th>stockx_name</th>\n",
       "      <th>type_1</th>\n",
       "      <th>type_2</th>\n",
       "      <th>type_3</th>\n",
       "      <th>model</th>\n",
       "      <th>right</th>\n",
       "      <th>r_d</th>\n",
       "      <th>straight</th>\n",
       "      <th>l_d</th>\n",
       "      <th>left</th>\n",
       "      <th>back</th>\n",
       "      <th>style</th>\n",
       "      <th>colorway</th>\n",
       "      <th>retailprice</th>\n",
       "      <th>releasedate</th>\n",
       "      <th>primary_colour</th>\n",
       "    </tr>\n",
       "  </thead>\n",
       "  <tbody>\n",
       "    <tr>\n",
       "      <th>0</th>\n",
       "      <td>https://stockx.com/nike-ld-waffle-sacai-white-nylon</td>\n",
       "      <td>Nike LD Waffle Sacai White Nylon</td>\n",
       "      <td>Other</td>\n",
       "      <td>Running</td>\n",
       "      <td>Running</td>\n",
       "      <td>LD Waffle Sacai</td>\n",
       "      <td>images/right/Nike_LD_Waffle_Sacai_White_Nylon_right.jpg</td>\n",
       "      <td>images/r_d/Nike_LD_Waffle_Sacai_White_Nylon_r_d.jpg</td>\n",
       "      <td>images/straight/Nike_LD_Waffle_Sacai_White_Nylon_straight.jpg</td>\n",
       "      <td>images/l_d/Nike_LD_Waffle_Sacai_White_Nylon_r_d.jpg</td>\n",
       "      <td>images/left/Nike_LD_Waffle_Sacai_White_Nylon_left.jpg</td>\n",
       "      <td>images/back/Nike_LD_Waffle_Sacai_White_Nylon_back.jpg</td>\n",
       "      <td>BV0073-101</td>\n",
       "      <td>White/White</td>\n",
       "      <td>160.0</td>\n",
       "      <td>2020-03-10</td>\n",
       "      <td>white</td>\n",
       "    </tr>\n",
       "    <tr>\n",
       "      <th>1</th>\n",
       "      <td>https://stockx.com/nike-ld-waffle-sacai-black-nylon</td>\n",
       "      <td>Nike LD Waffle Sacai Black Nylon</td>\n",
       "      <td>Other</td>\n",
       "      <td>Running</td>\n",
       "      <td>Running</td>\n",
       "      <td>LD Waffle Sacai</td>\n",
       "      <td>images/right/Nike_LD_Waffle_Sacai_Black_Nylon_right.jpg</td>\n",
       "      <td>images/r_d/Nike_LD_Waffle_Sacai_Black_Nylon_r_d.jpg</td>\n",
       "      <td>images/straight/Nike_LD_Waffle_Sacai_Black_Nylon_straight.jpg</td>\n",
       "      <td>images/l_d/Nike_LD_Waffle_Sacai_Black_Nylon_r_d.jpg</td>\n",
       "      <td>images/left/Nike_LD_Waffle_Sacai_Black_Nylon_left.jpg</td>\n",
       "      <td>images/back/Nike_LD_Waffle_Sacai_Black_Nylon_back.jpg</td>\n",
       "      <td>BV0073-002</td>\n",
       "      <td>Black/Black</td>\n",
       "      <td>160.0</td>\n",
       "      <td>2020-03-10</td>\n",
       "      <td>black</td>\n",
       "    </tr>\n",
       "    <tr>\n",
       "      <th>2</th>\n",
       "      <td>https://stockx.com/nike-air-force-1-low-supreme-box-logo-white</td>\n",
       "      <td>Nike Air Force 1 Low Supreme White</td>\n",
       "      <td>Air Force</td>\n",
       "      <td>1</td>\n",
       "      <td>Air Force 1</td>\n",
       "      <td>Air Force 1</td>\n",
       "      <td>images/right/Nike_Air_Force_1_Low_Supreme_White_right.jpg</td>\n",
       "      <td>images/r_d/Nike_Air_Force_1_Low_Supreme_White_r_d.jpg</td>\n",
       "      <td>images/straight/Nike_Air_Force_1_Low_Supreme_White_straight.jpg</td>\n",
       "      <td>images/l_d/Nike_Air_Force_1_Low_Supreme_White_r_d.jpg</td>\n",
       "      <td>images/left/Nike_Air_Force_1_Low_Supreme_White_left.jpg</td>\n",
       "      <td>images/back/Nike_Air_Force_1_Low_Supreme_White_back.jpg</td>\n",
       "      <td>CU9225-100</td>\n",
       "      <td>White/White-White</td>\n",
       "      <td>96.0</td>\n",
       "      <td>2020-03-05</td>\n",
       "      <td>white</td>\n",
       "    </tr>\n",
       "    <tr>\n",
       "      <th>3</th>\n",
       "      <td>https://stockx.com/nike-dunk-low-sp-syracuse</td>\n",
       "      <td>Nike Air Force 1 Low Supreme White</td>\n",
       "      <td>Air Force</td>\n",
       "      <td>1</td>\n",
       "      <td>Air Force 1</td>\n",
       "      <td>Air Force 1</td>\n",
       "      <td>images/right/Nike_Air_Force_1_Low_Supreme_White_right.jpg</td>\n",
       "      <td>images/r_d/Nike_Air_Force_1_Low_Supreme_White_r_d.jpg</td>\n",
       "      <td>images/straight/Nike_Air_Force_1_Low_Supreme_White_straight.jpg</td>\n",
       "      <td>images/l_d/Nike_Air_Force_1_Low_Supreme_White_r_d.jpg</td>\n",
       "      <td>images/left/Nike_Air_Force_1_Low_Supreme_White_left.jpg</td>\n",
       "      <td>images/back/Nike_Air_Force_1_Low_Supreme_White_back.jpg</td>\n",
       "      <td>CU9225-100</td>\n",
       "      <td>White/White-White</td>\n",
       "      <td>96.0</td>\n",
       "      <td>2020-03-05</td>\n",
       "      <td>white</td>\n",
       "    </tr>\n",
       "    <tr>\n",
       "      <th>4</th>\n",
       "      <td>https://stockx.com/nike-air-max-90-reverse-duck-camo-2020</td>\n",
       "      <td>Nike Air Max 90 Reverse Duck Camo (2020)</td>\n",
       "      <td>Air Max</td>\n",
       "      <td>90</td>\n",
       "      <td>Air Max 90</td>\n",
       "      <td>Air Max 90</td>\n",
       "      <td>images/right/Nike_Air_Max_90_Reverse_Duck_Camo_2020_right.jpg</td>\n",
       "      <td>images/r_d/Nike_Air_Max_90_Reverse_Duck_Camo_2020_r_d.jpg</td>\n",
       "      <td>images/straight/Nike_Air_Max_90_Reverse_Duck_Camo_2020_straight.jpg</td>\n",
       "      <td>images/l_d/Nike_Air_Max_90_Reverse_Duck_Camo_2020_r_d.jpg</td>\n",
       "      <td>images/left/Nike_Air_Max_90_Reverse_Duck_Camo_2020_left.jpg</td>\n",
       "      <td>images/back/Nike_Air_Max_90_Reverse_Duck_Camo_2020_back.jpg</td>\n",
       "      <td>CW6024-600</td>\n",
       "      <td>Infrared/Black-Dark Sage-Baroque Brown</td>\n",
       "      <td>140.0</td>\n",
       "      <td>2020-03-26</td>\n",
       "      <td>red</td>\n",
       "    </tr>\n",
       "  </tbody>\n",
       "</table>\n",
       "</div>"
      ],
      "text/plain": [
       "                                                      stockx_link  \\\n",
       "0             https://stockx.com/nike-ld-waffle-sacai-white-nylon   \n",
       "1             https://stockx.com/nike-ld-waffle-sacai-black-nylon   \n",
       "2  https://stockx.com/nike-air-force-1-low-supreme-box-logo-white   \n",
       "3                    https://stockx.com/nike-dunk-low-sp-syracuse   \n",
       "4       https://stockx.com/nike-air-max-90-reverse-duck-camo-2020   \n",
       "\n",
       "                                stockx_name     type_1   type_2       type_3  \\\n",
       "0          Nike LD Waffle Sacai White Nylon      Other  Running      Running   \n",
       "1          Nike LD Waffle Sacai Black Nylon      Other  Running      Running   \n",
       "2        Nike Air Force 1 Low Supreme White  Air Force        1  Air Force 1   \n",
       "3        Nike Air Force 1 Low Supreme White  Air Force        1  Air Force 1   \n",
       "4  Nike Air Max 90 Reverse Duck Camo (2020)    Air Max       90   Air Max 90   \n",
       "\n",
       "             model  \\\n",
       "0  LD Waffle Sacai   \n",
       "1  LD Waffle Sacai   \n",
       "2      Air Force 1   \n",
       "3      Air Force 1   \n",
       "4       Air Max 90   \n",
       "\n",
       "                                                           right  \\\n",
       "0        images/right/Nike_LD_Waffle_Sacai_White_Nylon_right.jpg   \n",
       "1        images/right/Nike_LD_Waffle_Sacai_Black_Nylon_right.jpg   \n",
       "2      images/right/Nike_Air_Force_1_Low_Supreme_White_right.jpg   \n",
       "3      images/right/Nike_Air_Force_1_Low_Supreme_White_right.jpg   \n",
       "4  images/right/Nike_Air_Max_90_Reverse_Duck_Camo_2020_right.jpg   \n",
       "\n",
       "                                                         r_d  \\\n",
       "0        images/r_d/Nike_LD_Waffle_Sacai_White_Nylon_r_d.jpg   \n",
       "1        images/r_d/Nike_LD_Waffle_Sacai_Black_Nylon_r_d.jpg   \n",
       "2      images/r_d/Nike_Air_Force_1_Low_Supreme_White_r_d.jpg   \n",
       "3      images/r_d/Nike_Air_Force_1_Low_Supreme_White_r_d.jpg   \n",
       "4  images/r_d/Nike_Air_Max_90_Reverse_Duck_Camo_2020_r_d.jpg   \n",
       "\n",
       "                                                              straight  \\\n",
       "0        images/straight/Nike_LD_Waffle_Sacai_White_Nylon_straight.jpg   \n",
       "1        images/straight/Nike_LD_Waffle_Sacai_Black_Nylon_straight.jpg   \n",
       "2      images/straight/Nike_Air_Force_1_Low_Supreme_White_straight.jpg   \n",
       "3      images/straight/Nike_Air_Force_1_Low_Supreme_White_straight.jpg   \n",
       "4  images/straight/Nike_Air_Max_90_Reverse_Duck_Camo_2020_straight.jpg   \n",
       "\n",
       "                                                         l_d  \\\n",
       "0        images/l_d/Nike_LD_Waffle_Sacai_White_Nylon_r_d.jpg   \n",
       "1        images/l_d/Nike_LD_Waffle_Sacai_Black_Nylon_r_d.jpg   \n",
       "2      images/l_d/Nike_Air_Force_1_Low_Supreme_White_r_d.jpg   \n",
       "3      images/l_d/Nike_Air_Force_1_Low_Supreme_White_r_d.jpg   \n",
       "4  images/l_d/Nike_Air_Max_90_Reverse_Duck_Camo_2020_r_d.jpg   \n",
       "\n",
       "                                                          left  \\\n",
       "0        images/left/Nike_LD_Waffle_Sacai_White_Nylon_left.jpg   \n",
       "1        images/left/Nike_LD_Waffle_Sacai_Black_Nylon_left.jpg   \n",
       "2      images/left/Nike_Air_Force_1_Low_Supreme_White_left.jpg   \n",
       "3      images/left/Nike_Air_Force_1_Low_Supreme_White_left.jpg   \n",
       "4  images/left/Nike_Air_Max_90_Reverse_Duck_Camo_2020_left.jpg   \n",
       "\n",
       "                                                          back       style  \\\n",
       "0        images/back/Nike_LD_Waffle_Sacai_White_Nylon_back.jpg  BV0073-101   \n",
       "1        images/back/Nike_LD_Waffle_Sacai_Black_Nylon_back.jpg  BV0073-002   \n",
       "2      images/back/Nike_Air_Force_1_Low_Supreme_White_back.jpg  CU9225-100   \n",
       "3      images/back/Nike_Air_Force_1_Low_Supreme_White_back.jpg  CU9225-100   \n",
       "4  images/back/Nike_Air_Max_90_Reverse_Duck_Camo_2020_back.jpg  CW6024-600   \n",
       "\n",
       "                                 colorway  retailprice releasedate  \\\n",
       "0                             White/White        160.0  2020-03-10   \n",
       "1                             Black/Black        160.0  2020-03-10   \n",
       "2                       White/White-White         96.0  2020-03-05   \n",
       "3                       White/White-White         96.0  2020-03-05   \n",
       "4  Infrared/Black-Dark Sage-Baroque Brown        140.0  2020-03-26   \n",
       "\n",
       "  primary_colour  \n",
       "0          white  \n",
       "1          black  \n",
       "2          white  \n",
       "3          white  \n",
       "4            red  "
      ]
     },
     "execution_count": 13,
     "metadata": {},
     "output_type": "execute_result"
    }
   ],
   "source": [
    "stockx_main_v2.head()"
   ]
  },
  {
   "cell_type": "code",
   "execution_count": 16,
   "metadata": {
    "ExecuteTime": {
     "end_time": "2020-03-27T23:09:29.171325Z",
     "start_time": "2020-03-27T23:09:29.166097Z"
    }
   },
   "outputs": [],
   "source": [
    "stockx_main_v2.l_d = stockx_main_v2.l_d.apply(lambda x: x.replace('_r_d','_l_d'))"
   ]
  },
  {
   "cell_type": "code",
   "execution_count": 5,
   "metadata": {
    "ExecuteTime": {
     "end_time": "2020-03-27T17:21:29.955550Z",
     "start_time": "2020-03-27T17:21:29.951739Z"
    }
   },
   "outputs": [],
   "source": [
    "stockx_main_v2.columns = [col.lower() for col in stockx_main_v2.columns]"
   ]
  },
  {
   "cell_type": "code",
   "execution_count": 10,
   "metadata": {
    "ExecuteTime": {
     "end_time": "2020-03-27T17:39:25.551820Z",
     "start_time": "2020-03-27T17:39:25.545329Z"
    }
   },
   "outputs": [],
   "source": [
    "stockx_main_v2.releasedate = pd.to_datetime(stockx_main_v2.releasedate)"
   ]
  },
  {
   "cell_type": "code",
   "execution_count": 17,
   "metadata": {
    "ExecuteTime": {
     "end_time": "2020-03-27T23:09:30.769485Z",
     "start_time": "2020-03-27T23:09:30.722126Z"
    }
   },
   "outputs": [],
   "source": [
    "stockx_main_v2.to_csv('stockx_main.csv')"
   ]
  },
  {
   "cell_type": "code",
   "execution_count": null,
   "metadata": {},
   "outputs": [],
   "source": []
  }
 ],
 "metadata": {
  "kernelspec": {
   "display_name": "Python 3",
   "language": "python",
   "name": "python3"
  },
  "language_info": {
   "codemirror_mode": {
    "name": "ipython",
    "version": 3
   },
   "file_extension": ".py",
   "mimetype": "text/x-python",
   "name": "python",
   "nbconvert_exporter": "python",
   "pygments_lexer": "ipython3",
   "version": "3.7.1"
  },
  "toc": {
   "base_numbering": 1,
   "nav_menu": {},
   "number_sections": true,
   "sideBar": true,
   "skip_h1_title": false,
   "title_cell": "Table of Contents",
   "title_sidebar": "Contents",
   "toc_cell": false,
   "toc_position": {},
   "toc_section_display": true,
   "toc_window_display": false
  }
 },
 "nbformat": 4,
 "nbformat_minor": 4
}
